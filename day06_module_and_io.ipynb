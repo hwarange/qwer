{
  "cells": [
    {
      "cell_type": "markdown",
      "metadata": {
        "id": "mZoepzGCkfk8"
      },
      "source": [
        "# 9.파이썬 모듈"
      ]
    },
    {
      "cell_type": "markdown",
      "metadata": {
        "id": "co_EH3TINa6_"
      },
      "source": [
        "## 9.1 모듈과 import"
      ]
    },
    {
      "cell_type": "markdown",
      "metadata": {
        "id": "goP2BMG0lZcr"
      },
      "source": [
        "### 9.1.1 모듈이란?\n",
        "\n",
        "모듈(module)이란 언제든지 사용할 수 있도록  \n",
        "변수나 함수 또는 클래스를 모아 놓은 파이썬 파일.  \n",
        "따라서 모든 파이썬 파일은 모듈이 될 수 있음."
      ]
    },
    {
      "cell_type": "markdown",
      "metadata": {
        "id": "l5jLbftAQfiz"
      },
      "source": [
        "### 9.1.2 모듈의 생성\n",
        "\n",
        "converter.py라는 이름으로 다음과 같은 파일 저장\n",
        "```python\n",
        "MILES = 0.621371\n",
        "POUND = 0.00220462\n",
        "\n",
        "def kilometer_to_miles(kilometer):\n",
        "  return kilometer * MILES\n",
        "\n",
        "def gram_to_pounds(gram):\n",
        "  return gram * POUND\n",
        "```"
      ]
    },
    {
      "cell_type": "markdown",
      "metadata": {
        "id": "9VJ9h2qjglLT"
      },
      "source": [
        "### 9.1.3 모듈의 사용\n",
        "\n",
        "모듈을 사용하기 위해서는 import를 해야 함.  \n",
        "import에는 두 가지 방법이 존재.  \n",
        "\n",
        "모듈에 저장된 모든 클래스나 함수를 사용하고자 할 때 사용.\n",
        "```python\n",
        "import module\n",
        "```\n",
        "\n",
        "모듈에 포함된 함수나 클래스 중 특정한 것만 골라서 가져오는 방법.  \n",
        "1번은 하나만 가져오는 방법, 2번은 2개, 3번은 전체를 가지고 오는 방법\n",
        "```python\n",
        "from module import function\n",
        "from module import function1, function2\n",
        "from module import *\n",
        "```\n"
      ]
    },
    {
      "cell_type": "code",
      "execution_count": 4,
      "metadata": {},
      "outputs": [
        {
          "name": "stdout",
          "output_type": "stream",
          "text": [
            "0.621371\n",
            "0.00220462\n",
            "62.137100000000004\n",
            "0.220462\n"
          ]
        }
      ],
      "source": [
        "import converter\n",
        "\n",
        "print(converter.MILES)\n",
        "print(converter.POUND)\n",
        "\n",
        "print(converter.kilometer_to_miles(100))\n",
        "print(converter.gram_to_pounds(100))"
      ]
    },
    {
      "cell_type": "code",
      "execution_count": 7,
      "metadata": {},
      "outputs": [
        {
          "name": "stdout",
          "output_type": "stream",
          "text": [
            "0.621371\n",
            "0.00220462\n"
          ]
        }
      ],
      "source": [
        "from converter import MILES, POUND # 이렇게 불러오면 convert.을 생략할 수 있다.\n",
        "from converter import * # convert안에 모든 내용을 끄집어 오겠다.\n",
        "\n",
        "print(MILES)\n",
        "print(POUND)"
      ]
    },
    {
      "cell_type": "code",
      "execution_count": 18,
      "metadata": {},
      "outputs": [],
      "source": [
        "# 함수이름이 겹치면 나중에 불러온 친구를 쓴다.\n",
        "# 다른 모듈 함수이름과 겹치지않게 고민을 해야함"
      ]
    },
    {
      "cell_type": "code",
      "execution_count": 1,
      "metadata": {},
      "outputs": [
        {
          "name": "stdout",
          "output_type": "stream",
          "text": [
            "Hello_World\n"
          ]
        }
      ],
      "source": [
        "from Hello_World import Hello_World\n",
        "\n",
        "Hello_World()"
      ]
    },
    {
      "cell_type": "markdown",
      "metadata": {
        "id": "QuCYU56VhOqu"
      },
      "source": [
        "### 9.1.4 별명 사용하기\n",
        "\n",
        "모듈이나 함수를 import하는 경우 원래 이름 대신 별명을 지정하고 사용 가능.  \n",
        "함수나 클래스의 이름이 긴 경우 주로 짧은 별명을 지정하고 긴 본래 이름 대신 사용.  \n",
        "별명을 지정할 때는 as라는 키워드 사용\n",
        "\n",
        "```python\n",
        "import module as 별명\n",
        "```\n",
        "\n"
      ]
    },
    {
      "cell_type": "code",
      "execution_count": 3,
      "metadata": {},
      "outputs": [
        {
          "data": {
            "text/plain": [
              "0.220462"
            ]
          },
          "execution_count": 3,
          "metadata": {},
          "output_type": "execute_result"
        }
      ],
      "source": [
        "import converter as cv # cv = converter\n",
        "\n",
        "cv.gram_to_pounds(100)"
      ]
    },
    {
      "cell_type": "code",
      "execution_count": 4,
      "metadata": {},
      "outputs": [
        {
          "name": "stdout",
          "output_type": "stream",
          "text": [
            "0.220462\n"
          ]
        }
      ],
      "source": [
        "from converter import gram_to_pounds as gtp\n",
        "# 이러한 as를 사용해서 줄이는 것은 사전에 약속이 된 것이 아니면 안하는 것이 좋다.\n",
        "# 무슨 의미인지 파악하기 힘듦\n",
        "print(gtp(100))"
      ]
    },
    {
      "cell_type": "markdown",
      "metadata": {
        "id": "JlWD8y8PkYdW"
      },
      "source": [
        "## 9.2 표준 모듈의 활용"
      ]
    },
    {
      "cell_type": "markdown",
      "metadata": {
        "id": "DPnMaVXokxpB"
      },
      "source": [
        "### 9.2.1 math 모듈"
      ]
    },
    {
      "cell_type": "code",
      "execution_count": 6,
      "metadata": {},
      "outputs": [],
      "source": [
        "import math"
      ]
    },
    {
      "cell_type": "markdown",
      "metadata": {
        "id": "HRt2v8k6k_jX"
      },
      "source": [
        "#### pi\n",
        "\n",
        "pi값을 출력"
      ]
    },
    {
      "cell_type": "code",
      "execution_count": 7,
      "metadata": {},
      "outputs": [
        {
          "data": {
            "text/plain": [
              "3.141592653589793"
            ]
          },
          "execution_count": 7,
          "metadata": {},
          "output_type": "execute_result"
        }
      ],
      "source": [
        "math.pi"
      ]
    },
    {
      "cell_type": "markdown",
      "metadata": {
        "id": "BbbU3Okek_nU"
      },
      "source": [
        "#### ceil()\n",
        "\n",
        "정수로 올림"
      ]
    },
    {
      "cell_type": "code",
      "execution_count": 8,
      "metadata": {},
      "outputs": [
        {
          "data": {
            "text/plain": [
              "3"
            ]
          },
          "execution_count": 8,
          "metadata": {},
          "output_type": "execute_result"
        }
      ],
      "source": [
        "math.ceil(2.14)"
      ]
    },
    {
      "cell_type": "markdown",
      "metadata": {
        "id": "22-lGad-k_zh"
      },
      "source": [
        "#### floor()\n",
        "\n",
        "정수로 내림"
      ]
    },
    {
      "cell_type": "code",
      "execution_count": 10,
      "metadata": {},
      "outputs": [
        {
          "data": {
            "text/plain": [
              "-3"
            ]
          },
          "execution_count": 10,
          "metadata": {},
          "output_type": "execute_result"
        }
      ],
      "source": [
        "math.floor(2.14)\n",
        "math.floor(-2.14)"
      ]
    },
    {
      "cell_type": "markdown",
      "metadata": {
        "id": "stEWQs22k_1v"
      },
      "source": [
        "#### trunc()\n",
        "\n",
        "정수로 절사.  \n",
        "floor과 비교 시 양수에서는 차이가 없으나,  \n",
        "음수 처리 시 차이 존재."
      ]
    },
    {
      "cell_type": "code",
      "execution_count": 11,
      "metadata": {},
      "outputs": [
        {
          "name": "stdout",
          "output_type": "stream",
          "text": [
            "-3\n",
            "-2\n"
          ]
        }
      ],
      "source": [
        "print(math.floor(-2.14))\n",
        "\n",
        "print(math.trunc(-2.14))\n"
      ]
    },
    {
      "cell_type": "markdown",
      "metadata": {
        "id": "pp_rE59Vk_3q"
      },
      "source": [
        "#### sqrt()\n",
        "\n",
        "제곱근 계산"
      ]
    },
    {
      "cell_type": "code",
      "execution_count": 12,
      "metadata": {},
      "outputs": [
        {
          "data": {
            "text/plain": [
              "2.0"
            ]
          },
          "execution_count": 12,
          "metadata": {},
          "output_type": "execute_result"
        }
      ],
      "source": [
        "math.sqrt(4)"
      ]
    },
    {
      "cell_type": "code",
      "execution_count": 14,
      "metadata": {},
      "outputs": [
        {
          "data": {
            "text/plain": [
              "2.0"
            ]
          },
          "execution_count": 14,
          "metadata": {},
          "output_type": "execute_result"
        }
      ],
      "source": [
        "4 ** 0.5\n",
        "pow(4, 0.5)"
      ]
    },
    {
      "cell_type": "markdown",
      "metadata": {
        "id": "CYSaBtTllGwG"
      },
      "source": [
        "#### pow()\n",
        "\n",
        "제곱 계산"
      ]
    },
    {
      "cell_type": "code",
      "execution_count": 15,
      "metadata": {},
      "outputs": [
        {
          "data": {
            "text/plain": [
              "4.0"
            ]
          },
          "execution_count": 15,
          "metadata": {},
          "output_type": "execute_result"
        }
      ],
      "source": [
        "math.pow(2, 2)"
      ]
    },
    {
      "cell_type": "markdown",
      "metadata": {
        "id": "ZxKSxFAXkxzv"
      },
      "source": [
        "### 9.2.2 random 모듈"
      ]
    },
    {
      "cell_type": "code",
      "execution_count": 16,
      "metadata": {
        "id": "uO00ltZ0mOrM"
      },
      "outputs": [],
      "source": [
        "import random\n"
      ]
    },
    {
      "cell_type": "markdown",
      "metadata": {
        "id": "pW15yhnImRBJ"
      },
      "source": [
        "##### randint()\n",
        "\n",
        "전달하는 두 인수 사이의 정수를 임의로 생성"
      ]
    },
    {
      "cell_type": "code",
      "execution_count": 89,
      "metadata": {},
      "outputs": [
        {
          "data": {
            "text/plain": [
              "8"
            ]
          },
          "execution_count": 89,
          "metadata": {},
          "output_type": "execute_result"
        }
      ],
      "source": [
        "random.randint(1, 10) # 이 친구는 뒤에 숫자가 범위 내로 포함됨"
      ]
    },
    {
      "cell_type": "markdown",
      "metadata": {
        "id": "xKiWkFa0mRtQ"
      },
      "source": [
        "##### randrange()\n",
        "\n",
        "특정 범위에 속한 정수 중 하나만 임의로 생성"
      ]
    },
    {
      "cell_type": "code",
      "execution_count": 124,
      "metadata": {},
      "outputs": [
        {
          "name": "stdout",
          "output_type": "stream",
          "text": [
            "5\n"
          ]
        }
      ],
      "source": [
        "print(random.randrange(10))"
      ]
    },
    {
      "cell_type": "code",
      "execution_count": 111,
      "metadata": {},
      "outputs": [
        {
          "name": "stdout",
          "output_type": "stream",
          "text": [
            "Help on method randrange in module random:\n",
            "\n",
            "randrange(start, stop=None, step=1) method of random.Random instance\n",
            "    Choose a random item from range(stop) or range(start, stop[, step]).\n",
            "\n",
            "    Roughly equivalent to ``choice(range(start, stop, step))`` but\n",
            "    supports arbitrarily large ranges and is optimized for common cases.\n",
            "\n"
          ]
        }
      ],
      "source": [
        "help(random.randrange)"
      ]
    },
    {
      "cell_type": "code",
      "execution_count": null,
      "metadata": {},
      "outputs": [
        {
          "name": "stdout",
          "output_type": "stream",
          "text": [
            "5\n"
          ]
        }
      ],
      "source": [
        "print(random.randrange(10))"
      ]
    },
    {
      "cell_type": "code",
      "execution_count": 194,
      "metadata": {},
      "outputs": [
        {
          "name": "stdout",
          "output_type": "stream",
          "text": [
            "str: 6\n",
            "dex: 6\n",
            "int: 5\n",
            "lux: 8\n"
          ]
        }
      ],
      "source": [
        "# 스탯의 총 합: 25\n",
        "# 스탯 최솟값: 4\n",
        "# 스탯의 최댓값: 7\n",
        "\n",
        "def stat_roll():\n",
        "    str = random.randrange(4, 8)\n",
        "    dex = random.randrange(4, 8)\n",
        "    int = random.randrange(4, 8)\n",
        "    lux = 25 - str - dex - int\n",
        "\n",
        "    print(f'str: {str}')\n",
        "    print(f'dex: {dex}')\n",
        "    print(f'int: {int}')\n",
        "    print(f'lux: {lux}')\n",
        "\n",
        "stat_roll()\n",
        "    "
      ]
    },
    {
      "cell_type": "markdown",
      "metadata": {
        "id": "f-nZYgdBmRwo"
      },
      "source": [
        "##### random()\n",
        "\n",
        "0이상 1미만 범위에서 임의의 실수 생성"
      ]
    },
    {
      "cell_type": "code",
      "execution_count": 203,
      "metadata": {},
      "outputs": [
        {
          "name": "stdout",
          "output_type": "stream",
          "text": [
            "Help on float object:\n",
            "\n",
            "class float(object)\n",
            " |  float(x=0, /)\n",
            " |\n",
            " |  Convert a string or number to a floating point number, if possible.\n",
            " |\n",
            " |  Methods defined here:\n",
            " |\n",
            " |  __abs__(self, /)\n",
            " |      abs(self)\n",
            " |\n",
            " |  __add__(self, value, /)\n",
            " |      Return self+value.\n",
            " |\n",
            " |  __bool__(self, /)\n",
            " |      True if self else False\n",
            " |\n",
            " |  __ceil__(self, /)\n",
            " |      Return the ceiling as an Integral.\n",
            " |\n",
            " |  __divmod__(self, value, /)\n",
            " |      Return divmod(self, value).\n",
            " |\n",
            " |  __eq__(self, value, /)\n",
            " |      Return self==value.\n",
            " |\n",
            " |  __float__(self, /)\n",
            " |      float(self)\n",
            " |\n",
            " |  __floor__(self, /)\n",
            " |      Return the floor as an Integral.\n",
            " |\n",
            " |  __floordiv__(self, value, /)\n",
            " |      Return self//value.\n",
            " |\n",
            " |  __format__(self, format_spec, /)\n",
            " |      Formats the float according to format_spec.\n",
            " |\n",
            " |  __ge__(self, value, /)\n",
            " |      Return self>=value.\n",
            " |\n",
            " |  __getattribute__(self, name, /)\n",
            " |      Return getattr(self, name).\n",
            " |\n",
            " |  __getnewargs__(self, /)\n",
            " |\n",
            " |  __gt__(self, value, /)\n",
            " |      Return self>value.\n",
            " |\n",
            " |  __hash__(self, /)\n",
            " |      Return hash(self).\n",
            " |\n",
            " |  __int__(self, /)\n",
            " |      int(self)\n",
            " |\n",
            " |  __le__(self, value, /)\n",
            " |      Return self<=value.\n",
            " |\n",
            " |  __lt__(self, value, /)\n",
            " |      Return self<value.\n",
            " |\n",
            " |  __mod__(self, value, /)\n",
            " |      Return self%value.\n",
            " |\n",
            " |  __mul__(self, value, /)\n",
            " |      Return self*value.\n",
            " |\n",
            " |  __ne__(self, value, /)\n",
            " |      Return self!=value.\n",
            " |\n",
            " |  __neg__(self, /)\n",
            " |      -self\n",
            " |\n",
            " |  __pos__(self, /)\n",
            " |      +self\n",
            " |\n",
            " |  __pow__(self, value, mod=None, /)\n",
            " |      Return pow(self, value, mod).\n",
            " |\n",
            " |  __radd__(self, value, /)\n",
            " |      Return value+self.\n",
            " |\n",
            " |  __rdivmod__(self, value, /)\n",
            " |      Return divmod(value, self).\n",
            " |\n",
            " |  __repr__(self, /)\n",
            " |      Return repr(self).\n",
            " |\n",
            " |  __rfloordiv__(self, value, /)\n",
            " |      Return value//self.\n",
            " |\n",
            " |  __rmod__(self, value, /)\n",
            " |      Return value%self.\n",
            " |\n",
            " |  __rmul__(self, value, /)\n",
            " |      Return value*self.\n",
            " |\n",
            " |  __round__(self, ndigits=None, /)\n",
            " |      Return the Integral closest to x, rounding half toward even.\n",
            " |\n",
            " |      When an argument is passed, work like built-in round(x, ndigits).\n",
            " |\n",
            " |  __rpow__(self, value, mod=None, /)\n",
            " |      Return pow(value, self, mod).\n",
            " |\n",
            " |  __rsub__(self, value, /)\n",
            " |      Return value-self.\n",
            " |\n",
            " |  __rtruediv__(self, value, /)\n",
            " |      Return value/self.\n",
            " |\n",
            " |  __sub__(self, value, /)\n",
            " |      Return self-value.\n",
            " |\n",
            " |  __truediv__(self, value, /)\n",
            " |      Return self/value.\n",
            " |\n",
            " |  __trunc__(self, /)\n",
            " |      Return the Integral closest to x between 0 and x.\n",
            " |\n",
            " |  as_integer_ratio(self, /)\n",
            " |      Return a pair of integers, whose ratio is exactly equal to the original float.\n",
            " |\n",
            " |      The ratio is in lowest terms and has a positive denominator.  Raise\n",
            " |      OverflowError on infinities and a ValueError on NaNs.\n",
            " |\n",
            " |      >>> (10.0).as_integer_ratio()\n",
            " |      (10, 1)\n",
            " |      >>> (0.0).as_integer_ratio()\n",
            " |      (0, 1)\n",
            " |      >>> (-.25).as_integer_ratio()\n",
            " |      (-1, 4)\n",
            " |\n",
            " |  conjugate(self, /)\n",
            " |      Return self, the complex conjugate of any float.\n",
            " |\n",
            " |  hex(self, /)\n",
            " |      Return a hexadecimal representation of a floating-point number.\n",
            " |\n",
            " |      >>> (-0.1).hex()\n",
            " |      '-0x1.999999999999ap-4'\n",
            " |      >>> 3.14159.hex()\n",
            " |      '0x1.921f9f01b866ep+1'\n",
            " |\n",
            " |  is_integer(self, /)\n",
            " |      Return True if the float is an integer.\n",
            " |\n",
            " |  ----------------------------------------------------------------------\n",
            " |  Class methods defined here:\n",
            " |\n",
            " |  __getformat__(typestr, /)\n",
            " |      You probably don't want to use this function.\n",
            " |\n",
            " |        typestr\n",
            " |          Must be 'double' or 'float'.\n",
            " |\n",
            " |      It exists mainly to be used in Python's test suite.\n",
            " |\n",
            " |      This function returns whichever of 'unknown', 'IEEE, big-endian' or 'IEEE,\n",
            " |      little-endian' best describes the format of floating point numbers used by the\n",
            " |      C type named by typestr.\n",
            " |\n",
            " |  fromhex(string, /)\n",
            " |      Create a floating-point number from a hexadecimal string.\n",
            " |\n",
            " |      >>> float.fromhex('0x1.ffffp10')\n",
            " |      2047.984375\n",
            " |      >>> float.fromhex('-0x1p-1074')\n",
            " |      -5e-324\n",
            " |\n",
            " |  ----------------------------------------------------------------------\n",
            " |  Static methods defined here:\n",
            " |\n",
            " |  __new__(*args, **kwargs)\n",
            " |      Create and return a new object.  See help(type) for accurate signature.\n",
            " |\n",
            " |  ----------------------------------------------------------------------\n",
            " |  Data descriptors defined here:\n",
            " |\n",
            " |  imag\n",
            " |      the imaginary part of a complex number\n",
            " |\n",
            " |  real\n",
            " |      the real part of a complex number\n",
            "\n"
          ]
        }
      ],
      "source": [
        "help(random.random())"
      ]
    },
    {
      "cell_type": "code",
      "execution_count": 317,
      "metadata": {},
      "outputs": [
        {
          "name": "stdout",
          "output_type": "stream",
          "text": [
            "7.713914582795979\n"
          ]
        }
      ],
      "source": [
        "# 1 ~ 10의 값이 출력되도록 random 함수 적절하게 변형\n",
        "\n",
        "R_Num = random.random() * 10 + 1\n",
        "\n",
        "print(R_Num)\n"
      ]
    },
    {
      "cell_type": "markdown",
      "metadata": {
        "id": "pxzR-zLkmRzi"
      },
      "source": [
        "##### choice()\n",
        "\n",
        "전달된 시퀀스 자료형 요소 중 하나를 임의로 반환.  "
      ]
    },
    {
      "cell_type": "code",
      "execution_count": 332,
      "metadata": {},
      "outputs": [
        {
          "data": {
            "text/plain": [
              "1"
            ]
          },
          "execution_count": 332,
          "metadata": {},
          "output_type": "execute_result"
        }
      ],
      "source": [
        "random.choice([1, 2, 3])"
      ]
    },
    {
      "cell_type": "markdown",
      "metadata": {
        "id": "q4kHNwzzmR2Q"
      },
      "source": [
        "##### sample()\n",
        "전달된 시퀀스 자료형 요소 중 지정된 개수를 임의로 반환.  \n",
        "반환 결과는 리스트 자료형이며 중복 없이 임의의 요소 선택."
      ]
    },
    {
      "cell_type": "code",
      "execution_count": 475,
      "metadata": {},
      "outputs": [
        {
          "name": "stdout",
          "output_type": "stream",
          "text": [
            "오늘의 번호는:  [29, 26, 6, 32, 44, 45]\n",
            "오늘의 번호는:  [7, 45, 21, 11, 8, 10]\n",
            "오늘의 번호는:  [41, 35, 2, 19, 5, 21]\n",
            "오늘의 번호는:  [44, 39, 3, 24, 29, 38]\n",
            "오늘의 번호는:  [14, 18, 1, 7, 11, 45]\n",
            "오늘의 번호는:  [26, 19, 13, 27, 6, 34]\n",
            "오늘의 번호는:  [15, 38, 29, 24, 3, 13]\n",
            "오늘의 번호는:  [45, 9, 41, 21, 30, 16]\n",
            "오늘의 번호는:  [39, 10, 1, 22, 16, 12]\n",
            "오늘의 번호는:  [36, 22, 20, 5, 4, 13]\n"
          ]
        }
      ],
      "source": [
        "# [6, 7, 19, 28, 34, 41]\n",
        "\n",
        "def random_ticket():\n",
        "    for _ in range(10):\n",
        "        print('오늘의 번호는: ',random.sample(range(1, 46), 6))\n",
        "\n",
        "random_ticket()"
      ]
    },
    {
      "cell_type": "code",
      "execution_count": 483,
      "metadata": {},
      "outputs": [
        {
          "name": "stderr",
          "output_type": "stream",
          "text": [
            " 53%|█████▎    | 53274019/100000000 [02:26<02:08, 364101.73it/s]\n"
          ]
        },
        {
          "ename": "KeyboardInterrupt",
          "evalue": "",
          "output_type": "error",
          "traceback": [
            "\u001b[1;31m---------------------------------------------------------------------------\u001b[0m",
            "\u001b[1;31mKeyboardInterrupt\u001b[0m                         Traceback (most recent call last)",
            "Cell \u001b[1;32mIn[483], line 17\u001b[0m\n\u001b[0;32m     13\u001b[0m             count \u001b[38;5;241m+\u001b[39m\u001b[38;5;241m=\u001b[39m\u001b[38;5;241m1\u001b[39m\n\u001b[0;32m     15\u001b[0m     \u001b[38;5;28;01mreturn\u001b[39;00m count\n\u001b[1;32m---> 17\u001b[0m lottery(\u001b[38;5;241m100000000000\u001b[39m)\n",
            "Cell \u001b[1;32mIn[483], line 10\u001b[0m, in \u001b[0;36mlottery\u001b[1;34m(money)\u001b[0m\n\u001b[0;32m      8\u001b[0m count \u001b[38;5;241m=\u001b[39m \u001b[38;5;241m0\u001b[39m\n\u001b[0;32m      9\u001b[0m \u001b[38;5;28;01mfor\u001b[39;00m _  \u001b[38;5;129;01min\u001b[39;00m tqdm(\u001b[38;5;28mrange\u001b[39m(money\u001b[38;5;241m/\u001b[39m\u001b[38;5;241m/\u001b[39m\u001b[38;5;241m1000\u001b[39m)):\n\u001b[1;32m---> 10\u001b[0m     my_numbers \u001b[38;5;241m=\u001b[39m random\u001b[38;5;241m.\u001b[39msample(\u001b[38;5;28mrange\u001b[39m(\u001b[38;5;241m1\u001b[39m, \u001b[38;5;241m46\u001b[39m), \u001b[38;5;241m6\u001b[39m)\n\u001b[0;32m     11\u001b[0m     \u001b[38;5;28;01mif\u001b[39;00m win_numbers \u001b[38;5;241m==\u001b[39m my_numbers:\n\u001b[0;32m     12\u001b[0m         \u001b[38;5;28mprint\u001b[39m(\u001b[38;5;124m'\u001b[39m\u001b[38;5;124m당첨\u001b[39m\u001b[38;5;124m'\u001b[39m)\n",
            "File \u001b[1;32mc:\\Users\\USER\\anaconda3\\Lib\\random.py:440\u001b[0m, in \u001b[0;36mRandom.sample\u001b[1;34m(self, population, k, counts)\u001b[0m\n\u001b[0;32m    438\u001b[0m pool \u001b[38;5;241m=\u001b[39m \u001b[38;5;28mlist\u001b[39m(population)\n\u001b[0;32m    439\u001b[0m \u001b[38;5;28;01mfor\u001b[39;00m i \u001b[38;5;129;01min\u001b[39;00m \u001b[38;5;28mrange\u001b[39m(k):\n\u001b[1;32m--> 440\u001b[0m     j \u001b[38;5;241m=\u001b[39m randbelow(n \u001b[38;5;241m-\u001b[39m i)\n\u001b[0;32m    441\u001b[0m     result[i] \u001b[38;5;241m=\u001b[39m pool[j]\n\u001b[0;32m    442\u001b[0m     pool[j] \u001b[38;5;241m=\u001b[39m pool[n \u001b[38;5;241m-\u001b[39m i \u001b[38;5;241m-\u001b[39m \u001b[38;5;241m1\u001b[39m]  \u001b[38;5;66;03m# move non-selected item into vacancy\u001b[39;00m\n",
            "File \u001b[1;32mc:\\Users\\USER\\anaconda3\\Lib\\random.py:247\u001b[0m, in \u001b[0;36mRandom._randbelow_with_getrandbits\u001b[1;34m(self, n)\u001b[0m\n\u001b[0;32m    245\u001b[0m getrandbits \u001b[38;5;241m=\u001b[39m \u001b[38;5;28mself\u001b[39m\u001b[38;5;241m.\u001b[39mgetrandbits\n\u001b[0;32m    246\u001b[0m k \u001b[38;5;241m=\u001b[39m n\u001b[38;5;241m.\u001b[39mbit_length()\n\u001b[1;32m--> 247\u001b[0m r \u001b[38;5;241m=\u001b[39m getrandbits(k)  \u001b[38;5;66;03m# 0 <= r < 2**k\u001b[39;00m\n\u001b[0;32m    248\u001b[0m \u001b[38;5;28;01mwhile\u001b[39;00m r \u001b[38;5;241m>\u001b[39m\u001b[38;5;241m=\u001b[39m n:\n\u001b[0;32m    249\u001b[0m     r \u001b[38;5;241m=\u001b[39m getrandbits(k)\n",
            "\u001b[1;31mKeyboardInterrupt\u001b[0m: "
          ]
        }
      ],
      "source": [
        "# 금주 로또 번호: [6, 7, 19, 28, 34, 41]\n",
        "from tqdm import tqdm\n",
        "\n",
        "win_numbers = [6, 7, 19, 28, 34, 41]\n",
        "def lottery(money):\n",
        "    assert money%1000 == 0, '1000원 단위로 구매할 수 있습니다.'\n",
        "\n",
        "    count = 0\n",
        "    for _  in tqdm(range(money//1000)):\n",
        "        my_numbers = random.sample(range(1, 46), 6)\n",
        "        if win_numbers == my_numbers:\n",
        "            print('당첨')\n",
        "            count +=1\n",
        "\n",
        "    return count\n",
        "\n"
      ]
    },
    {
      "cell_type": "markdown",
      "metadata": {
        "id": "M_aBAcVsmR9U"
      },
      "source": [
        "##### shuffle()\n",
        "\n",
        "전달된 시퀀스를 임의로 섞음."
      ]
    },
    {
      "cell_type": "code",
      "execution_count": 333,
      "metadata": {},
      "outputs": [
        {
          "data": {
            "text/plain": [
              "[2, 3, 5, 1, 4]"
            ]
          },
          "execution_count": 333,
          "metadata": {},
          "output_type": "execute_result"
        }
      ],
      "source": [
        "list_ = [1, 2, 3, 4, 5]\n",
        "\n",
        "random.shuffle(list_) # 이 함수도 None값을 리턴하고 원본에 영향을 주는 함수이다.\n",
        "list_\n",
        "\n",
        "# 시퀀스 = 인덱싱이 되는 자료형 (리스트, 튜플 등)"
      ]
    },
    {
      "cell_type": "code",
      "execution_count": 335,
      "metadata": {},
      "outputs": [
        {
          "name": "stdout",
          "output_type": "stream",
          "text": [
            "AABCDafzzstring index out of range\n"
          ]
        }
      ],
      "source": []
    },
    {
      "cell_type": "markdown",
      "metadata": {
        "id": "mFem-URIkx3E"
      },
      "source": [
        "### 9.2.3 time 모듈"
      ]
    },
    {
      "cell_type": "code",
      "execution_count": 484,
      "metadata": {
        "id": "VLCovlIznk-J"
      },
      "outputs": [],
      "source": [
        "import time"
      ]
    },
    {
      "cell_type": "markdown",
      "metadata": {
        "id": "v4pZxedtnmdR"
      },
      "source": [
        "#### time() 함수\n",
        "\n",
        "1970년 1월 1일 0시 0분 1초부터 현재까지 경과된 시간 반환.  \n",
        "소숫점 이하는 마이크로초 의미."
      ]
    },
    {
      "cell_type": "code",
      "execution_count": 509,
      "metadata": {},
      "outputs": [
        {
          "data": {
            "text/plain": [
              "1723429244.514915"
            ]
          },
          "execution_count": 509,
          "metadata": {},
          "output_type": "execute_result"
        }
      ],
      "source": [
        "time.time()"
      ]
    },
    {
      "cell_type": "code",
      "execution_count": 512,
      "metadata": {},
      "outputs": [
        {
          "name": "stderr",
          "output_type": "stream",
          "text": [
            "100%|██████████| 100/100 [00:00<00:00, 99532.61it/s]\n"
          ]
        },
        {
          "data": {
            "text/plain": [
              "0.003998756408691406"
            ]
          },
          "execution_count": 512,
          "metadata": {},
          "output_type": "execute_result"
        }
      ],
      "source": [
        "start_time = time.time() # 여기서 시작시간 기록\n",
        "\n",
        "lottery(100000)\n",
        "\n",
        "time.time() - start_time # 로터리 함수가 돌아가는데 걸린 시간"
      ]
    },
    {
      "cell_type": "markdown",
      "metadata": {
        "id": "LPZgJAFFnoeL"
      },
      "source": [
        "#### ctime() 함수\n",
        "\n",
        "인수로 전달된 시간을 형식을 갖춰 반환"
      ]
    },
    {
      "cell_type": "code",
      "execution_count": 513,
      "metadata": {},
      "outputs": [
        {
          "data": {
            "text/plain": [
              "'Mon Aug 12 11:22:58 2024'"
            ]
          },
          "execution_count": 513,
          "metadata": {},
          "output_type": "execute_result"
        }
      ],
      "source": [
        "time.ctime(time.time())"
      ]
    },
    {
      "cell_type": "markdown",
      "metadata": {
        "id": "nTDksqvonpSA"
      },
      "source": [
        "#### strftime() 함수\n",
        "\n",
        "인수로 전달된 날짜와 지시자를 이용하여 형식을 갖춘 날짜 데이터가 문자열로 반환.  \n",
        "지시자는 대소문자를 구분."
      ]
    },
    {
      "cell_type": "code",
      "execution_count": 517,
      "metadata": {},
      "outputs": [
        {
          "data": {
            "text/plain": [
              "'2024-08-12 Mon 11:25:42'"
            ]
          },
          "execution_count": 517,
          "metadata": {},
          "output_type": "execute_result"
        }
      ],
      "source": [
        "time.strftime('%Y-%m-%d %a %H:%M:%S')"
      ]
    },
    {
      "cell_type": "markdown",
      "metadata": {
        "id": "gaPuKyQynpY8"
      },
      "source": [
        "#### sleep()\n",
        "\n",
        "인수로 전달된 초(second) 만큼 시스템 정지"
      ]
    },
    {
      "cell_type": "code",
      "execution_count": 518,
      "metadata": {},
      "outputs": [
        {
          "name": "stdout",
          "output_type": "stream",
          "text": [
            "hello world\n",
            "done\n"
          ]
        }
      ],
      "source": [
        "print('hello world')\n",
        "\n",
        "time.sleep(10)\n",
        "\n",
        "print('done')"
      ]
    },
    {
      "cell_type": "markdown",
      "metadata": {
        "id": "tbLcIsgmkx5F"
      },
      "source": [
        "### 9.2.4 datetime 모듈"
      ]
    },
    {
      "cell_type": "code",
      "execution_count": 519,
      "metadata": {
        "id": "FmURKQg7oeCZ"
      },
      "outputs": [],
      "source": [
        "import datetime"
      ]
    },
    {
      "cell_type": "markdown",
      "metadata": {
        "id": "Tx0c6QY9ogpS"
      },
      "source": [
        "##### now()\n",
        "\n",
        "시스템의 현재 날짜와 시간 반환"
      ]
    },
    {
      "cell_type": "code",
      "execution_count": null,
      "metadata": {},
      "outputs": [],
      "source": [
        "datetime.datetime.now() # 모듈네임, 클래스, 함수 순으로 가져옴"
      ]
    },
    {
      "cell_type": "markdown",
      "metadata": {
        "id": "HfJLpLIJohJl"
      },
      "source": [
        "#### date()\n",
        "\n",
        "특정 날짜를 만들어 반환"
      ]
    },
    {
      "cell_type": "code",
      "execution_count": 520,
      "metadata": {},
      "outputs": [
        {
          "data": {
            "text/plain": [
              "datetime.date(2024, 8, 12)"
            ]
          },
          "execution_count": 520,
          "metadata": {},
          "output_type": "execute_result"
        }
      ],
      "source": [
        "datetime.date(2024, 8, 12) # date클래스에 생성자를 넣어 클래스 객체를 만듦"
      ]
    },
    {
      "cell_type": "markdown",
      "metadata": {
        "id": "vLYeGVi6ohN6"
      },
      "source": [
        "#### time()\n",
        "\n",
        "특정 시간을 만들어 반환"
      ]
    },
    {
      "cell_type": "code",
      "execution_count": 522,
      "metadata": {},
      "outputs": [
        {
          "data": {
            "text/plain": [
              "datetime.time(11, 38, 20)"
            ]
          },
          "execution_count": 522,
          "metadata": {},
          "output_type": "execute_result"
        }
      ],
      "source": [
        "datetime.time(11, 38, 20)"
      ]
    },
    {
      "cell_type": "markdown",
      "metadata": {
        "id": "qMriB2VWohQ4"
      },
      "source": [
        "#### 날짜/시간 관련 필드값\n",
        "\n",
        "특정 날짜에서 원하는 데이터만 추출하고자 하는 경우 해당 필드값 이용"
      ]
    },
    {
      "cell_type": "code",
      "execution_count": 523,
      "metadata": {},
      "outputs": [],
      "source": [
        "today = datetime.datetime.now()"
      ]
    },
    {
      "cell_type": "code",
      "execution_count": 524,
      "metadata": {},
      "outputs": [
        {
          "name": "stdout",
          "output_type": "stream",
          "text": [
            "2024\n",
            "8\n",
            "12\n",
            "11\n",
            "40\n",
            "14\n",
            "668261\n"
          ]
        }
      ],
      "source": [
        "print(today.year)\n",
        "print(today.month)\n",
        "print(today.day)\n",
        "print(today.hour)\n",
        "print(today.minute)\n",
        "print(today.second)\n",
        "print(today.microsecond)"
      ]
    },
    {
      "cell_type": "markdown",
      "metadata": {
        "id": "T255ajP5ohTc"
      },
      "source": [
        "#### timedelta()\n",
        "\n",
        "시간/날짜 데이터 연산을 위해 사용\n",
        "\n",
        "|구분  |사용 방법|\n",
        "|------|--------------------|\n",
        "|1주   |timedelta(weeks=1)  |\n",
        "|1일   |timedelta(days=1)  |\n",
        "|1시간 |timedelta(hours=1)  |\n",
        "|1분   |timedelta(minutes=1)|\n",
        "|1초   |timedelta(seconds=1)|"
      ]
    },
    {
      "cell_type": "code",
      "execution_count": 526,
      "metadata": {},
      "outputs": [
        {
          "name": "stdout",
          "output_type": "stream",
          "text": [
            "2024-08-11 11:45:32.417379\n",
            "2024-08-05 11:45:32.417379\n"
          ]
        }
      ],
      "source": [
        "today = datetime.datetime.now()\n",
        "\n",
        "yesterday = today - datetime.timedelta(days=1)\n",
        "print(yesterday)\n",
        "last_week = today - datetime.timedelta(weeks=1)\n",
        "print(last_week)"
      ]
    },
    {
      "cell_type": "markdown",
      "metadata": {
        "id": "Yqp26_asohWn"
      },
      "source": [
        "#### total_seconds()\n",
        "\n",
        "어떤 기간에 포함된 총 시간을 초(seconds)로 반환."
      ]
    },
    {
      "cell_type": "code",
      "execution_count": 527,
      "metadata": {},
      "outputs": [
        {
          "name": "stdout",
          "output_type": "stream",
          "text": [
            "1 day, 0:00:00\n",
            "86400.0\n"
          ]
        }
      ],
      "source": [
        "date1 = datetime.date(2004, 8, 12)\n",
        "date2 = datetime.date(2004, 8, 11)\n",
        "\n",
        "print(date1 - date2)\n",
        "print((date1 - date2).total_seconds())"
      ]
    },
    {
      "cell_type": "markdown",
      "metadata": {
        "id": "zG86N0roqhr6"
      },
      "source": [
        "## 9.3 외부 모듈의 활용\n",
        "\n",
        "모듈의 상위 개념으로 패키지(package)가 존재.  \n",
        "패키지란 모듈의 집합을 의미.\n",
        "\n",
        "설치 시 다음과 같은 커맨드 활용\n",
        "```python\n",
        "pip install package\n",
        "```"
      ]
    },
    {
      "cell_type": "code",
      "execution_count": 2,
      "metadata": {},
      "outputs": [
        {
          "name": "stdout",
          "output_type": "stream",
          "text": [
            "Requirement already satisfied: kiwipiepy in c:\\users\\user\\anaconda3\\lib\\site-packages (0.18.0)\n",
            "Requirement already satisfied: kiwipiepy-model<0.19,>=0.18 in c:\\users\\user\\anaconda3\\lib\\site-packages (from kiwipiepy) (0.18.0)\n",
            "Requirement already satisfied: numpy<2 in c:\\users\\user\\anaconda3\\lib\\site-packages (from kiwipiepy) (1.26.4)\n",
            "Requirement already satisfied: tqdm in c:\\users\\user\\anaconda3\\lib\\site-packages (from kiwipiepy) (4.66.4)\n",
            "Requirement already satisfied: colorama in c:\\users\\user\\anaconda3\\lib\\site-packages (from tqdm->kiwipiepy) (0.4.6)\n"
          ]
        }
      ],
      "source": [
        "!pip install kiwipiepy"
      ]
    },
    {
      "cell_type": "code",
      "execution_count": 5,
      "metadata": {},
      "outputs": [],
      "source": [
        "from kiwipiepy import Kiwi\n",
        "\n",
        "Kiwi = Kiwi()"
      ]
    },
    {
      "cell_type": "code",
      "execution_count": 7,
      "metadata": {},
      "outputs": [
        {
          "data": {
            "text/plain": [
              "[([Token(form='안녕', tag='NNG', start=0, len=2),\n",
              "   Token(form='하', tag='XSA', start=2, len=1),\n",
              "   Token(form='세요', tag='EF', start=3, len=2),\n",
              "   Token(form='.', tag='SF', start=5, len=1),\n",
              "   Token(form='여러분', tag='NP', start=7, len=3),\n",
              "   Token(form=',', tag='SP', start=10, len=1),\n",
              "   Token(form='오늘', tag='NNG', start=12, len=2),\n",
              "   Token(form='로', tag='JKB', start=14, len=1),\n",
              "   Token(form='파이썬', tag='NNP', start=16, len=3),\n",
              "   Token(form='은', tag='JX', start=19, len=1),\n",
              "   Token(form='6', tag='SN', start=21, len=1),\n",
              "   Token(form='일', tag='NNB', start=22, len=1),\n",
              "   Token(form='차', tag='XSN', start=23, len=1),\n",
              "   Token(form='를', tag='JKO', start=24, len=1),\n",
              "   Token(form='맞이하', tag='VV', start=26, len=3),\n",
              "   Token(form='었', tag='EP', start=28, len=1),\n",
              "   Token(form='습니다', tag='EF', start=29, len=3),\n",
              "   Token(form='.', tag='SF', start=32, len=1),\n",
              "   Token(form='재밌', tag='VA', start=34, len=2),\n",
              "   Token(form='죠', tag='EF', start=36, len=1),\n",
              "   Token(form='?', tag='SF', start=37, len=1)],\n",
              "  -114.99939727783203)]"
            ]
          },
          "execution_count": 7,
          "metadata": {},
          "output_type": "execute_result"
        }
      ],
      "source": [
        "Kiwi.analyze('안녕하세요. 여러분, 오늘로 파이썬은 6일차를 맞이했습니다. 재밌죠?')\n",
        "\n",
        "# tag => 형태소"
      ]
    },
    {
      "cell_type": "markdown",
      "metadata": {
        "id": "QYKtvX9aiAki"
      },
      "source": [
        "# 10.파이썬의 파일 입출력"
      ]
    },
    {
      "cell_type": "markdown",
      "metadata": {
        "id": "dy7o59BwrmYk"
      },
      "source": [
        "## 10.1 파일 입출력의 개요"
      ]
    },
    {
      "cell_type": "markdown",
      "metadata": {
        "id": "SacUKsx4rcvq"
      },
      "source": [
        "### 10.1.1 파일 열기\n",
        "\n",
        "입출력 작업을 진행할 파일을 지정하는 것을 의미.  \n",
        "파일 입력과 파일 출력 모두 반드시 파일 열기 작업을 가장 먼저 수행해야 함.\n",
        "\n",
        "```python\n",
        "파일객체 = open(파일명, 모드)\n",
        "```\n",
        "\n",
        "1. 파일명  \n",
        "입출력 작업을 수행할 파일을 의미  \n",
        "현재 디렉토리가 'C:\\PythonStudy\\Section10' 디렉터리에서 소스 코드를 작성하고 있다고 가정'\n",
        "```python\n",
        "open('sample.txt') 'C:\\PythonStudy\\Section10\\sample.txt \n",
        "```\n",
        "```python\n",
        "open('C:/sample.txt') 'C:\\sample.txt\n",
        "```\n",
        "```python\n",
        "open('./sample.txt') 'C:\\PythonStudy\\Section10\\sample.txt\n",
        "```\n",
        "```python\n",
        "open('../sample.txt') 'C:\\PythonStudy\\sample.txt\n",
        "```\n",
        "\n",
        "\n",
        "2. 모드\n",
        "파일을 여는 목적을 의미.  \n",
        "파일 입력을 위해서인지 출력을 위해서인지는 모드를 통해 결정.  \n",
        "모드의 종류는 아래와 같음.\n",
        "\n",
        "|분류|종류|의미       |파일이 없을 때 동작|파일이 있을 때 동작|\n",
        "|----|----|-----------|-------------------|-------------------|\n",
        "|입력|  r |읽기       |오류 발생          |읽기|\n",
        "|출력|  w |쓰기       |새로 생성          |새로 생성|\n",
        "|    |  a |추가       |새로 생성          |추가|\n",
        "|    |  x |배타적 추가|새로 생성          |오류 발생|\n",
        "\n",
        "입출력 모드를 생략하면 기본적으로 r모드로 열림.  \n",
        "w나 a모드와 같이 출력을 목적으로 한다면 반드시 해당 모드 명시.  \n",
        "<br>\n",
        "\n",
        "여는 목적을 결정했다면 어떤 파일인지 파일 종류를 구분.  \n",
        "열려고 하는 파일이 텍스트인가 아닌가로 결정.  \n",
        "\n",
        "|종류|의미  |설명                                     |\n",
        "|----|------|-----------------------------------------|\n",
        "|t   |text  |텍스트 파일                              |\n",
        "|b   |binary|바이너리 파일(텍스트 파일 외의 모든 파일)|\n",
        "\n",
        "\n",
        "열고자 하는 파일의 종류를 생략하면 기본적으로 t모드(텍스트 모드)로 파일이 열림.  \n",
        "바이너리 파일인 경우 반드시 b모드 명시.  \n",
        "\n",
        "텍스트 모드는 문자를 대상으로 입출력을 처리하기 때문에  \n",
        "영문이나 한글 등으로 작성된 텍스트 파일에서 사용.  \n",
        "<br>\n",
        "바이너리 모드는 모든 파일의 데이터를 1바이트 기본 단위로 입출력을 처리하기 때문에  \n",
        "텍스트를 사용하지 않는 모든 파일(이미지, 사운드, 영상)에서 사용.  \n",
        "텍스트가 아니라면 반드시 바이너리 모드를 사용.\n",
        "\n",
        "지금까지 살펴본 모드는 다음과 같이 종합하여 사용 가능.  \n",
        "\n",
        "|모드|설명                          |\n",
        "|----|------------------------------|\n",
        "|rt  |t텍스트 파일 읽기 모드        |\n",
        "|rb  |바이너리 파일 읽기 모드       |\n",
        "|wt  |텍스트 파일 쓰기 모드         |\n",
        "|wb  |바이너리 파일 쓰기 모드       |\n",
        "|at  |텍스트 파일 추가 모드         |\n",
        "|ab  |바이너리 파일 추가 모드       |\n",
        "|xt  |텍스트 파일 배타적 추가 모드  |\n",
        "|xb  |바이너리 파일 배타적 추가 모드|"
      ]
    },
    {
      "cell_type": "markdown",
      "metadata": {
        "id": "q34qKaESrcx8"
      },
      "source": [
        "### 10.1.2 파일 닫기\n",
        "\n",
        "파일을 더 이상 사용하지 않거나 프로그램을 종료하고자 할 때 열어놓은 파일을 닫음.\n",
        "\n",
        "```python\n",
        "파일객체.close()\n",
        "```\n",
        "\n"
      ]
    },
    {
      "cell_type": "markdown",
      "metadata": {
        "id": "JH4-kJNwrc0X"
      },
      "source": [
        "### 10.1.3 파일 생성\n",
        "\n",
        "```python\n",
        "file = open('myFile.txt', 'wt')\n",
        "print('myFile.txt 파일이 생성되었습니다')\n",
        "file.close()\n",
        "```\n",
        "\n",
        "텍스트 파일을 새로 만들 수 있는 모드인 wt 모드를 사용하여  \n",
        "myFile.txt라는 텍스트 파일을 생성하는 코드.  \n",
        "별도의 파일 경로가 없으면 현재 작업 중인 디렉토리에 저장."
      ]
    },
    {
      "cell_type": "markdown",
      "metadata": {
        "id": "XsWBep2qrc2n"
      },
      "source": [
        "### 10.1.4 with문\n",
        "\n",
        "파일을 사용하는 프로그램은 언제든지 예기치 않은 문제 발생 가능성 존재.  \n",
        "생성에 문제가 생길 수도 있고, 파일을 여는 데 문제가 생길 수도 있음.  \n",
        "이러한 이유로 파일은 예외처리와 함께 하면 좋음.  \n",
        "<br>\n",
        "하지만 예외 처리가 아니라도 파이썬에서는 close() 메소드를 자동으로 호출하는 문법을 제공.  \n",
        "이는 with문으로 with문을 활용하면 with문이 끝날 때 언제나 close()를 자동으로 호출.  \n",
        "이로 별도의 예외처리 없이 파일 에러로 인해 close()를 호출하지 못하는 불상사 방지.  \n",
        "또한, close()를 작성하지 않아도 됨.\n",
        "\n",
        "```python\n",
        "with open(파일명, 모드) as 파일객체:\n",
        "  파일처리 코드\n",
        "```"
      ]
    },
    {
      "cell_type": "code",
      "execution_count": 8,
      "metadata": {},
      "outputs": [
        {
          "data": {
            "text/plain": [
              "<_io.TextIOWrapper name='sample.txt' mode='r' encoding='utf-8'>"
            ]
          },
          "execution_count": 8,
          "metadata": {},
          "output_type": "execute_result"
        }
      ],
      "source": [
        "open('./sample.txt') #현재 내가 작업하고 있는 폴더(상대경로)\n",
        "open(r'C:\\Users\\USER\\Desktop\\2024-08-05_Encore\\day06\\day06_module_and_io.ipynb')\n",
        "\n",
        "# 앞에다가 r을 붙여줘야지 역슬래시를 정상적인 슬래쉬로 인식함(절대경로)\n",
        "# 가급적 절대 경로는 피하기"
      ]
    },
    {
      "cell_type": "code",
      "execution_count": 12,
      "metadata": {},
      "outputs": [],
      "source": [
        "file = open('./test.txt', 'w')"
      ]
    },
    {
      "cell_type": "code",
      "execution_count": 13,
      "metadata": {},
      "outputs": [],
      "source": [
        "file.close() # 반드시 open을 하고 나면 close로 닫아줘야 한다.\n",
        "# open은 파일한테까지 통로를 뚫어주는 것이다.\n",
        "# 안닫으면 해킹에 취약함"
      ]
    },
    {
      "cell_type": "code",
      "execution_count": null,
      "metadata": {},
      "outputs": [],
      "source": [
        "with open('./test.txt') as file:\n",
        "    print('test.txt 파일이 생성되었습니다.')\n",
        "\n",
        "# with 문에 장점 자동으로 close를 해줌"
      ]
    },
    {
      "cell_type": "markdown",
      "metadata": {
        "id": "gr5lkgNjiDJl"
      },
      "source": [
        "## 10.2 파일 출력(output)"
      ]
    },
    {
      "cell_type": "markdown",
      "metadata": {
        "id": "fqAuSFqyrsAo"
      },
      "source": [
        "### 10.2.1 텍스트 파일 생성"
      ]
    },
    {
      "cell_type": "code",
      "execution_count": 17,
      "metadata": {},
      "outputs": [
        {
          "name": "stdout",
          "output_type": "stream",
          "text": [
            "test.txt 파일이 생성되었습니다.\n"
          ]
        }
      ],
      "source": [
        "with open('./test.txt', 'w') as file: # 'w'는 기존 파일을 밀고 새로 쓰는 작업\n",
        "    file.write('안녕하세요')\n",
        "    file.write('\\n')\n",
        "    file.write('반갑습니다')\n",
        "    file.write('\\n')\n",
        "\n",
        "\n",
        "    print('test.txt 파일이 생성되었습니다.')\n",
        "\n"
      ]
    },
    {
      "cell_type": "markdown",
      "metadata": {
        "id": "l3GRqhhqr2Yk"
      },
      "source": [
        "### 10.2.2 텍스트 파일에 내용 추가하기"
      ]
    },
    {
      "cell_type": "code",
      "execution_count": 18,
      "metadata": {},
      "outputs": [
        {
          "name": "stdout",
          "output_type": "stream",
          "text": [
            "test.txt 파일이 생성되었습니다.\n"
          ]
        }
      ],
      "source": [
        "with open('./test.txt', 'a') as file: # 'a'는 기존 파일에 새롭게 추가됨\n",
        "    file.write('안녕하세요')\n",
        "    file.write('\\n')\n",
        "    file.write('반갑습니다')\n",
        "    file.write('\\n')\n",
        "\n",
        "\n",
        "    print('test.txt 파일이 생성되었습니다.')\n",
        "\n"
      ]
    },
    {
      "cell_type": "markdown",
      "metadata": {
        "id": "DEx2DhDNr5i2"
      },
      "source": [
        "## 10.3 파일 입력(input)"
      ]
    },
    {
      "cell_type": "markdown",
      "metadata": {
        "id": "bbwKe1sOsCk6"
      },
      "source": [
        "### 10.3.1 텍스트 파일 읽기\n",
        "\n",
        "파일을 읽을 때 사용하는 여러 메소드를 이용해  \n",
        "hello.txt 파일을 읽은 뒤 화면에 그대로 출력하는 프로그램 구현."
      ]
    },
    {
      "cell_type": "markdown",
      "metadata": {
        "id": "gTeUbGOysGDE"
      },
      "source": [
        "#### read()\n",
        "\n",
        "read 메소드는 다음과 같은 형식을 가지고 있음\n",
        "```python\n",
        "file.read(size)\n",
        "```\n",
        "\n",
        "read() 메소드는 파일로부터 데이터를 읽는 메소드.  \n",
        "텍스트 모드와 바이너리 모드에서 다른 방식으로 동작.  \n",
        "아래는 메소드 간 차이점을 나타낸 표.  \n",
        "\n",
        "|항목              |텍스트 모드             |바이너리 모드|\n",
        "|------------------|------------------------|------------------------|\n",
        "|반환값            |읽어 들인 문자열        |읽어 들인 바이트열      |\n",
        "|매개변수 size     |읽어 들일 최대 문자 개수|읽어 들일 최대 바이트 수|\n",
        "|매개변수 size 생략|파일 전체 읽음||\n",
        "|파일 끝에 도달    |빈 문자열('') 반환||\n",
        "\n",
        "모드 상관없이 공통적으로 size를 생략하면 전체 파일을 읽음.  \n",
        "size 값으로 음수를 전달해도 파일 전체를 읽음.  \n",
        "size 값을 양수로 전달하면 텍스트 모드는 읽어 들일 글자의 개수로 인식.  \n",
        "바이너리 모드는 읽어 들일 바이트 수로 인식.  \n",
        "<br>\n",
        "1글자와 1바이트는 차이 존재.\n",
        "영문은 1글자가 1바이트로 서로 동일  \n",
        "한글은 1글자가 2바이트로 서로 다름. (인코딩에 따라 3바이트일 수도 있음)  \n",
        "텍스트 모드에서 read(2)는 2글자를 읽어들인다는 의미인데  \n",
        "영문이면 2바이트, 한글이면 4바이트를 읽음."
      ]
    },
    {
      "cell_type": "code",
      "execution_count": 19,
      "metadata": {},
      "outputs": [
        {
          "name": "stdout",
          "output_type": "stream",
          "text": [
            "안녕하세요\n",
            "반갑습니다\n",
            "안녕하세요\n",
            "반갑습니다\n"
          ]
        }
      ],
      "source": [
        "with open('./test.txt') as file:\n",
        "    while True:\n",
        "        string = file.read(5) #5글자씩 가져오기\n",
        "\n",
        "        if not string:\n",
        "            break\n",
        "    \n",
        "        print(string, end='')\n"
      ]
    },
    {
      "cell_type": "markdown",
      "metadata": {
        "id": "ad8LFGJ2sGHF"
      },
      "source": [
        "#### readline()\n",
        "\n",
        "텍스트 파일을 한 줄씩 읽어서 처리하는 메소드.  \n",
        "만약 파일이 종료되어 더 이상 읽을 파일이 없으면 빈 문자열을('')을 읽음.  \n",
        "반복문을 통해 여러 번 읽어야 파일 전체를 읽을 수 있음."
      ]
    },
    {
      "cell_type": "code",
      "execution_count": null,
      "metadata": {},
      "outputs": [],
      "source": [
        "with open('./test.txt') as file:\n",
        "    while True:\n",
        "        string = file.readline() #5글자씩 가져오기\n",
        "\n",
        "        if string == '':\n",
        "            break\n",
        "    \n",
        "        print(string, end='')\n",
        "\n",
        "        \n"
      ]
    },
    {
      "cell_type": "code",
      "execution_count": 20,
      "metadata": {},
      "outputs": [],
      "source": [
        "with open('./test.txt')as file:\n",
        "    string = file.readlines()"
      ]
    },
    {
      "cell_type": "code",
      "execution_count": 21,
      "metadata": {},
      "outputs": [
        {
          "data": {
            "text/plain": [
              "['안녕하세요\\n', '반갑습니다\\n', '안녕하세요\\n', '반갑습니다\\n']"
            ]
          },
          "execution_count": 21,
          "metadata": {},
          "output_type": "execute_result"
        }
      ],
      "source": [
        "string"
      ]
    },
    {
      "cell_type": "markdown",
      "metadata": {
        "id": "JUh3qrVgsGLY"
      },
      "source": [
        "#### readlines()\n",
        "\n",
        "라인 전체를 모두 읽어 각 라인 단위로 리스트에 저장하는 메소드.  \n",
        "enumerate를 이용하면 라인 번호도 함께 출력 가능"
      ]
    },
    {
      "cell_type": "code",
      "execution_count": null,
      "metadata": {},
      "outputs": [],
      "source": []
    },
    {
      "cell_type": "code",
      "execution_count": null,
      "metadata": {},
      "outputs": [],
      "source": [
        "## 게임 로그 기록 코드 작성\n",
        "\n",
        "import time\n",
        "\n",
        "start_time = time.time()\n",
        "print(start_time)\n",
        "\n",
        "ANSWER = random.randrange(1, 31)\n",
        "total = 0\n",
        "\n",
        "def input_integer():\n",
        "    try:\n",
        "        user_input_number = int(input('Enter number: '))\n",
        "        return user_input_number\n",
        "    except:\n",
        "        return input_integer()\n",
        "    \n",
        "while True:\n",
        "    total += 1\n",
        "\n",
        "    if total > 3:\n",
        "        print('exceed maximum trial')\n",
        "        print(time.time())\n",
        "        break\n",
        "\n",
        "    user_input_number = input_integer()\n",
        "\n",
        "    if user_input_number == ANSWER :\n",
        "        print('정답입니다.')"
      ]
    },
    {
      "cell_type": "code",
      "execution_count": 26,
      "metadata": {},
      "outputs": [
        {
          "name": "stdout",
          "output_type": "stream",
          "text": [
            "1th trial. Incorrect\n",
            "2th trial. Incorrect\n",
            "3th trial. Incorrect\n",
            "exceed maximum trial\n",
            "play time: 7.996412515640259\n"
          ]
        }
      ],
      "source": [
        "## 게임 로그 기록 코드 작성\n",
        "import time\n",
        "import random\n",
        "\n",
        "def input_integer():\n",
        "        try:\n",
        "            user_input_number = int(input('Enter number: '))\n",
        "            return user_input_number\n",
        "        except:\n",
        "            return input_integer()\n",
        "        \n",
        "with open('log.log', 'w') as file:\n",
        "    start_time = time.time()\n",
        "    file.write(f'[{time.ctime(time.time())}]게임 시작 시간\\n')\n",
        "\n",
        "    ANSWER = random.randrange(1, 31)\n",
        "    file.write(f'[{time.ctime(time.time())}]정답: {ANSWER}\\n')\n",
        "    trial = 0\n",
        "\n",
        "        \n",
        "    while True:\n",
        "        trial += 1\n",
        "\n",
        "        if trial > 3:\n",
        "            print('exceed maximum trial')\n",
        "            file.write(f'[{time.ctime(time.time())}] 최대 허용 시도 횟수 초과\\n')\n",
        "            break\n",
        "\n",
        "        user_input_number = input_integer()\n",
        "        file.write(f'[{time.ctime(time.time())}]사용자가 입력한 숫자: {user_input_number}\\n')\n",
        "\n",
        "        if user_input_number == ANSWER :\n",
        "            print(f'{trial}th trial. Correct')\n",
        "            file.write(f'[{time.ctime(time.time())}]{trial}th trial. Correct\\n')\n",
        "\n",
        "        print(f'{trial}th trial. Incorrect')\n",
        "        file.write(f'[{time.ctime(time.time())}]{trial}th trial. Incorrect\\n')\n",
        "    \n",
        "    print(f'play time: {time.time() - start_time}')\n",
        "    file.write(f'[{time.ctime(time.time())}] play time: {time.time() - start_time}\\n')\n",
        "\n",
        "\n",
        "\n"
      ]
    }
  ],
  "metadata": {
    "colab": {
      "provenance": [],
      "toc_visible": true
    },
    "kernelspec": {
      "display_name": "Python 3",
      "name": "python3"
    },
    "language_info": {
      "codemirror_mode": {
        "name": "ipython",
        "version": 3
      },
      "file_extension": ".py",
      "mimetype": "text/x-python",
      "name": "python",
      "nbconvert_exporter": "python",
      "pygments_lexer": "ipython3",
      "version": "3.12.4"
    }
  },
  "nbformat": 4,
  "nbformat_minor": 0
}
