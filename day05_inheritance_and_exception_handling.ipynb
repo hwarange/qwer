{
  "cells": [
    {
      "cell_type": "markdown",
      "metadata": {
        "id": "mZoepzGCkfk8"
      },
      "source": [
        "# 7.파이썬의 클래스"
      ]
    },
    {
      "cell_type": "markdown",
      "metadata": {
        "id": "co_EH3TINa6_"
      },
      "source": [
        "## 7.2 상속"
      ]
    },
    {
      "cell_type": "markdown",
      "metadata": {
        "id": "goP2BMG0lZcr"
      },
      "source": [
        "### 7.2.1 상속이란?\n",
        "\n",
        "파이썬에서는 어떤 클래스가 가지고 있는 기능을 그대로 물려받아 사용할 수 있는 클래스를 만들 수 있음.  \n",
        "다른 클래스의 기능을 물려받을 때 상속받는다는 표현 사용.  \n",
        "그래서 상속 관계에 있는 클래스를 표현할 때 부모, 자식클래스라는 단어 사용.  \n",
        "\n",
        "아래는 상속 관계 클래스를 나타내는 용어\n",
        "\n",
        "|구분|부모 클래스|자식 클래스|\n",
        "|----- |-----------------------------------------------------|---------------------|\n",
        "|의미  |상속해주는 클래스                                    |상속받는 클래스       |\n",
        "|용어  |슈퍼 클래스(super class) <br><br> 기반 클래스(base class)   |서브 클래스(sub class) <br><br> 파생 클래스(derived class)|\n",
        "\n",
        "파이썬에선 super라는 키워드는 부모 클래스를 지정하는 용도로 사용."
      ]
    },
    {
      "cell_type": "markdown",
      "metadata": {
        "id": "l5jLbftAQfiz"
      },
      "source": [
        "### 7.2.2 상속 관계 구현\n",
        "\n",
        "기본적으로 두 클래스가 상속 관계에 놓이려면 IS-A 관계가 성립.  \n",
        "IS-A 관계란 '~은 ~이다.'로 해석될 수 있는 관계.  \n",
        "예를 들면 '학생은 사람이다'.처럼 해석되는 관계가 IS-A 관계.  \n",
        "<br>\n",
        "'학생은 사람이다'를 'Student is a Person'으로 해석 가능.  \n",
        "이때, Student는 자식 클래스가 되고, Person은 슈퍼 클래스.  \n",
        "슈퍼 클래스는 일반 클래스처럼 구현하면 되지만,  \n",
        "서브 클래스는 어떤 슈퍼 클래스를 상속받는지 명시할 수 있도록 새로운 문법 사용.  \n",
        "\n",
        "상속의 기본적인 형식은 다음과 같음.\n",
        "```python\n",
        "class 부모 클래스:\n",
        "  본문\n",
        "\n",
        "class 자식 클래스(슈퍼 클래스):\n",
        "  본문\n",
        "```\n",
        "자식 클래스 구현 시 괄호 안에 어떤 부모 클래스를 상속받는지 명시.  \n",
        "상속 관계에 놓은 서브 클래스는 마치 자신의 것처럼 슈퍼 클래스 기능 사용 가능."
      ]
    },
    {
      "cell_type": "markdown",
      "metadata": {
        "id": "9VJ9h2qjglLT"
      },
      "source": [
        "### 7.2.3 자식 클래스의 \\_\\_init\\_\\_()\n",
        "\n",
        "자식 클래스는 부모 클래스가 없으면 존재할 수 없음.  \n",
        "부모가 존재해야 자식도 존재.  \n",
        "따라서 자식 클래스의 생성자 구현 시  \n",
        "반드시 부모 클래스의 생성자를 호출하는 코드를 작성해야만 함.  \n",
        "\n",
        "Student 클래스의 생성자인 \\_\\_init\\_\\_() 메소드의 예시\n",
        "```python\n",
        "def __init__(self, name, school):\n",
        "  super().__init__(name)\n",
        "  self.school = school\n",
        "```\n",
        "\n",
        "super라는 키워드는 부모 클래스 의미.  \n",
        "Student를 생성하기 위해 Student의 생성자를 호출하면  \n",
        "super().\\_\\_init\\_\\_(name)에 의해 부모 클래스인 Person의 생성자가 먼저 호출되면서 부모 클래스 생성.  \n",
        "부모 클래스의 Person 생성에는 name이 필요하므로 name이 함께 전달.  \n",
        "이 과정으로 부모 클래스 Person의 생성이 끝나면  \n",
        "이제 자식 클래스 Student도 school의 값을 저장하며 생성."
      ]
    },
    {
      "cell_type": "code",
      "execution_count": 3,
      "metadata": {},
      "outputs": [],
      "source": [
        "class Person :\n",
        "    def __init__(self, name):\n",
        "        self.name = name\n",
        "\n",
        "    def show_name(self):\n",
        "        print(f'이름은 {self.name}입니다.')\n",
        "\n",
        "class Student(Person) :\n",
        "    def  __init__(self, name, school):\n",
        "        super().__init__(name) # 사실상 super() = Person(), Person을 콜해서 객체가 되었고 Person안에 __init__생성자를 호출한게 됨\n",
        "        self.school = school  # 자식 클래스에서 생성자를 생성할 때 부모 클래스에서 받는 원소들을 무조건 다 추가를 해줘야 함\n",
        "\n",
        "    def show_school(self):\n",
        "        print(f'학교는 {self.school}입니다.')\n"
      ]
    },
    {
      "cell_type": "code",
      "execution_count": 5,
      "metadata": {},
      "outputs": [
        {
          "name": "stdout",
          "output_type": "stream",
          "text": [
            "이름은 홍길동입니다.\n"
          ]
        }
      ],
      "source": [
        "student1 = Student('홍길동', '서울고')\n",
        "student2 = Student()\n",
        "\n",
        "student1.show_name()"
      ]
    },
    {
      "cell_type": "markdown",
      "metadata": {
        "id": "QuCYU56VhOqu"
      },
      "source": [
        "### 7.2.4 자식 클래스의 인스턴스 자료형\n",
        "\n",
        "부모 클래스 객체는 부모 클래스의 인스턴스.  \n",
        "그에 비해 자식 클래스 객체는 자식 클래스의 인스턴스이면서 동시에 부모 클래스의 인스턴스.  \n",
        "즉, 자식 클래스 Student의 객체는 자식 클래스 Student의 인스턴스이면서  \n",
        "동시에 부모 클래스 Person의 인스턴스.  \n",
        "potter = Student('해리포터', '호그와트') 코드로 생성한 potter는  \n",
        "Student의 인스턴스이면서 동시에 Person의 인스턴스.  \n",
        "즉 potter가 Student가 될 수 있고, Person이 될 수도 있음.\n",
        "\n",
        "어떤 객체가 어떤 클래스의 인스턴스인지 확인하기 위해 isinstance() 함수를 사용.  \n",
        "기본적인 사용법은 아래와 같음.\n",
        "\n",
        "```python\n",
        "isinstance(객체, 클래스)\n",
        "```\n",
        "\n",
        "isinstance()함수는 객체가 클래스의 인스턴스인 경우 True, 아니면 False를 반환."
      ]
    },
    {
      "cell_type": "code",
      "execution_count": 9,
      "metadata": {},
      "outputs": [
        {
          "name": "stdout",
          "output_type": "stream",
          "text": [
            "True\n",
            "True\n",
            "False\n",
            "True\n"
          ]
        }
      ],
      "source": [
        "print(isinstance(student1, Student))\n",
        "print(isinstance(student1, Person))\n",
        "print(isinstance(student1, list))\n",
        "print(isinstance(student1, object))\n",
        "\n",
        "# 자식 클래스는 모든 부모클래스에 객체가 될 수 있다."
      ]
    },
    {
      "cell_type": "markdown",
      "metadata": {
        "id": "g4XE3pmsehOr"
      },
      "source": [
        "### 7.2.5 오버라이딩\n",
        "\n",
        "부모 클래스에서 이미 정의된 메소드를 자식 클래스에서 다시 정의하는 것.  \n",
        "상속 후 메소드를 호출하게 되면 자식 클래스에서 다시 정의된 메소드를 사용.  \n",
        "이 경우, 부모 클래스에서 정의된 메소드는 사용 불가."
      ]
    },
    {
      "cell_type": "code",
      "execution_count": 11,
      "metadata": {},
      "outputs": [],
      "source": [
        "class Person :\n",
        "    def __init__(self, name):\n",
        "        self.name = name\n",
        "\n",
        "    def show_name(self):\n",
        "        print(f'이름은 {self.name}입니다.')\n",
        "\n",
        "class Student(Person) :\n",
        "    def  __init__(self, name, school):\n",
        "        super().__init__(name) \n",
        "        self.school = school  \n",
        "\n",
        "    def show_school(self):\n",
        "        print(f'학교는 {self.school}입니다.')\n",
        "\n",
        "#   def show_name(self):\n",
        "#       print(f'이름은 {self.name}입니다.') 눈에 보이지 않지만 이런 함수가 있는 거임\n",
        "\n",
        "    def show_name(self):\n",
        "        print(f'나의 이름은 {self.name}입니다.') # 자기가 재정의 한 걸 갖다 씀\n"
      ]
    },
    {
      "cell_type": "code",
      "execution_count": 12,
      "metadata": {},
      "outputs": [
        {
          "name": "stdout",
          "output_type": "stream",
          "text": [
            "나의 이름은 홍길동입니다.\n"
          ]
        }
      ],
      "source": [
        "student = Student('홍길동', '서울고')\n",
        "student.show_name()"
      ]
    },
    {
      "cell_type": "markdown",
      "metadata": {
        "id": "E7EsB4dWyEqI"
      },
      "source": [
        "## 7.3 객체지향 4대 특성"
      ]
    },
    {
      "cell_type": "markdown",
      "metadata": {
        "id": "O7xWVUTIyJcj"
      },
      "source": [
        "### 캡슐화(Encapsulation)\n",
        "\n",
        "객체의 속성과 행위를 묶음.  \n",
        "실제 구현 내용 일부를 외부에 감춤."
      ]
    },
    {
      "cell_type": "markdown",
      "metadata": {
        "id": "aO3Dfcf_yUTk"
      },
      "source": [
        "### 상속(Inheritance)\n",
        "\n",
        "하위 클래스로 갈수록 구체화되는 것을 의미.\n",
        "\n"
      ]
    },
    {
      "cell_type": "markdown",
      "metadata": {
        "id": "Ofqewx78ykrS"
      },
      "source": [
        "### 다형성(Polymorphism)\n",
        "\n",
        "하나의 개체가 다양한 자료형에 속하는 것이 허가되는 성질."
      ]
    },
    {
      "cell_type": "markdown",
      "metadata": {
        "id": "-NiL6bBTyacC"
      },
      "source": [
        "### 추상화(Abstraction)\n",
        "\n",
        "공통적인 부분, 특징, 특성을 분리해 재조합하는 부분  \n",
        "다형성, 상속 모두 추상화에 속함"
      ]
    },
    {
      "cell_type": "markdown",
      "metadata": {
        "id": "N48V5dbaZThO"
      },
      "source": [
        "## 7.4 객체지향 개발 5대 원리"
      ]
    },
    {
      "cell_type": "markdown",
      "metadata": {},
      "source": [
        "## SOLID "
      ]
    },
    {
      "cell_type": "markdown",
      "metadata": {
        "id": "V87bnf7RZXcV"
      },
      "source": [
        "### 단일책임원칙 (Single Responsibility Principle, SRP)\n",
        "\n",
        "작성된 클래스는 하나의 기능만 가지며 클래스가 제공하는 모든 서비스는  \n",
        "그 하나의 책임을 수행하는 데 집중되어야 한다는 원칙.  \n",
        "어떤 변화에 의해 클래스 변경 시 그 이유는 오직 하나 뿐이어야 함을 의미.  \n",
        "\n",
        "SRP 원리 적용 시 책임 영역이 분명하여 한 클래스의 변경이 다른 클래스에 영향을 주지 않아  \n",
        "예상치 못한 변경에서 자유로울 수 있음.  \n",
        "또한, 책임을 적절히 분배하여 코드의 가독성 향상 및 유지보수가 용이해지는 이점까지 누릴 수 있음.  \n",
        "개념이 비교적 단순하지만, 실무 프로세스는 상황이 매우 복잡, 다양하고  \n",
        "변경이 잦아 적용이 어려울 수 있음.\n",
        "\n",
        "```python\n",
        "class Warrior:\n",
        "    def __init__(self, id, server, level, power, agility, hp, mp):\n",
        "      self.id = id\n",
        "      self.server = server\n",
        "      self.level = level\n",
        "      self.power = power\n",
        "      self.agility = agility\n",
        "      self.hp = hp\n",
        "      self.mp = mp\n",
        "```\n",
        "\n",
        "위 코드에서 id, server는 변화 요소가 아닌 고유 정보.  \n",
        "level, power, agility, hp, mp는 모두 특성 정보로  \n",
        "변경이 발생할 수 있는 부분이고, 변화 요소로 예상 가능.  \n",
        "따라서 특정 정보군에 변화가 발생하면 항상 해당 클래스를 수정해야  \n",
        "하는 부담이 발생하게 되기에, SRP 적용 대상이 될 수 있음.\n",
        "\n",
        "\n",
        "```python\n",
        "class Warrior:\n",
        "    def __init__(self, id, server, spec):\n",
        "      self.id = id\n",
        "      self.server = server\n",
        "      self.spec = spec\n",
        "    \n",
        "class WarriorSpec:\n",
        "  def __init__(self, power, agility, hp, mp):\n",
        "      self.power = power\n",
        "      self.agility = agility\n",
        "      self.hp = hp\n",
        "      self.mp = mp\n",
        "```\n",
        "위와 같이 WarriorSpec 클래스를 따로 만들게 되면,  \n",
        "특성 정보에 변경이 일어나면 WarriorSpec 클래스만 변경.  \n",
        "변화에 의해 변경되는 부분을 한 곳에서 관리 가능할 수 있고,  \n",
        "이로 코드 유지보수 용이."
      ]
    },
    {
      "cell_type": "markdown",
      "metadata": {
        "id": "LjRdEaboZXj6"
      },
      "source": [
        "### 개방폐쇄원칙 (Open-Close Principle, OCP)\n",
        "\n",
        "소프트웨어 구성요소(컴포넌트, 클래스, 모듈, 함수)는 확장에 열려있고,  \n",
        "변경에는 닫혀있어야 한다는 원리.  \n",
        "이는 변경을 위한 비용은 가능한 줄이고 확장을 위한 비용은 가능한 극대화 해야 한다는 의미로,  \n",
        "요구사항에 의한 변경이나 추가사항 발생 시, 기존 요소는 수정이 일어나지 말아야 하며,  \n",
        "기존 구성요소를 쉽게 확장해서 재사용할 수 있어야 한다는 뜻.\n",
        "\n",
        "<img src=\"https://velog.velcdn.com/images/harinnnnn/post/10489f56-5d4a-4ba8-a134-8da46e88283c/image.png\" width=\"800\" height=\"400\">\n",
        "\n",
        "\n",
        "\n",
        "```python\n",
        "class Character:\n",
        "    def __init__(self, id, server, spec):\n",
        "      self.id = id\n",
        "      self.server = server\n",
        "      self.spec = spec\n",
        "    \n",
        "class CharacterSpec:\n",
        "  def __init__(self, power, agility, hp, mp):\n",
        "      self.power = power\n",
        "      self.agility = agility\n",
        "      self.hp = hp\n",
        "      self.mp = mp\n",
        "```\n",
        "\n",
        "위 코드에서 SRP 원리를 적용해 문제가 없어 보일 수 있음.  \n",
        "그러나, 전사 외 마법사, 도적 등의 다른 직업을 다루게 될 시 대처 불가.  \n",
        "해결책으로 모든 직업에 대해 클래스를 만드는 것은 바람직하지 않음.  \n",
        "<br>\n",
        "기타 외 추가 될 다른 직업를 추상화하는 작업이 필요.  \n",
        "추가될 직업들의 공통 속성을 담을 수 있는 Character라는 클래스 생성.  \n",
        "\n",
        "```python\n",
        "class Character:\n",
        "    def __init__(self, id, server, spec):\n",
        "      self.id = id\n",
        "      self.server = server\n",
        "      self.spec = spec\n",
        "\n",
        "class CharacterSpec:\n",
        "  def __init__(self, power, agility, hp, mp):\n",
        "      self.power = power\n",
        "      self.agility = agility\n",
        "      self.hp = hp\n",
        "      self.mp = mp\n",
        "\n",
        "\n",
        "class Wizzard(Character):\n",
        "  ...\n",
        "    \n",
        "class WizzardSpec(CharacterSpec):\n",
        "  ...\n",
        "```\n",
        "\n",
        "새로운 캐릭터가 추가되면서 변경이 발생하는 부분을 추상화하여 분리.  "
      ]
    },
    {
      "cell_type": "markdown",
      "metadata": {
        "id": "1_hezrl_ZXqL"
      },
      "source": [
        "### 리스코프치환원칙 (Liskov Substitution Principle, LSP)\n",
        "\n",
        "부모 객체를 호출하는 동작에서 자식 객체가 부모 객체를 완전히 대체할 수 있어야 함.  \n",
        "즉, 상속되는 객체는 반드시 부모 객체를 완전히 대체할 수 있어야 함.  \n",
        "대표적인 예는 부모 클래스에서 정의한 타입과 다른 타입의 사용이 있음.\n",
        "\n",
        "![](https://velog.velcdn.com/images/harinnnnn/post/2f2c6e85-553f-4afa-83c1-2d2abf722cea/image.png)\n",
        "\n",
        "\n",
        "```python\n",
        "class Warrior:\n",
        "    def __init__(self, id, server, spec):\n",
        "      self.id = id\n",
        "      self.server = server\n",
        "      self.spec = spec\n",
        "\n",
        "    def attack(self, actions: list):\n",
        "      for action in actions:\n",
        "        print(action)\n",
        "\n",
        "\n",
        "class Spearman(Warrior):\n",
        "    def __init__(self, id, server, spec):\n",
        "      self.id = id\n",
        "      self.server = server\n",
        "      self.spec = spec\n",
        "\n",
        "    def attack(self, actions: dict):\n",
        "      for num, action in actions.items():\n",
        "        print(action)\n",
        "```\n",
        "\n",
        "위 코드에서 Warror를 통해 생성되는 객체의 attack은 list를 받으나  \n",
        "Spearman을 통해 생성되는 객체의 attack은 dictionary를 받음.  \n",
        "이 경우, LSP 원칙에 따르면 Warrior를 통해 생성된 객체를  \n",
        "Spearman을 통해 생성된 객체로 바꾸어도 문제가 없어야 하나,  \n",
        "위의 경우 자식에서는 dictionary를 받기에 list가 아니여서 문제 발생"
      ]
    },
    {
      "cell_type": "markdown",
      "metadata": {
        "id": "d30-ARxHZXyG"
      },
      "source": [
        "### 인터페이스분리원칙 (Interface Segregation Principle, ISP)\n",
        "\n",
        "한 클래스는 자신이 사용하지 않는 인터페이스는 구현하지 않아야 함.  \n",
        "인터페이스는 자바에서 사용하는 문법이나 파이썬에서는 지원하지 않음.  \n",
        "\n",
        "\n",
        "<span style=\"font-size: 15pt\"> 설계 위반 </span>\n",
        "\n",
        "![](https://velog.velcdn.com/images/harinnnnn/post/f56cf080-bd64-4714-86fa-05c2ed3dda33/image.png)\n",
        "\n",
        "\n",
        "<span style=\"font-size: 15pt\"> 원칙을 준수한 설계 </span>\n",
        "\n",
        "![](https://velog.velcdn.com/images/harinnnnn/post/f4c05e79-6559-4d32-a41e-57a0785be03f/image.png)"
      ]
    },
    {
      "cell_type": "markdown",
      "metadata": {
        "id": "FJdph7wuZX39"
      },
      "source": [
        "### 의존성역전원칙 (Dependency Inversion Principle, DIP)\n",
        "\n",
        "하위 레벨 모듈 변경이 상위 레벨 모듈 변경을 요구하는 위계관계를 끊는 의미의 원칙.  \n",
        "즉, 구체적 객체가 아닌 추상화에 의존.  \n",
        "파이썬에서는 데이터 타입이 존재하지 않기에 큰 문제가 발생하지는 않을 수 있음.\n",
        "\n",
        "<span style=\"font-size: 15pt\"> 설계 위반 </span>\n",
        "\n",
        "\n",
        "<img src=\"https://velog.velcdn.com/images/harinnnnn/post/5217fd08-c236-414a-812f-1b5977cda612/image.png\" width=\"800\" height=\"400\">\n",
        "\n",
        "\n",
        "<span style=\"font-size: 15pt\"> 원칙을 준수한 설계 </span>\n",
        "\n",
        "\n",
        "<img src=\"https://velog.velcdn.com/images/harinnnnn/post/c607b934-0641-470d-8a80-7235c2c17f5c/image.png\" width=\"800\" height=\"400\">"
      ]
    },
    {
      "cell_type": "markdown",
      "metadata": {
        "id": "QYKtvX9aiAki"
      },
      "source": [
        "# 8.예외 처리"
      ]
    },
    {
      "cell_type": "code",
      "execution_count": null,
      "metadata": {},
      "outputs": [],
      "source": [
        "## Dog class가 존재\n",
        "## Dog class의 속성으로 name, age가 존재\n",
        "\n",
        "## 포메라니안과 치와와 클래스를 Dog클래스를 상속하여 구성\n",
        "## 포메라니안의 속성은 dna1이라는 속성이 추가됨\n",
        "## 치와와에는 dna2가 추가됨\n",
        "\n",
        "## 포메라니안 클래스의 함수에서는 print_dna라는 기능이 있어 dna정보를 출력할 수 있음\n",
        "## 치와와 클래스의 함수에서는 print_dna라는 기능이 있어 dna정보를 출력할 수 있음\n",
        "\n",
        "## 클래스 별로 최소 두 개 이상의 객체를 생성하되\n",
        "## 함수 하나만을 사용하여 모든 객체의 dna정보를 출력할 수 있는 코드 작성"
      ]
    },
    {
      "cell_type": "code",
      "execution_count": 15,
      "metadata": {},
      "outputs": [
        {
          "name": "stdout",
          "output_type": "stream",
          "text": [
            "흰둥이의 dna는 123456입니다.\n",
            "검둥이의 dna는 123777입니다.\n",
            "파랑이의 dna는 123356입니다.\n",
            "초록이의 dna는 123666입니다.\n"
          ]
        }
      ],
      "source": [
        "class Dog :\n",
        "\n",
        "    def __init__(self, name, age):\n",
        "        self.name = name\n",
        "        self.age = age\n",
        "\n",
        "class Pomeranian (Dog) :\n",
        "\n",
        "    def __init__(self, name, age, dna1):\n",
        "        super().__init__(name, age)\n",
        "        self.dna1 = dna1\n",
        "\n",
        "    def print_dna(self):\n",
        "        print(f'{self.name}의 dna는 {self.dna1}입니다.')\n",
        "\n",
        "class Chihuahua (Dog) :\n",
        "\n",
        "    def __init__(self, name, age, dna2):\n",
        "        super().__init__(name, age)\n",
        "        self.dna2 = dna2\n",
        "\n",
        "    def print_dna(self):\n",
        "        print(f'{self.name}의 dna는 {self.dna2}입니다.')\n",
        "\n",
        "\n",
        "dog1 = Pomeranian('흰둥이', 2, '123456')\n",
        "dog2 = Pomeranian('검둥이', 3, '123777')\n",
        "dog3 = Chihuahua('파랑이', 4, '123356')\n",
        "dog4 = Chihuahua('초록이', 5, '123666')\n",
        "\n",
        "dogs = [dog1, dog2, dog3, dog4]\n",
        "\n",
        "def print_dna(dogs:list) -> None:\n",
        "    for dog in dogs :\n",
        "        dog.print_dna()\n",
        "\n",
        "print_dna(dogs)"
      ]
    },
    {
      "cell_type": "markdown",
      "metadata": {
        "id": "gr5lkgNjiDJl"
      },
      "source": [
        "## 8.1 예외 처리의 필요성\n",
        "\n",
        "* 예외: 프로그램이 정상적으로 실행되는 과정에서 발생할 수 있는 예기치 않은 상황 \n",
        "* 오류: 주로 코드의 논리적 결함, 하드웨어 문제, 또는 환경 문제에서 발생. <br>\n",
        "보통 프로그램의 심각한 문제를 나타내며, 일반적으로 프로그램이 계속 실행될 수 없게 만듦\n",
        "<br>\n",
        "\n",
        "예외 처리는 예치 않은 상황으로 프로그램이 비정상적으로 종료되는 것을 막고  \n",
        "사용자에게 발생한 문제에 대한 정보를 전달하기 위함.\n"
      ]
    },
    {
      "cell_type": "markdown",
      "metadata": {
        "id": "2lcmbzwLiiez"
      },
      "source": [
        "## 8.2 예외 처리"
      ]
    },
    {
      "cell_type": "markdown",
      "metadata": {
        "id": "v6uOggS4isfO"
      },
      "source": [
        "### 8.2.1 고전적 예외 처리\n",
        "\n",
        "나누기 프로그램이 있다고 가정.  \n",
        "나눗셈은 0으로 나누는 것이 불가능.  \n",
        "이 경우, 지금까지 우리가 배운 것을 활용하면 아래와 같은 코드를 작성하게 될 것.  \n",
        "\n",
        "> ```python\n",
        "> a = int(intput())\n",
        "> b = int(intput())\n",
        "> \n",
        "> if b == 0:\n",
        ">   print('0으로 나누는 것은 불가능')\n",
        "> else:\n",
        ">   print(f'{a}/{b} = {a/b}')\n",
        "> ```\n",
        "위에서는 if b == 0을 이용해 0으로 나누는 연산을 사용하지 못하도록 처리.  \n",
        "하지만 위 방식은 다음과 같은 문제가 존재.\n",
        "\n",
        "1. 어떤 문제가 발생할지 예상할 수 있어야 대비 가능\n",
        "2. 어떤 문제가 발생할지 예상 가능하더라도 대비 불가능한 경우 존재\n",
        "\n",
        "규모가 작은 프로그램에서는 문제를 예상할 수 있겠지만,  \n",
        "규모가 크고 복잡해지면 모든 문제를 예상하는 것이 불가능.\n",
        "\n",
        "또한, 문제가 예상 가능하더라도 대비가 힘든 경우가 존재.  \n",
        "위에서는 정수가 정상적으로 입력된다는 가정 하에서 int 사용.  \n",
        "하지만 입력이 정수가 아니면 문제 발생.\n"
      ]
    },
    {
      "cell_type": "markdown",
      "metadata": {
        "id": "1QBMvS1Njo_r"
      },
      "source": [
        "### 8.2.2 예외 종류\n",
        "\n",
        "파이썬은 발생할 수 있는 모든 문제를 예외 클래스로 만들어 두었음.  \n",
        "기본적으로 예외 클래스는 BaseException 클래스의 자식 클래스.  \n",
        "BaseException 클래스의 자식 클래스 중에는 Exception 클래스가 있는데,  \n",
        "대부분 예외 클래스는 Exception 클래스의 자식 클래스.  \n",
        "아래는 주요 예외 클래스와 발생 원인.\n",
        "\n",
        "|  |      예외 클래스  |의미|\n",
        "|--|-------------------|------------------------------------------|\n",
        "| 1|      BaseException|최상이 예외 클래스|\n",
        "| 2|          Exception|대부분 예외 클래스의 부모 클래스|\n",
        "| 3|    ArithmeticError|산술 연산에 문제가 있을 때|\n",
        "| 4|     AttributeError|잘못된 속성을 참조할 때|\n",
        "| 5|           EOFError|파일에서 더 이상 읽어들일 데이터가 없을 때|\n",
        "| 6|ModuleNotFoundError|import할 모듈이 없을 때|\n",
        "| 7|  FileNotFoundError|존재하지 않는 파일일 때|\n",
        "| 8|         IndexError|잘못된 인덱스를 사용할 때|\n",
        "| 9|          NameError|잘못된 변수를 사용할 때|\n",
        "|10|        SyntaxError|문법이 틀렸을 때|\n",
        "|11|          TypeError|계산하려는 데이터의 유형이 잘못되었을 때|\n",
        "|12|         ValueError|계산하려는 데이터의 값이 잘못되었을 때|\n"
      ]
    },
    {
      "cell_type": "markdown",
      "metadata": {
        "id": "TAyHcb75lkhk"
      },
      "source": [
        "### 8.2.3 예외 처리 방식\n"
      ]
    },
    {
      "cell_type": "markdown",
      "metadata": {
        "id": "jUtdS3LVloUR"
      },
      "source": [
        "#### 모든 예외 처리\n",
        "\n",
        "> ```python\n",
        "> try:\n",
        ">   코드 작성\n",
        "> except:\n",
        ">   예외 발생 시 처리 영역\n",
        "> ```"
      ]
    },
    {
      "cell_type": "code",
      "execution_count": 30,
      "metadata": {},
      "outputs": [
        {
          "name": "stdout",
          "output_type": "stream",
          "text": [
            "division by zero\n"
          ]
        }
      ],
      "source": [
        "try:\n",
        "    a = int(input())\n",
        "    b = int(input())\n",
        "    print(f'{a}/{b} = {a/b}')\n",
        "except Exception as error:\n",
        "    print(error)"
      ]
    },
    {
      "cell_type": "markdown",
      "metadata": {
        "id": "bhJPaiDPl9ut"
      },
      "source": [
        "#### 특정 예외만 처리\n",
        "위의 예에서는 두 가지 에러가 존재\n",
        "1. 0으로 나누려고 하는 경우\n",
        "2. 정수가 아닌 값을 입력한 경우  \n",
        "\n",
        "하지만 위의 방식에서는 개별적으로 처리가 불가능.  \n",
        "따라서 에러별로 별도의 처리를 해줄 필요가 있을 시 사용.\n",
        "\n",
        "> ```python\n",
        "> try:\n",
        ">   코드 작성\n",
        "> except 에러1:\n",
        ">   예외 발생 시 처리 영역\n",
        "> except 에러2:\n",
        ">   예외 발생 시 처리 영역\n",
        "> ...\n",
        "> except Exception:\n",
        ">   예외 발생 시 처리 영역\n",
        "> ```"
      ]
    },
    {
      "cell_type": "code",
      "execution_count": 24,
      "metadata": {},
      "outputs": [
        {
          "name": "stdout",
          "output_type": "stream",
          "text": [
            "division by zero\n"
          ]
        }
      ],
      "source": [
        "try:\n",
        "    a = int(input())\n",
        "    b = int(input())\n",
        "    print(f'{a}/{b} = {a/b}')\n",
        "except ValueError as error :                  #except 뒤에 에러명을 추가해주면 어렵지 않게 에러처리를 할 수 있다. (error = ValueError)\n",
        "    print(error)\n",
        "except ZeroDivisionError as error:\n",
        "    print(error)\n"
      ]
    },
    {
      "cell_type": "markdown",
      "metadata": {
        "id": "35z_IK4UmtLr"
      },
      "source": [
        "#### 예외 메세지 처리\n",
        "지금까지 모든 예외 메세지를 직접 만들어 사용.  \n",
        "하지만 모든 예외는 기본적으로 예외 메세지를 이미 가지고 있음.  \n",
        "예외들이 가지고 있는 메세지를 확인하려면 except문에 as절을 추가해서 사용.\n",
        "\n",
        "> ```python\n",
        "> try:\n",
        ">   코드 작성\n",
        "> except 예외 as 예외 메세지:\n",
        ">   예외 발생 시 처리 영역\n",
        "> ```"
      ]
    },
    {
      "cell_type": "code",
      "execution_count": null,
      "metadata": {},
      "outputs": [],
      "source": []
    },
    {
      "cell_type": "markdown",
      "metadata": {
        "id": "M65hywT7nU5Q"
      },
      "source": [
        "#### else문과 finally문\n",
        "\n",
        "* else: 예외가 발생하지 않으면 처리되는 구문\n",
        "* finally: 예외 발생과 상관없이 항상 처리되는 구문\n",
        "\n",
        "> ```python\n",
        "> try:\n",
        ">   코드 작성\n",
        "> except:\n",
        ">   예외 발생 시 처리 영역\n",
        "> else:\n",
        ">   예외가 없을 시 처리 영역\n",
        "> finally:\n",
        ">   언제나 실행되는 영역\n",
        "> ```\n",
        "\n"
      ]
    },
    {
      "cell_type": "code",
      "execution_count": 31,
      "metadata": {},
      "outputs": [
        {
          "name": "stdout",
          "output_type": "stream",
          "text": [
            "5/5 = 1.0\n",
            "수행완료\n"
          ]
        }
      ],
      "source": [
        "try:\n",
        "    a = int(input())\n",
        "    b = int(input())\n",
        "    \n",
        "except ValueError as error :               \n",
        "    print(error)\n",
        "\n",
        "except ZeroDivisionError as error:\n",
        "    print(error)\n",
        "\n",
        "else:\n",
        "    print(f'{a}/{b} = {a/b}') # 아무 이상없으면 이거 출력하자, ZeroDivisionError: division by zero 여기서 error걸림\n",
        "\n",
        "finally:\n",
        "    print('수행완료') # error가 발생하든 안하든 무조건 마지막에 동작"
      ]
    },
    {
      "cell_type": "code",
      "execution_count": 29,
      "metadata": {},
      "outputs": [
        {
          "name": "stdout",
          "output_type": "stream",
          "text": [
            "5/5 = 1.0\n",
            "try 내 에러 없음\n",
            "수행완료\n"
          ]
        }
      ],
      "source": [
        "try:\n",
        "    a = int(input())\n",
        "    b = int(input())\n",
        "    print(f'{a}/{b} = {a/b}')\n",
        "    \n",
        "except ValueError as error :               \n",
        "    print(error)\n",
        "\n",
        "except ZeroDivisionError as error:\n",
        "    print(error)\n",
        "else: \n",
        "    print('try 내 에러 없음')\n",
        "finally:\n",
        "    print('수행완료') # error가 발생하든 안하든 무조건 마지막에 동작\n",
        "\n",
        "    "
      ]
    },
    {
      "cell_type": "markdown",
      "metadata": {
        "id": "3Lj7aS8xn0DU"
      },
      "source": [
        "### 8.2.4 강제로 예외 발생시키기\n",
        "\n",
        "파이썬은 예외로 인식하지 못하지만 실제로 예외 경우가 존재.  \n",
        "<br>\n",
        "어떤 사람의 나이를 정수로 입력받는 프로그램이 있다고 가정.  \n",
        "사용자가 -1000을 입력해도 오류는 발생하지 않으나  \n",
        "-1000은 사람의 나이가 될 수 없으므로 예외가 발생되어야 함.  \n",
        "이때, 직접 예외를 만들어 발생시켜야 하며 raise문을 이용.\n",
        "\n",
        "> ```python\n",
        "> raise 예외 클래스()\n",
        "> \n",
        "> 또는\n",
        "> \n",
        "> raise 예외 클래스(예외 메세지)\n",
        "> ```"
      ]
    },
    {
      "cell_type": "code",
      "execution_count": 32,
      "metadata": {},
      "outputs": [
        {
          "ename": "ValueError",
          "evalue": "0보다 작은 값은 입력할 수 없습니다.",
          "output_type": "error",
          "traceback": [
            "\u001b[1;31m---------------------------------------------------------------------------\u001b[0m",
            "\u001b[1;31mValueError\u001b[0m                                Traceback (most recent call last)",
            "Cell \u001b[1;32mIn[32], line 3\u001b[0m\n\u001b[0;32m      1\u001b[0m a \u001b[38;5;241m=\u001b[39m \u001b[38;5;241m0\u001b[39m\n\u001b[0;32m      2\u001b[0m \u001b[38;5;28;01mif\u001b[39;00m a \u001b[38;5;241m<\u001b[39m\u001b[38;5;241m=\u001b[39m \u001b[38;5;241m0\u001b[39m :\n\u001b[1;32m----> 3\u001b[0m     \u001b[38;5;28;01mraise\u001b[39;00m \u001b[38;5;167;01mValueError\u001b[39;00m(\u001b[38;5;124m'\u001b[39m\u001b[38;5;124m0보다 작은 값은 입력할 수 없습니다.\u001b[39m\u001b[38;5;124m'\u001b[39m)\n",
            "\u001b[1;31mValueError\u001b[0m: 0보다 작은 값은 입력할 수 없습니다."
          ]
        }
      ],
      "source": [
        "a = 0\n",
        "if a <= 0 :\n",
        "    raise ValueError('0보다 작은 값은 입력할 수 없습니다.')"
      ]
    },
    {
      "cell_type": "code",
      "execution_count": 36,
      "metadata": {},
      "outputs": [
        {
          "ename": "AssertionError",
          "evalue": "0보다 작은 값은 입력할 수 없습니다.",
          "output_type": "error",
          "traceback": [
            "\u001b[1;31m---------------------------------------------------------------------------\u001b[0m",
            "\u001b[1;31mAssertionError\u001b[0m                            Traceback (most recent call last)",
            "Cell \u001b[1;32mIn[36], line 2\u001b[0m\n\u001b[0;32m      1\u001b[0m a \u001b[38;5;241m=\u001b[39m \u001b[38;5;241m0\u001b[39m \u001b[38;5;66;03m# 이 구문을 더 많이 씀\u001b[39;00m\n\u001b[1;32m----> 2\u001b[0m \u001b[38;5;28;01massert\u001b[39;00m a \u001b[38;5;241m>\u001b[39m \u001b[38;5;241m0\u001b[39m, \u001b[38;5;124m'\u001b[39m\u001b[38;5;124m0보다 작은 값은 입력할 수 없습니다.\u001b[39m\u001b[38;5;124m'\u001b[39m\n",
            "\u001b[1;31mAssertionError\u001b[0m: 0보다 작은 값은 입력할 수 없습니다."
          ]
        }
      ],
      "source": [
        "a = 0 # 이 구문을 더 많이 씀\n",
        "assert a > 0, '0보다 작은 값은 입력할 수 없습니다.'"
      ]
    },
    {
      "cell_type": "code",
      "execution_count": 42,
      "metadata": {},
      "outputs": [
        {
          "name": "stdout",
          "output_type": "stream",
          "text": [
            "4 4 4 \n",
            "6 6 6 \n",
            "5 6 100 \n"
          ]
        }
      ],
      "source": [
        "a, b = map(int, input().split())\n",
        "\n",
        "N_list1 = [i for i in range(a)]\n",
        "N_list2 = [i for i in range(a)]\n",
        "\n",
        "for i in range(a):\n",
        "    N_list1[i] = input().split()\n",
        "\n",
        "for j in range(a):\n",
        "    N_list2[j] = input().split()\n",
        "\n",
        "for i in range(a):\n",
        "    for j in range(b):\n",
        "        N_list1[i][j] = int(N_list1[i][j]) + int(N_list2[i][j])\n",
        "\n",
        "for i in range(a):\n",
        "    for j in range(b):\n",
        "        print(N_list1[i][j], end=' ')\n",
        "    print()"
      ]
    },
    {
      "cell_type": "code",
      "execution_count": 53,
      "metadata": {},
      "outputs": [
        {
          "name": "stdout",
          "output_type": "stream",
          "text": [
            "90\n",
            "57\n"
          ]
        }
      ],
      "source": [
        "N_list = [0 for _ in range(9)]\n",
        "\n",
        "for i in range(9):\n",
        "    N_list[i] = input().split()\n",
        "\n",
        "max_1 = 0\n",
        "N_count = ''\n",
        "\n",
        "for i in range(9):\n",
        "    for j in range(9):\n",
        "        if int(N_list[i][j]) > max_1  :\n",
        "            max_1 = int(N_list[i][j])\n",
        "            N_count = (str(i+1) + str(j+1))\n",
        "        elif int(N_list[i][j]) == max_1  :\n",
        "            max_1 = max_1\n",
        "            N_count = N_count\n",
        "\n",
        "\n",
        "print(max_1)\n",
        "print(N_count[0], N_count[1])\n",
        "\n"
      ]
    },
    {
      "cell_type": "code",
      "execution_count": 68,
      "metadata": {},
      "outputs": [
        {
          "name": "stdout",
          "output_type": "stream",
          "text": [
            "입력값 확인\n"
          ]
        }
      ],
      "source": [
        "# try except을 통하여 refactoring\n",
        "\n",
        "def grade(score):\n",
        "    try:\n",
        "        score = int(score)\n",
        "\n",
        "        assert 0 <= score <= 100, ('입력된 숫자가 0보다 작거나 100보다 큽니다.')\n",
        "\n",
        "        \n",
        "        if 0 <= score <= 100:\n",
        "            if score >= 90:\n",
        "                return 'A'\n",
        "            elif score >= 80:\n",
        "                return 'B'\n",
        "            elif score >= 70:\n",
        "                return 'C'\n",
        "            elif score >= 60:\n",
        "                return 'D'\n",
        "            else:\n",
        "                return 'F'\n",
        "\n",
        "\n",
        "    except ValueError : # 자기가 알고 있는 에러는 다 쓰기\n",
        "        print('입력한 숫자를 확인하세요.')\n",
        "        print(f'현재 입력된 숫자는: {score}입니다.')\n",
        "\n",
        "    except AssertionError : # 자기가 알고 있는 에러는 다 쓰기\n",
        "        print('입력값 확인') \n",
        "    \n",
        "    except Exception as error:\n",
        "        print(error)\n",
        "\n",
        "\n",
        "grade(1000)\n",
        "\n",
        "    "
      ]
    },
    {
      "cell_type": "code",
      "execution_count": null,
      "metadata": {},
      "outputs": [],
      "source": [
        "# 코드에서 문제가 되는 부분에서 강제로 에러를 발생시키는 코드를 작성\n",
        "\n",
        "# try except을 통하여 refactoring\n",
        "\n",
        "def grade(score):\n",
        "    try:\n",
        "        score = int(score)\n",
        "\n",
        "        if score < 0 or score > 100 :\n",
        "            print('입력된 숫자가 0보다 작거나 100보다 큽니다.')\n",
        "            return\n",
        "        \n",
        "        if 0 <= score <= 100:\n",
        "            if score >= 90:\n",
        "                return 'A'\n",
        "            elif score >= 80:\n",
        "                return 'B'\n",
        "            elif score >= 70:\n",
        "                return 'C'\n",
        "            elif score >= 60:\n",
        "                return 'D'\n",
        "            else:\n",
        "                return 'F'\n",
        "\n",
        "\n",
        "    except ValueError :\n",
        "        print('입력한 숫자를 확인하세요.')\n",
        "        print(f'현재 입력된 숫자는: {score}입니다.')\n",
        "    \n",
        "    except Exception as error:\n",
        "        print(error)\n",
        "\n",
        "\n",
        "grade('sdsds')\n",
        "\n",
        "a = 0\n",
        "if a <= 0 :\n",
        "    raise ValueError('0보다 작은 값은 입력할 수 없습니다.')\n",
        "    "
      ]
    },
    {
      "cell_type": "code",
      "execution_count": 76,
      "metadata": {},
      "outputs": [
        {
          "name": "stdout",
          "output_type": "stream",
          "text": [
            "1\n",
            "0\n",
            "3\n",
            "1\n",
            "2\n"
          ]
        }
      ],
      "source": [
        "def Max_Big(n):\n",
        "    N_list = input().split()\n",
        "    max_n = 0\n",
        "    max_index = 0\n",
        "\n",
        "    for i in range(n):\n",
        "        \n",
        "        if int(N_list[i]) > max_n :\n",
        "            max_n = int(N_list[i])\n",
        "            max_index = i\n",
        "            \n",
        "    print(max_index + 1)\n",
        "        \n",
        "n = int(input())\n",
        "Max_Big(n)\n"
      ]
    },
    {
      "cell_type": "code",
      "execution_count": null,
      "metadata": {},
      "outputs": [],
      "source": [
        "n = int(input())\n",
        "\n",
        "list_ = []\n",
        "for _ in range(n):\n",
        "    list_.append(int(input()))\n",
        "\n",
        "max_element = max_1(list_)\n",
        "list_.index(max_element)"
      ]
    },
    {
      "cell_type": "code",
      "execution_count": null,
      "metadata": {},
      "outputs": [],
      "source": [
        "try :\n",
        "    n = int(input())\n",
        "\n",
        "    list_ = []\n",
        "    for _ in range(n):\n",
        "        list_.append(int(input()))\n",
        "\n",
        "    max_element = max_1(list_)\n",
        "    list_.index(max_element)\n",
        "\n",
        "except ValueError as error :\n",
        "    print(error)\n",
        "except"
      ]
    },
    {
      "cell_type": "code",
      "execution_count": 83,
      "metadata": {},
      "outputs": [
        {
          "name": "stdout",
          "output_type": "stream",
          "text": [
            "숫자 5을 입력하셨습니다\n"
          ]
        },
        {
          "ename": "TypeError",
          "evalue": "'int' object is not callable",
          "output_type": "error",
          "traceback": [
            "\u001b[1;31m---------------------------------------------------------------------------\u001b[0m",
            "\u001b[1;31mTypeError\u001b[0m                                 Traceback (most recent call last)",
            "Cell \u001b[1;32mIn[83], line 15\u001b[0m\n\u001b[0;32m     12\u001b[0m \u001b[38;5;28;01mfor\u001b[39;00m _ \u001b[38;5;129;01min\u001b[39;00m \u001b[38;5;28mrange\u001b[39m(n):\n\u001b[0;32m     13\u001b[0m     list_\u001b[38;5;241m.\u001b[39mappend(\u001b[38;5;28mint\u001b[39m(\u001b[38;5;28minput\u001b[39m(\u001b[38;5;124m'\u001b[39m\u001b[38;5;124m숫자를 입력해주세요: \u001b[39m\u001b[38;5;124m'\u001b[39m)))\n\u001b[1;32m---> 15\u001b[0m max_element \u001b[38;5;241m=\u001b[39m \u001b[38;5;28mmax\u001b[39m(list_)\n\u001b[0;32m     16\u001b[0m list_\u001b[38;5;241m.\u001b[39mindex(max_element)\n",
            "\u001b[1;31mTypeError\u001b[0m: 'int' object is not callable"
          ]
        }
      ],
      "source": [
        "while True :\n",
        "    n = input()\n",
        "    if n.isdecimal() == True :\n",
        "        n = int(n)\n",
        "        print(f'숫자 {n}을 입력하셨습니다')\n",
        "        break\n",
        "    else:\n",
        "        print('다시 숫자를 입력해주세요')\n",
        "\n",
        "list_ = []\n",
        "max_element = 0\n",
        "for _ in range(n):\n",
        "    list_.append(int(input('숫자를 입력해주세요: ')))\n",
        "\n",
        "max_element = max(list_)\n",
        "list_.index(max_element)"
      ]
    },
    {
      "cell_type": "code",
      "execution_count": 89,
      "metadata": {},
      "outputs": [],
      "source": [
        "def user_input():\n",
        "    try:\n",
        "        user_input2 = int(input())\n",
        "        return user_input2\n",
        "    except ValueError as error:\n",
        "        print(error)"
      ]
    },
    {
      "cell_type": "code",
      "execution_count": 90,
      "metadata": {},
      "outputs": [
        {
          "name": "stdout",
          "output_type": "stream",
          "text": [
            "invalid literal for int() with base 10: 'sdsds'\n"
          ]
        }
      ],
      "source": [
        "user_input()"
      ]
    }
  ],
  "metadata": {
    "colab": {
      "provenance": [],
      "toc_visible": true
    },
    "kernelspec": {
      "display_name": "Python 3.9.12 ('base')",
      "language": "python",
      "name": "python3"
    },
    "language_info": {
      "codemirror_mode": {
        "name": "ipython",
        "version": 3
      },
      "file_extension": ".py",
      "mimetype": "text/x-python",
      "name": "python",
      "nbconvert_exporter": "python",
      "pygments_lexer": "ipython3",
      "version": "3.12.4"
    },
    "vscode": {
      "interpreter": {
        "hash": "e4af6128c7e0808fede432f38729c473c5b0d80882e83c469acdb54455c56396"
      }
    }
  },
  "nbformat": 4,
  "nbformat_minor": 0
}
