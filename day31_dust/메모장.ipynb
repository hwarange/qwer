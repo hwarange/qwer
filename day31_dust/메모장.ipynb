{
 "cells": [
  {
   "cell_type": "markdown",
   "metadata": {},
   "source": [
    "### 홀드아웃(Hold-out)\n",
    "주어진 데이터를 랜덤하게 두개의 데이터로 구분하여 훈련/평가로 분류한 디 사용하는 방식이다. \n",
    "데이터가 충분한 경우, 훈련 데이터는 다시 훈련/검증용 데이터로 분류할 수 있다.\n",
    "\n",
    "### 교차검증(K-fold Cross-Validation)\n",
    "데이터를 무작위, 혹은 규칙을 설정하여 K개의 집단으로 구분한 뒤, 한 개의 데이터 집단을 검증용 데이터셋으로 활용한다. 이를 K번 반복하여 얻은 MSE값을 최종 성과지표로 활용된다.\n",
    "\n",
    "데이터 셋을 K번 반복하여 학습하기 떄문에 시간이 오래 걸리는 단점이 있지만, 다양한 학습 데이터를 사용하는 관점에서 성능이 좋다는 장점이 있다.\n"
   ]
  },
  {
   "cell_type": "code",
   "execution_count": null,
   "metadata": {},
   "outputs": [],
   "source": [
    "#11. 데이터를 통해 불량과 불량이 아닌 상태를 정의하려고 한다. 어떻게 정의할 수 있을지 서술하라."
   ]
  },
  {
   "cell_type": "code",
   "execution_count": 3,
   "metadata": {},
   "outputs": [],
   "source": [
    "import pandas as pd\n",
    "import numpy as np"
   ]
  },
  {
   "cell_type": "code",
   "execution_count": 7,
   "metadata": {},
   "outputs": [
    {
     "data": {
      "text/html": [
       "<div>\n",
       "<style scoped>\n",
       "    .dataframe tbody tr th:only-of-type {\n",
       "        vertical-align: middle;\n",
       "    }\n",
       "\n",
       "    .dataframe tbody tr th {\n",
       "        vertical-align: top;\n",
       "    }\n",
       "\n",
       "    .dataframe thead th {\n",
       "        text-align: right;\n",
       "    }\n",
       "</style>\n",
       "<table border=\"1\" class=\"dataframe\">\n",
       "  <thead>\n",
       "    <tr style=\"text-align: right;\">\n",
       "      <th></th>\n",
       "      <th>일자</th>\n",
       "      <th>종가</th>\n",
       "      <th>대비</th>\n",
       "      <th>등락률</th>\n",
       "      <th>시가</th>\n",
       "      <th>고가</th>\n",
       "      <th>저가</th>\n",
       "      <th>거래량</th>\n",
       "      <th>거래대금</th>\n",
       "      <th>시가총액</th>\n",
       "      <th>상장주식수</th>\n",
       "    </tr>\n",
       "  </thead>\n",
       "  <tbody>\n",
       "    <tr>\n",
       "      <th>244</th>\n",
       "      <td>2023/01/02</td>\n",
       "      <td>55500</td>\n",
       "      <td>200</td>\n",
       "      <td>0.36</td>\n",
       "      <td>55500</td>\n",
       "      <td>56100</td>\n",
       "      <td>55200</td>\n",
       "      <td>10031448</td>\n",
       "      <td>558433491400</td>\n",
       "      <td>331322931525000</td>\n",
       "      <td>5969782550</td>\n",
       "    </tr>\n",
       "    <tr>\n",
       "      <th>243</th>\n",
       "      <td>2023/01/03</td>\n",
       "      <td>55400</td>\n",
       "      <td>-100</td>\n",
       "      <td>-0.18</td>\n",
       "      <td>55400</td>\n",
       "      <td>56000</td>\n",
       "      <td>54500</td>\n",
       "      <td>13547030</td>\n",
       "      <td>747898872200</td>\n",
       "      <td>330725953270000</td>\n",
       "      <td>5969782550</td>\n",
       "    </tr>\n",
       "    <tr>\n",
       "      <th>242</th>\n",
       "      <td>2023/01/04</td>\n",
       "      <td>57800</td>\n",
       "      <td>2400</td>\n",
       "      <td>4.33</td>\n",
       "      <td>55700</td>\n",
       "      <td>58000</td>\n",
       "      <td>55600</td>\n",
       "      <td>20188071</td>\n",
       "      <td>1151473733800</td>\n",
       "      <td>345053431390000</td>\n",
       "      <td>5969782550</td>\n",
       "    </tr>\n",
       "    <tr>\n",
       "      <th>241</th>\n",
       "      <td>2023/01/05</td>\n",
       "      <td>58200</td>\n",
       "      <td>400</td>\n",
       "      <td>0.69</td>\n",
       "      <td>58200</td>\n",
       "      <td>58800</td>\n",
       "      <td>57600</td>\n",
       "      <td>15682826</td>\n",
       "      <td>911973904900</td>\n",
       "      <td>347441344410000</td>\n",
       "      <td>5969782550</td>\n",
       "    </tr>\n",
       "    <tr>\n",
       "      <th>240</th>\n",
       "      <td>2023/01/06</td>\n",
       "      <td>59000</td>\n",
       "      <td>800</td>\n",
       "      <td>1.37</td>\n",
       "      <td>58300</td>\n",
       "      <td>59400</td>\n",
       "      <td>57900</td>\n",
       "      <td>17334989</td>\n",
       "      <td>1018769177900</td>\n",
       "      <td>352217170450000</td>\n",
       "      <td>5969782550</td>\n",
       "    </tr>\n",
       "    <tr>\n",
       "      <th>...</th>\n",
       "      <td>...</td>\n",
       "      <td>...</td>\n",
       "      <td>...</td>\n",
       "      <td>...</td>\n",
       "      <td>...</td>\n",
       "      <td>...</td>\n",
       "      <td>...</td>\n",
       "      <td>...</td>\n",
       "      <td>...</td>\n",
       "      <td>...</td>\n",
       "      <td>...</td>\n",
       "    </tr>\n",
       "    <tr>\n",
       "      <th>4</th>\n",
       "      <td>2023/12/21</td>\n",
       "      <td>75000</td>\n",
       "      <td>200</td>\n",
       "      <td>0.27</td>\n",
       "      <td>74600</td>\n",
       "      <td>75000</td>\n",
       "      <td>74300</td>\n",
       "      <td>13478766</td>\n",
       "      <td>1006935676000</td>\n",
       "      <td>447733691250000</td>\n",
       "      <td>5969782550</td>\n",
       "    </tr>\n",
       "    <tr>\n",
       "      <th>3</th>\n",
       "      <td>2023/12/22</td>\n",
       "      <td>75900</td>\n",
       "      <td>900</td>\n",
       "      <td>1.20</td>\n",
       "      <td>75800</td>\n",
       "      <td>76300</td>\n",
       "      <td>75400</td>\n",
       "      <td>14515608</td>\n",
       "      <td>1100293343120</td>\n",
       "      <td>453106495545000</td>\n",
       "      <td>5969782550</td>\n",
       "    </tr>\n",
       "    <tr>\n",
       "      <th>2</th>\n",
       "      <td>2023/12/26</td>\n",
       "      <td>76600</td>\n",
       "      <td>700</td>\n",
       "      <td>0.92</td>\n",
       "      <td>76100</td>\n",
       "      <td>76700</td>\n",
       "      <td>75700</td>\n",
       "      <td>13164909</td>\n",
       "      <td>1005443436300</td>\n",
       "      <td>457285343330000</td>\n",
       "      <td>5969782550</td>\n",
       "    </tr>\n",
       "    <tr>\n",
       "      <th>1</th>\n",
       "      <td>2023/12/27</td>\n",
       "      <td>78000</td>\n",
       "      <td>1400</td>\n",
       "      <td>1.83</td>\n",
       "      <td>76700</td>\n",
       "      <td>78000</td>\n",
       "      <td>76500</td>\n",
       "      <td>20651042</td>\n",
       "      <td>1600118111700</td>\n",
       "      <td>465643038900000</td>\n",
       "      <td>5969782550</td>\n",
       "    </tr>\n",
       "    <tr>\n",
       "      <th>0</th>\n",
       "      <td>2023/12/28</td>\n",
       "      <td>78500</td>\n",
       "      <td>500</td>\n",
       "      <td>0.64</td>\n",
       "      <td>77700</td>\n",
       "      <td>78500</td>\n",
       "      <td>77500</td>\n",
       "      <td>17797536</td>\n",
       "      <td>1388290767300</td>\n",
       "      <td>468627930175000</td>\n",
       "      <td>5969782550</td>\n",
       "    </tr>\n",
       "  </tbody>\n",
       "</table>\n",
       "<p>245 rows × 11 columns</p>\n",
       "</div>"
      ],
      "text/plain": [
       "             일자     종가    대비   등락률     시가     고가     저가       거래량  \\\n",
       "244  2023/01/02  55500   200  0.36  55500  56100  55200  10031448   \n",
       "243  2023/01/03  55400  -100 -0.18  55400  56000  54500  13547030   \n",
       "242  2023/01/04  57800  2400  4.33  55700  58000  55600  20188071   \n",
       "241  2023/01/05  58200   400  0.69  58200  58800  57600  15682826   \n",
       "240  2023/01/06  59000   800  1.37  58300  59400  57900  17334989   \n",
       "..          ...    ...   ...   ...    ...    ...    ...       ...   \n",
       "4    2023/12/21  75000   200  0.27  74600  75000  74300  13478766   \n",
       "3    2023/12/22  75900   900  1.20  75800  76300  75400  14515608   \n",
       "2    2023/12/26  76600   700  0.92  76100  76700  75700  13164909   \n",
       "1    2023/12/27  78000  1400  1.83  76700  78000  76500  20651042   \n",
       "0    2023/12/28  78500   500  0.64  77700  78500  77500  17797536   \n",
       "\n",
       "              거래대금             시가총액       상장주식수  \n",
       "244   558433491400  331322931525000  5969782550  \n",
       "243   747898872200  330725953270000  5969782550  \n",
       "242  1151473733800  345053431390000  5969782550  \n",
       "241   911973904900  347441344410000  5969782550  \n",
       "240  1018769177900  352217170450000  5969782550  \n",
       "..             ...              ...         ...  \n",
       "4    1006935676000  447733691250000  5969782550  \n",
       "3    1100293343120  453106495545000  5969782550  \n",
       "2    1005443436300  457285343330000  5969782550  \n",
       "1    1600118111700  465643038900000  5969782550  \n",
       "0    1388290767300  468627930175000  5969782550  \n",
       "\n",
       "[245 rows x 11 columns]"
      ]
     },
     "execution_count": 7,
     "metadata": {},
     "output_type": "execute_result"
    }
   ],
   "source": [
    "samsung =pd.read_csv('./data/samsung_2023.csv', encoding='cp949')\n",
    "samsung.sort_values(by='일자')"
   ]
  },
  {
   "cell_type": "code",
   "execution_count": 23,
   "metadata": {},
   "outputs": [
    {
     "data": {
      "text/html": [
       "<div>\n",
       "<style scoped>\n",
       "    .dataframe tbody tr th:only-of-type {\n",
       "        vertical-align: middle;\n",
       "    }\n",
       "\n",
       "    .dataframe tbody tr th {\n",
       "        vertical-align: top;\n",
       "    }\n",
       "\n",
       "    .dataframe thead th {\n",
       "        text-align: right;\n",
       "    }\n",
       "</style>\n",
       "<table border=\"1\" class=\"dataframe\">\n",
       "  <thead>\n",
       "    <tr style=\"text-align: right;\">\n",
       "      <th></th>\n",
       "      <th>미세먼지(PM10)</th>\n",
       "      <th>초미세먼지(PM2.5)</th>\n",
       "    </tr>\n",
       "    <tr>\n",
       "      <th>일시</th>\n",
       "      <th></th>\n",
       "      <th></th>\n",
       "    </tr>\n",
       "  </thead>\n",
       "  <tbody>\n",
       "    <tr>\n",
       "      <th>2022-01-01 00:00:00</th>\n",
       "      <td>20.0</td>\n",
       "      <td>8.0</td>\n",
       "    </tr>\n",
       "    <tr>\n",
       "      <th>2022-01-01 10:00:00</th>\n",
       "      <td>24.0</td>\n",
       "      <td>12.0</td>\n",
       "    </tr>\n",
       "    <tr>\n",
       "      <th>2022-01-01 11:00:00</th>\n",
       "      <td>26.0</td>\n",
       "      <td>13.0</td>\n",
       "    </tr>\n",
       "    <tr>\n",
       "      <th>2022-01-01 12:00:00</th>\n",
       "      <td>25.0</td>\n",
       "      <td>13.0</td>\n",
       "    </tr>\n",
       "    <tr>\n",
       "      <th>2022-01-01 13:00:00</th>\n",
       "      <td>28.0</td>\n",
       "      <td>14.0</td>\n",
       "    </tr>\n",
       "    <tr>\n",
       "      <th>2022-01-01 14:00:00</th>\n",
       "      <td>27.0</td>\n",
       "      <td>15.0</td>\n",
       "    </tr>\n",
       "    <tr>\n",
       "      <th>2022-01-01 15:00:00</th>\n",
       "      <td>30.0</td>\n",
       "      <td>16.0</td>\n",
       "    </tr>\n",
       "    <tr>\n",
       "      <th>2022-01-01 16:00:00</th>\n",
       "      <td>29.0</td>\n",
       "      <td>16.0</td>\n",
       "    </tr>\n",
       "    <tr>\n",
       "      <th>2022-01-01 17:00:00</th>\n",
       "      <td>31.0</td>\n",
       "      <td>18.0</td>\n",
       "    </tr>\n",
       "    <tr>\n",
       "      <th>2022-01-01 18:00:00</th>\n",
       "      <td>33.0</td>\n",
       "      <td>20.0</td>\n",
       "    </tr>\n",
       "  </tbody>\n",
       "</table>\n",
       "</div>"
      ],
      "text/plain": [
       "                     미세먼지(PM10)  초미세먼지(PM2.5)\n",
       "일시                                           \n",
       "2022-01-01 00:00:00        20.0           8.0\n",
       "2022-01-01 10:00:00        24.0          12.0\n",
       "2022-01-01 11:00:00        26.0          13.0\n",
       "2022-01-01 12:00:00        25.0          13.0\n",
       "2022-01-01 13:00:00        28.0          14.0\n",
       "2022-01-01 14:00:00        27.0          15.0\n",
       "2022-01-01 15:00:00        30.0          16.0\n",
       "2022-01-01 16:00:00        29.0          16.0\n",
       "2022-01-01 17:00:00        31.0          18.0\n",
       "2022-01-01 18:00:00        33.0          20.0"
      ]
     },
     "execution_count": 23,
     "metadata": {},
     "output_type": "execute_result"
    }
   ],
   "source": [
    "dust = pd.read_csv('./data/서울시 대기질 자료 제공_2022.csv', encoding='cp949')\n",
    "dust = dust.query('`구분` == \"평균\"').sort_values(by='일시').drop(columns=['구분'])\n",
    "dust.일시 = pd.to_datetime(dust.일시)\n",
    "dust = dust.set_index('일시')\n",
    "\n",
    "\n",
    "dust.head(10)"
   ]
  },
  {
   "cell_type": "code",
   "execution_count": 72,
   "metadata": {},
   "outputs": [],
   "source": [
    "dust = dust.drop_duplicates()"
   ]
  },
  {
   "cell_type": "code",
   "execution_count": 39,
   "metadata": {},
   "outputs": [],
   "source": [
    "dust['먼지평균'] = dust.sum('columns').values/2"
   ]
  },
  {
   "cell_type": "code",
   "execution_count": 2,
   "metadata": {},
   "outputs": [
    {
     "ename": "NameError",
     "evalue": "name 'pd' is not defined",
     "output_type": "error",
     "traceback": [
      "\u001b[1;31m---------------------------------------------------------------------------\u001b[0m",
      "\u001b[1;31mNameError\u001b[0m                                 Traceback (most recent call last)",
      "Cell \u001b[1;32mIn[2], line 1\u001b[0m\n\u001b[1;32m----> 1\u001b[0m dust \u001b[38;5;241m=\u001b[39m \u001b[43mpd\u001b[49m\u001b[38;5;241m.\u001b[39mread_csv(\u001b[38;5;124m'\u001b[39m\u001b[38;5;124m./data/서울시 대기질 자료 제공_2022.csv\u001b[39m\u001b[38;5;124m'\u001b[39m, encoding\u001b[38;5;241m=\u001b[39m\u001b[38;5;124m'\u001b[39m\u001b[38;5;124mcp949\u001b[39m\u001b[38;5;124m'\u001b[39m)\n\u001b[0;32m      2\u001b[0m dust \u001b[38;5;241m=\u001b[39m dust\u001b[38;5;241m.\u001b[39mquery(\u001b[38;5;124m'\u001b[39m\u001b[38;5;124m`구분` == \u001b[39m\u001b[38;5;124m\"\u001b[39m\u001b[38;5;124m평균\u001b[39m\u001b[38;5;124m\"\u001b[39m\u001b[38;5;124m'\u001b[39m)\u001b[38;5;241m.\u001b[39msort_values(by\u001b[38;5;241m=\u001b[39m\u001b[38;5;124m'\u001b[39m\u001b[38;5;124m일시\u001b[39m\u001b[38;5;124m'\u001b[39m)\u001b[38;5;241m.\u001b[39mdrop(columns\u001b[38;5;241m=\u001b[39m[\u001b[38;5;124m'\u001b[39m\u001b[38;5;124m구분\u001b[39m\u001b[38;5;124m'\u001b[39m])\n\u001b[0;32m      3\u001b[0m dust\u001b[38;5;241m.\u001b[39m일시 \u001b[38;5;241m=\u001b[39m pd\u001b[38;5;241m.\u001b[39mto_datetime(dust\u001b[38;5;241m.\u001b[39m일시)\n",
      "\u001b[1;31mNameError\u001b[0m: name 'pd' is not defined"
     ]
    }
   ],
   "source": [
    "dust = pd.read_csv('./data/서울시 대기질 자료 제공_2022.csv', encoding='cp949')\n",
    "dust = dust.query('`구분` == \"평균\"').sort_values(by='일시').drop(columns=['구분'])\n",
    "dust.일시 = pd.to_datetime(dust.일시)\n",
    "dust = dust.set_index('일시')\n",
    "dust['먼지평균'] = dust.sum('columns').values/2\n",
    "dust = dust.iloc[:, -1:]"
   ]
  },
  {
   "cell_type": "code",
   "execution_count": 1,
   "metadata": {},
   "outputs": [
    {
     "ename": "NameError",
     "evalue": "name 'dust' is not defined",
     "output_type": "error",
     "traceback": [
      "\u001b[1;31m---------------------------------------------------------------------------\u001b[0m",
      "\u001b[1;31mNameError\u001b[0m                                 Traceback (most recent call last)",
      "Cell \u001b[1;32mIn[1], line 1\u001b[0m\n\u001b[1;32m----> 1\u001b[0m \u001b[43mdust\u001b[49m\n",
      "\u001b[1;31mNameError\u001b[0m: name 'dust' is not defined"
     ]
    }
   ],
   "source": [
    "dust"
   ]
  },
  {
   "cell_type": "code",
   "execution_count": 68,
   "metadata": {},
   "outputs": [
    {
     "data": {
      "text/plain": [
       "(8746, 10, 1)"
      ]
     },
     "execution_count": 68,
     "metadata": {},
     "output_type": "execute_result"
    }
   ],
   "source": [
    "np.lib.stride_tricks.sliding_window_view(dust, 10, axis=0)[:-5].transpose(0, 2, 1).shape"
   ]
  },
  {
   "cell_type": "code",
   "execution_count": 57,
   "metadata": {},
   "outputs": [
    {
     "data": {
      "text/plain": [
       "(8746, 10, 1)"
      ]
     },
     "execution_count": 57,
     "metadata": {},
     "output_type": "execute_result"
    }
   ],
   "source": [
    "np.lib.stride_tricks.sliding_window_view(dust, 10, axis=0)[:-5].transpose(0, 2, 1).shape"
   ]
  },
  {
   "cell_type": "code",
   "execution_count": 58,
   "metadata": {},
   "outputs": [
    {
     "data": {
      "text/plain": [
       "(8746, 5)"
      ]
     },
     "execution_count": 58,
     "metadata": {},
     "output_type": "execute_result"
    }
   ],
   "source": [
    "np.lib.stride_tricks.sliding_window_view(dust['먼지평균'].iloc[10:], 5).shape"
   ]
  },
  {
   "cell_type": "code",
   "execution_count": 59,
   "metadata": {},
   "outputs": [],
   "source": [
    "data = pd.read_csv('./data/samsung_2023.csv', encoding='cp949', usecols=['일자', '종가', '거래량'])\n",
    "data = data.sort_values(by=['일자'])\n",
    "data.일자 = pd.to_datetime(data.일자)\n",
    "data = data.set_index('일자')\n",
    "data = data.astype(np.float32)"
   ]
  },
  {
   "cell_type": "code",
   "execution_count": 60,
   "metadata": {},
   "outputs": [
    {
     "data": {
      "text/plain": [
       "(231, 5, 2)"
      ]
     },
     "execution_count": 60,
     "metadata": {},
     "output_type": "execute_result"
    }
   ],
   "source": [
    "np.lib.stride_tricks.sliding_window_view(data, 5, axis=0)[:-10].transpose(0, 2, 1).shape\n"
   ]
  },
  {
   "cell_type": "code",
   "execution_count": 62,
   "metadata": {},
   "outputs": [
    {
     "data": {
      "text/plain": [
       "(231, 10)"
      ]
     },
     "execution_count": 62,
     "metadata": {},
     "output_type": "execute_result"
    }
   ],
   "source": [
    "np.lib.stride_tricks.sliding_window_view(data.종가.iloc[5:], 10).shape"
   ]
  },
  {
   "cell_type": "code",
   "execution_count": 3,
   "metadata": {},
   "outputs": [
    {
     "data": {
      "text/html": [
       "<div>\n",
       "<style scoped>\n",
       "    .dataframe tbody tr th:only-of-type {\n",
       "        vertical-align: middle;\n",
       "    }\n",
       "\n",
       "    .dataframe tbody tr th {\n",
       "        vertical-align: top;\n",
       "    }\n",
       "\n",
       "    .dataframe thead th {\n",
       "        text-align: right;\n",
       "    }\n",
       "</style>\n",
       "<table border=\"1\" class=\"dataframe\">\n",
       "  <thead>\n",
       "    <tr style=\"text-align: right;\">\n",
       "      <th></th>\n",
       "      <th>air_inflow</th>\n",
       "      <th>air_end_temp</th>\n",
       "      <th>out_pressure</th>\n",
       "      <th>motor_current</th>\n",
       "      <th>motor_rpm</th>\n",
       "      <th>motor_temp</th>\n",
       "      <th>motor_vibe</th>\n",
       "      <th>type</th>\n",
       "    </tr>\n",
       "  </thead>\n",
       "  <tbody>\n",
       "    <tr>\n",
       "      <th>count</th>\n",
       "      <td>7389.000000</td>\n",
       "      <td>7389.000000</td>\n",
       "      <td>7389.000000</td>\n",
       "      <td>7389.000000</td>\n",
       "      <td>7389.000000</td>\n",
       "      <td>7389.000000</td>\n",
       "      <td>7389.000000</td>\n",
       "      <td>7389.000000</td>\n",
       "    </tr>\n",
       "    <tr>\n",
       "      <th>mean</th>\n",
       "      <td>2.103129</td>\n",
       "      <td>49.042735</td>\n",
       "      <td>0.699840</td>\n",
       "      <td>27.417935</td>\n",
       "      <td>2373.820003</td>\n",
       "      <td>65.771623</td>\n",
       "      <td>3.345523</td>\n",
       "      <td>2.957369</td>\n",
       "    </tr>\n",
       "    <tr>\n",
       "      <th>std</th>\n",
       "      <td>1.163998</td>\n",
       "      <td>8.686208</td>\n",
       "      <td>0.005377</td>\n",
       "      <td>13.234089</td>\n",
       "      <td>687.737182</td>\n",
       "      <td>7.741473</td>\n",
       "      <td>0.644199</td>\n",
       "      <td>2.229811</td>\n",
       "    </tr>\n",
       "    <tr>\n",
       "      <th>min</th>\n",
       "      <td>0.340000</td>\n",
       "      <td>32.080000</td>\n",
       "      <td>0.490000</td>\n",
       "      <td>5.370000</td>\n",
       "      <td>1200.000000</td>\n",
       "      <td>50.420000</td>\n",
       "      <td>1.970000</td>\n",
       "      <td>0.000000</td>\n",
       "    </tr>\n",
       "    <tr>\n",
       "      <th>25%</th>\n",
       "      <td>1.280000</td>\n",
       "      <td>41.510000</td>\n",
       "      <td>0.700000</td>\n",
       "      <td>17.200000</td>\n",
       "      <td>1774.000000</td>\n",
       "      <td>59.110000</td>\n",
       "      <td>2.890000</td>\n",
       "      <td>1.000000</td>\n",
       "    </tr>\n",
       "    <tr>\n",
       "      <th>50%</th>\n",
       "      <td>1.940000</td>\n",
       "      <td>48.760000</td>\n",
       "      <td>0.700000</td>\n",
       "      <td>26.170000</td>\n",
       "      <td>2355.000000</td>\n",
       "      <td>65.520000</td>\n",
       "      <td>3.260000</td>\n",
       "      <td>3.000000</td>\n",
       "    </tr>\n",
       "    <tr>\n",
       "      <th>75%</th>\n",
       "      <td>2.770000</td>\n",
       "      <td>56.580000</td>\n",
       "      <td>0.700000</td>\n",
       "      <td>35.860000</td>\n",
       "      <td>2972.000000</td>\n",
       "      <td>72.440000</td>\n",
       "      <td>3.730000</td>\n",
       "      <td>5.000000</td>\n",
       "    </tr>\n",
       "    <tr>\n",
       "      <th>max</th>\n",
       "      <td>6.240000</td>\n",
       "      <td>65.540000</td>\n",
       "      <td>0.700000</td>\n",
       "      <td>74.000000</td>\n",
       "      <td>3564.000000</td>\n",
       "      <td>82.390000</td>\n",
       "      <td>6.260000</td>\n",
       "      <td>7.000000</td>\n",
       "    </tr>\n",
       "  </tbody>\n",
       "</table>\n",
       "</div>"
      ],
      "text/plain": [
       "        air_inflow  air_end_temp  out_pressure  motor_current    motor_rpm  \\\n",
       "count  7389.000000   7389.000000   7389.000000    7389.000000  7389.000000   \n",
       "mean      2.103129     49.042735      0.699840      27.417935  2373.820003   \n",
       "std       1.163998      8.686208      0.005377      13.234089   687.737182   \n",
       "min       0.340000     32.080000      0.490000       5.370000  1200.000000   \n",
       "25%       1.280000     41.510000      0.700000      17.200000  1774.000000   \n",
       "50%       1.940000     48.760000      0.700000      26.170000  2355.000000   \n",
       "75%       2.770000     56.580000      0.700000      35.860000  2972.000000   \n",
       "max       6.240000     65.540000      0.700000      74.000000  3564.000000   \n",
       "\n",
       "        motor_temp   motor_vibe         type  \n",
       "count  7389.000000  7389.000000  7389.000000  \n",
       "mean     65.771623     3.345523     2.957369  \n",
       "std       7.741473     0.644199     2.229811  \n",
       "min      50.420000     1.970000     0.000000  \n",
       "25%      59.110000     2.890000     1.000000  \n",
       "50%      65.520000     3.260000     3.000000  \n",
       "75%      72.440000     3.730000     5.000000  \n",
       "max      82.390000     6.260000     7.000000  "
      ]
     },
     "execution_count": 3,
     "metadata": {},
     "output_type": "execute_result"
    }
   ],
   "source": [
    "test = pd.read_csv('./test_data/test_data.csv')\n",
    "test.describe()"
   ]
  },
  {
   "cell_type": "code",
   "execution_count": 4,
   "metadata": {},
   "outputs": [
    {
     "name": "stderr",
     "output_type": "stream",
     "text": [
      "C:\\Users\\USER\\AppData\\Local\\Temp\\ipykernel_4452\\2067148131.py:1: DtypeWarning: Columns (2) have mixed types. Specify dtype option on import or set low_memory=False.\n",
      "  market = pd.read_csv('./test_data/data_1.csv')\n"
     ]
    }
   ],
   "source": [
    "market = pd.read_csv('./test_data/data_1.csv')\n"
   ]
  },
  {
   "cell_type": "code",
   "execution_count": 96,
   "metadata": {},
   "outputs": [
    {
     "data": {
      "text/plain": [
       "0         27\n",
       "91         2\n",
       "460437     2\n",
       "30         2\n",
       "451345     1\n",
       "75547      1\n",
       "29         1\n",
       "399916     1\n",
       "240972     1\n",
       "142577     1\n",
       "Name: count, dtype: int64"
      ]
     },
     "execution_count": 96,
     "metadata": {},
     "output_type": "execute_result"
    }
   ],
   "source": [
    "market.isna().sum().value_counts()"
   ]
  },
  {
   "cell_type": "code",
   "execution_count": 18,
   "metadata": {},
   "outputs": [
    {
     "data": {
      "text/plain": [
       "460346"
      ]
     },
     "execution_count": 18,
     "metadata": {},
     "output_type": "execute_result"
    }
   ],
   "source": [
    "\n",
    "#2. 컬럼별 결측치의 합이 500인 미만의 컬럼을 선택 후 dropna()를 했을 때 row의 수는?\n",
    "#표준산업분류코드         91\n",
    "# 표준산업분류명          91"
   ]
  },
  {
   "cell_type": "code",
   "execution_count": 93,
   "metadata": {},
   "outputs": [],
   "source": [
    "market = market.dropna(subset=['표준산업분류명', '표준산업분류코드'])"
   ]
  },
  {
   "cell_type": "code",
   "execution_count": 35,
   "metadata": {},
   "outputs": [
    {
     "data": {
      "text/plain": [
       "array(['I2', 'I1', 'P1', 'M1', 'G2', 'N1', 'S2', 'L1', 'R1', 'Q1'],\n",
       "      dtype=object)"
      ]
     },
     "execution_count": 35,
     "metadata": {},
     "output_type": "execute_result"
    }
   ],
   "source": [
    "market['상권업종대분류코드'].unique()"
   ]
  },
  {
   "cell_type": "code",
   "execution_count": 36,
   "metadata": {},
   "outputs": [
    {
     "name": "stdout",
     "output_type": "stream",
     "text": [
      "<class 'pandas.core.frame.DataFrame'>\n",
      "Index: 460346 entries, 0 to 460436\n",
      "Data columns (total 39 columns):\n",
      " #   Column     Non-Null Count   Dtype  \n",
      "---  ------     --------------   -----  \n",
      " 0   상가업소번호     460346 non-null  object \n",
      " 1   상호명        460346 non-null  object \n",
      " 2   지점명        9089 non-null    object \n",
      " 3   상권업종대분류코드  460346 non-null  object \n",
      " 4   상권업종대분류명   460346 non-null  object \n",
      " 5   상권업종중분류코드  460346 non-null  object \n",
      " 6   상권업종중분류명   460346 non-null  object \n",
      " 7   상권업종소분류코드  460346 non-null  object \n",
      " 8   상권업종소분류명   460346 non-null  object \n",
      " 9   표준산업분류코드   460346 non-null  object \n",
      " 10  표준산업분류명    460346 non-null  object \n",
      " 11  시도코드       460346 non-null  int64  \n",
      " 12  시도명        460346 non-null  object \n",
      " 13  시군구코드      460346 non-null  int64  \n",
      " 14  시군구명       460346 non-null  object \n",
      " 15  행정동코드      460346 non-null  int64  \n",
      " 16  행정동명       460346 non-null  object \n",
      " 17  법정동코드      460346 non-null  int64  \n",
      " 18  법정동명       460346 non-null  object \n",
      " 19  지번코드       460346 non-null  int64  \n",
      " 20  대지구분코드     460346 non-null  int64  \n",
      " 21  대지구분명      460346 non-null  object \n",
      " 22  지번본번지      460346 non-null  int64  \n",
      " 23  지번부번지      384814 non-null  float64\n",
      " 24  지번주소       460346 non-null  object \n",
      " 25  도로명코드      460317 non-null  float64\n",
      " 26  도로명        460346 non-null  object \n",
      " 27  건물본번지      460316 non-null  float64\n",
      " 28  건물부번지      60509 non-null   float64\n",
      " 29  건물관리번호     460316 non-null  object \n",
      " 30  건물명        219398 non-null  object \n",
      " 31  도로명주소      460346 non-null  object \n",
      " 32  구우편번호      460346 non-null  int64  \n",
      " 33  신우편번호      460346 non-null  int64  \n",
      " 34  동정보        0 non-null       float64\n",
      " 35  층정보        317794 non-null  object \n",
      " 36  호정보        0 non-null       float64\n",
      " 37  경도         460346 non-null  float64\n",
      " 38  위도         460346 non-null  float64\n",
      "dtypes: float64(8), int64(9), object(22)\n",
      "memory usage: 140.5+ MB\n"
     ]
    }
   ],
   "source": [
    "market"
   ]
  },
  {
   "cell_type": "code",
   "execution_count": 38,
   "metadata": {},
   "outputs": [
    {
     "data": {
      "text/plain": [
       "array(['광진구', '중구', '노원구', '양천구', '강서구', '송파구', '구로구', '강남구', '영등포구',\n",
       "       '금천구', '마포구', '성동구', '중랑구', '서초구', '동작구', '은평구', '동대문구', '서대문구',\n",
       "       '도봉구', '종로구', '성북구', '강동구', '용산구', '관악구', '강북구'], dtype=object)"
      ]
     },
     "execution_count": 38,
     "metadata": {},
     "output_type": "execute_result"
    }
   ],
   "source": [
    "market['시군구명'].unique()"
   ]
  },
  {
   "cell_type": "code",
   "execution_count": 51,
   "metadata": {},
   "outputs": [
    {
     "data": {
      "text/plain": [
       "0              영자's곱창\n",
       "1               호텔클로이\n",
       "2           나라차중계태권도장\n",
       "3               이상한스냅\n",
       "4                 토끼정\n",
       "             ...     \n",
       "460432    마스터부동산중개사무소\n",
       "460433     그릿뷰티아카데미학원\n",
       "460434          최지원렌탈\n",
       "460435        매직노래연습장\n",
       "460436            곱창꾼\n",
       "Name: 상호명, Length: 460346, dtype: object"
      ]
     },
     "execution_count": 51,
     "metadata": {},
     "output_type": "execute_result"
    }
   ],
   "source": [
    "market['상호명']"
   ]
  },
  {
   "cell_type": "code",
   "execution_count": 65,
   "metadata": {},
   "outputs": [
    {
     "data": {
      "text/plain": [
       "Index(['상가업소번호', '상호명', '지점명', '상권업종대분류코드', '상권업종대분류명', '상권업종중분류코드',\n",
       "       '상권업종중분류명', '상권업종소분류코드', '상권업종소분류명', '표준산업분류코드', '표준산업분류명', '시도코드',\n",
       "       '시도명', '시군구코드', '시군구명', '행정동코드', '행정동명', '법정동코드', '법정동명', '지번코드',\n",
       "       '대지구분코드', '대지구분명', '지번본번지', '지번부번지', '지번주소', '도로명코드', '도로명', '건물본번지',\n",
       "       '건물부번지', '건물관리번호', '건물명', '도로명주소', '구우편번호', '신우편번호', '동정보', '층정보',\n",
       "       '호정보', '경도', '위도'],\n",
       "      dtype='object')"
      ]
     },
     "execution_count": 65,
     "metadata": {},
     "output_type": "execute_result"
    }
   ],
   "source": [
    "market.columns"
   ]
  },
  {
   "cell_type": "code",
   "execution_count": null,
   "metadata": {},
   "outputs": [],
   "source": []
  },
  {
   "cell_type": "code",
   "execution_count": 97,
   "metadata": {},
   "outputs": [
    {
     "data": {
      "text/html": [
       "<div>\n",
       "<style scoped>\n",
       "    .dataframe tbody tr th:only-of-type {\n",
       "        vertical-align: middle;\n",
       "    }\n",
       "\n",
       "    .dataframe tbody tr th {\n",
       "        vertical-align: top;\n",
       "    }\n",
       "\n",
       "    .dataframe thead th {\n",
       "        text-align: right;\n",
       "    }\n",
       "</style>\n",
       "<table border=\"1\" class=\"dataframe\">\n",
       "  <thead>\n",
       "    <tr style=\"text-align: right;\">\n",
       "      <th></th>\n",
       "      <th>상가업소번호</th>\n",
       "      <th>상호명</th>\n",
       "      <th>지점명</th>\n",
       "      <th>상권업종대분류코드</th>\n",
       "      <th>상권업종대분류명</th>\n",
       "      <th>상권업종중분류코드</th>\n",
       "      <th>상권업종중분류명</th>\n",
       "      <th>상권업종소분류코드</th>\n",
       "      <th>상권업종소분류명</th>\n",
       "      <th>표준산업분류코드</th>\n",
       "    </tr>\n",
       "  </thead>\n",
       "  <tbody>\n",
       "    <tr>\n",
       "      <th>0</th>\n",
       "      <td>MA0101202210A0037544</td>\n",
       "      <td>영자's곱창</td>\n",
       "      <td>NaN</td>\n",
       "      <td>I2</td>\n",
       "      <td>음식</td>\n",
       "      <td>I201</td>\n",
       "      <td>한식</td>\n",
       "      <td>I20109</td>\n",
       "      <td>곱창 전골/구이</td>\n",
       "      <td>I56111</td>\n",
       "    </tr>\n",
       "    <tr>\n",
       "      <th>1</th>\n",
       "      <td>MA0101202210A0097916</td>\n",
       "      <td>호텔클로이</td>\n",
       "      <td>NaN</td>\n",
       "      <td>I1</td>\n",
       "      <td>숙박</td>\n",
       "      <td>I101</td>\n",
       "      <td>일반 숙박</td>\n",
       "      <td>I10102</td>\n",
       "      <td>여관/모텔</td>\n",
       "      <td>I55102</td>\n",
       "    </tr>\n",
       "    <tr>\n",
       "      <th>2</th>\n",
       "      <td>MA0101202210A0096343</td>\n",
       "      <td>나라차중계태권도장</td>\n",
       "      <td>NaN</td>\n",
       "      <td>P1</td>\n",
       "      <td>교육</td>\n",
       "      <td>P106</td>\n",
       "      <td>기타 교육</td>\n",
       "      <td>P10601</td>\n",
       "      <td>태권도/무술학원</td>\n",
       "      <td>P85611</td>\n",
       "    </tr>\n",
       "    <tr>\n",
       "      <th>3</th>\n",
       "      <td>MA0101202210A0093845</td>\n",
       "      <td>이상한스냅</td>\n",
       "      <td>NaN</td>\n",
       "      <td>M1</td>\n",
       "      <td>과학·기술</td>\n",
       "      <td>M113</td>\n",
       "      <td>사진 촬영</td>\n",
       "      <td>M11301</td>\n",
       "      <td>사진촬영업</td>\n",
       "      <td>M73303</td>\n",
       "    </tr>\n",
       "    <tr>\n",
       "      <th>4</th>\n",
       "      <td>MA010120220805430767</td>\n",
       "      <td>토끼정</td>\n",
       "      <td>NaN</td>\n",
       "      <td>I2</td>\n",
       "      <td>음식</td>\n",
       "      <td>I201</td>\n",
       "      <td>한식</td>\n",
       "      <td>I20101</td>\n",
       "      <td>백반/한정식</td>\n",
       "      <td>I56111</td>\n",
       "    </tr>\n",
       "    <tr>\n",
       "      <th>...</th>\n",
       "      <td>...</td>\n",
       "      <td>...</td>\n",
       "      <td>...</td>\n",
       "      <td>...</td>\n",
       "      <td>...</td>\n",
       "      <td>...</td>\n",
       "      <td>...</td>\n",
       "      <td>...</td>\n",
       "      <td>...</td>\n",
       "      <td>...</td>\n",
       "    </tr>\n",
       "    <tr>\n",
       "      <th>460432</th>\n",
       "      <td>MA0101202310A0038359</td>\n",
       "      <td>마스터부동산중개사무소</td>\n",
       "      <td>NaN</td>\n",
       "      <td>L1</td>\n",
       "      <td>부동산</td>\n",
       "      <td>L102</td>\n",
       "      <td>부동산 서비스</td>\n",
       "      <td>L10203</td>\n",
       "      <td>부동산 중개/대리업</td>\n",
       "      <td>L68221</td>\n",
       "    </tr>\n",
       "    <tr>\n",
       "      <th>460433</th>\n",
       "      <td>MA0101202310A0035270</td>\n",
       "      <td>그릿뷰티아카데미학원</td>\n",
       "      <td>NaN</td>\n",
       "      <td>P1</td>\n",
       "      <td>교육</td>\n",
       "      <td>P106</td>\n",
       "      <td>기타 교육</td>\n",
       "      <td>P10625</td>\n",
       "      <td>기타 기술/직업 훈련학원</td>\n",
       "      <td>P85669</td>\n",
       "    </tr>\n",
       "    <tr>\n",
       "      <th>460434</th>\n",
       "      <td>MA0101202310A0078533</td>\n",
       "      <td>최지원렌탈</td>\n",
       "      <td>NaN</td>\n",
       "      <td>S2</td>\n",
       "      <td>수리·개인</td>\n",
       "      <td>S205</td>\n",
       "      <td>가전제품 수리</td>\n",
       "      <td>S20501</td>\n",
       "      <td>가전제품 수리업</td>\n",
       "      <td>S95310</td>\n",
       "    </tr>\n",
       "    <tr>\n",
       "      <th>460435</th>\n",
       "      <td>MA0101202310A0059884</td>\n",
       "      <td>매직노래연습장</td>\n",
       "      <td>NaN</td>\n",
       "      <td>R1</td>\n",
       "      <td>예술·스포츠</td>\n",
       "      <td>R104</td>\n",
       "      <td>유원지·오락</td>\n",
       "      <td>R10407</td>\n",
       "      <td>노래방</td>\n",
       "      <td>R91223</td>\n",
       "    </tr>\n",
       "    <tr>\n",
       "      <th>460436</th>\n",
       "      <td>MA0101202310A0062853</td>\n",
       "      <td>곱창꾼</td>\n",
       "      <td>NaN</td>\n",
       "      <td>I2</td>\n",
       "      <td>음식</td>\n",
       "      <td>I201</td>\n",
       "      <td>한식</td>\n",
       "      <td>I20109</td>\n",
       "      <td>곱창 전골/구이</td>\n",
       "      <td>I56111</td>\n",
       "    </tr>\n",
       "  </tbody>\n",
       "</table>\n",
       "<p>460437 rows × 10 columns</p>\n",
       "</div>"
      ],
      "text/plain": [
       "                      상가업소번호          상호명  지점명 상권업종대분류코드 상권업종대분류명 상권업종중분류코드  \\\n",
       "0       MA0101202210A0037544       영자's곱창  NaN        I2       음식      I201   \n",
       "1       MA0101202210A0097916        호텔클로이  NaN        I1       숙박      I101   \n",
       "2       MA0101202210A0096343    나라차중계태권도장  NaN        P1       교육      P106   \n",
       "3       MA0101202210A0093845        이상한스냅  NaN        M1    과학·기술      M113   \n",
       "4       MA010120220805430767          토끼정  NaN        I2       음식      I201   \n",
       "...                      ...          ...  ...       ...      ...       ...   \n",
       "460432  MA0101202310A0038359  마스터부동산중개사무소  NaN        L1      부동산      L102   \n",
       "460433  MA0101202310A0035270   그릿뷰티아카데미학원  NaN        P1       교육      P106   \n",
       "460434  MA0101202310A0078533        최지원렌탈  NaN        S2    수리·개인      S205   \n",
       "460435  MA0101202310A0059884      매직노래연습장  NaN        R1   예술·스포츠      R104   \n",
       "460436  MA0101202310A0062853          곱창꾼  NaN        I2       음식      I201   \n",
       "\n",
       "       상권업종중분류명 상권업종소분류코드       상권업종소분류명 표준산업분류코드  \n",
       "0            한식    I20109       곱창 전골/구이   I56111  \n",
       "1         일반 숙박    I10102          여관/모텔   I55102  \n",
       "2         기타 교육    P10601       태권도/무술학원   P85611  \n",
       "3         사진 촬영    M11301          사진촬영업   M73303  \n",
       "4            한식    I20101         백반/한정식   I56111  \n",
       "...         ...       ...            ...      ...  \n",
       "460432  부동산 서비스    L10203     부동산 중개/대리업   L68221  \n",
       "460433    기타 교육    P10625  기타 기술/직업 훈련학원   P85669  \n",
       "460434  가전제품 수리    S20501       가전제품 수리업   S95310  \n",
       "460435   유원지·오락    R10407            노래방   R91223  \n",
       "460436       한식    I20109       곱창 전골/구이   I56111  \n",
       "\n",
       "[460437 rows x 10 columns]"
      ]
     },
     "execution_count": 97,
     "metadata": {},
     "output_type": "execute_result"
    }
   ],
   "source": [
    "market.iloc[:, 0:10]"
   ]
  },
  {
   "cell_type": "code",
   "execution_count": 107,
   "metadata": {},
   "outputs": [
    {
     "data": {
      "text/plain": [
       "array(['곱창 전골/구이', '여관/모텔', '태권도/무술학원', '사진촬영업', '백반/한정식', '치킨', '약국',\n",
       "       '광고 대행업', '자동차 대여업', '카페', '기타 기술/직업 훈련학원', '피자', '여성 의류 소매업',\n",
       "       '닭/오리고기 구이/찜', '빵/도넛', '마사지/안마', '자동차 정비소', '부동산 중개/대리업', '변호사',\n",
       "       '돼지고기 구이/찜', '레크리에이션 교육기관', '시계/귀금속 소매업', '경영 컨설팅업', '족발/보쌈',\n",
       "       '패션/섬유/기타 전문 디자인업', '핸드폰 소매업', '국수/칼국수', '기타 의류 소매업', '요가/필라테스 학원',\n",
       "       '떡/한과', '중고 상품 소매업', '김밥/만두/분식', '편의점', '생맥주 전문', '당구장', '신발 소매업',\n",
       "       '요리 주점', '세무사', '골프 연습장', '애완동물/애완용품 소매업', '일반 유흥 주점', '헬스장',\n",
       "       '세탁소', '기타 예술/스포츠 교육기관', '사업/무형 재산권 중개업', '건축 설계 및 관련 서비스업',\n",
       "       '가방 소매업', '미용실', '치과의원', '베트남식 전문', '의류/이불 수선업', '노래방', '펜션',\n",
       "       '기타 교육지원 서비스업', '건축물 일반 청소업', '네일숍', '피부 관리실', '토스트/샌드위치/샐러드',\n",
       "       '기타 엔지니어링 서비스업', '인테리어 디자인업', '전시/컨벤션/행사 대행 서비스업',\n",
       "       '건물 및 토목 엔지니어링 서비스업', '시각 디자인업', '기타 개인/가정용품 대여업', '중국집', '변리사',\n",
       "       '상용 인력 공급 및 인사관리 서비스업', '예술품 소매업', '입시·교과학원', '화장품 소매업', '구내식당',\n",
       "       '주류 소매업', '남성 의류 소매업', '그 외 기타 교육기관', '고용 알선업', '건강보조식품 소매업',\n",
       "       '슈퍼마켓', '운전학원', '여행사', '결혼 상담 서비스업', '생수/음료 소매업',\n",
       "       '그 외 기타 상품 전문 소매업', '주방/가정용품 소매업', '경양식', '꽃집', '기타 법무관련 서비스업',\n",
       "       '버거', '국/탕/찌개류', '마라탕/훠궈', '법무사', '가발 소매업', '기타 오락장', '기숙사/고시원',\n",
       "       '곡물/곡분 소매업', '일식 회/초밥', '외국어학원', '내과/소아과 의원', '미술학원', '포장/충전업',\n",
       "       '교육컨설팅업', '컴퓨터/노트북/프린터 수리업', '냉면/밀면', '문구/회화용품 소매업', '의류 대여업',\n",
       "       '해산물 구이/찜', '명함/간판/광고물 제작', '일식 카레/돈가스/덮밥', '횟집', '제품 디자인업',\n",
       "       '그 외 기타 간이 음식점', '가구 소매업', 'PC방', '광고물 설계/제작업', '자동차 세차장',\n",
       "       '음반/비디오물 소매업', '건어물/젓갈 소매업', '가전제품 수리업', '유사 의료업', '독서실/스터디 카페',\n",
       "       '기념품점', '셀프 빨래방', '그 외 기타 개인/가정용품 수리업', '액세서리/잡화 소매업', '무도 유흥 주점',\n",
       "       '음악학원', '담배/전자담배 소매업', '동물병원', '시장 조사 및 여론 조사업', '사업시설 유지·관리 서비스업',\n",
       "       '운동용품 소매업', '환경 관련 엔지니어링 서비스업', '종합 스포츠시설', '공인노무사', '실/섬유제품 소매업',\n",
       "       '외과 의원', '테니스장', '요양병원', '정육점', '채소/과일 소매업', '기타 서양식 음식점',\n",
       "       '모터사이클 및 부품 소매업', '의료기기 소매업', '유아용 의류 소매업', '볼링장', '일식 면 요리',\n",
       "       '그 외 기타 종합 소매업', '시계/귀금속/악기 수리업', '기타 동남아식 전문', '번역/통역 서비스업',\n",
       "       '반찬/식료품 소매업', '성형외과 의원', '뷔페', '사무기기 소매업', '사회교육시설', '한의원',\n",
       "       '이비인후과 의원', '기타 오락관련 서비스업', '자동차 부품 소매업', '모터사이클 수리업', '아이스크림/빙수',\n",
       "       '기타 스포츠시설 운영업', '옥외/전시 광고 대행업', '체형/비만 관리', '가죽/가방/신발 수선업',\n",
       "       '기타 광고 관련 서비스업', '파스타/스테이크', '임시/일용 인력 공급업', '컴퓨터/사무기기 대여업',\n",
       "       '전/부침개', '행정사', '수산물 소매업', '철물/공구 소매업', '공인회계사', '산부인과 의원',\n",
       "       '악기 소매업', '소고기 구이/찜', '안경렌즈 소매업', '기타 사무 지원 서비스업',\n",
       "       '기타 여행 보조/예약 서비스업', '호텔/리조트', '스포츠/레크리에이션 용품 대여업', '서점',\n",
       "       '전기용품/조명장치 소매업', '직원 훈련기관', '신경/정신과 의원', '건설기계/장비 대여업', '가전제품 소매업',\n",
       "       '침구류/커튼 소매업', '목욕탕/사우나', '일반병원', '주유소', '기타 산업용 기계/장비 대여업', '복사업',\n",
       "       '복권 발행/판매업', '소독, 구충 및 방제 서비스업', '컴퓨터/소프트웨어 소매업', '벽지/장판/마루 소매업',\n",
       "       '핸드폰/통신장비 수리업', '기타 의원', '조경 유지·관리 서비스업', '피부/비뇨기과 의원', '얼음 소매업',\n",
       "       '건설/건축자재 소매업', '도시 계획 및 조경 설계 서비스업', '장례식장', '탁구장', '컴퓨터 학원',\n",
       "       '한복 소매업', '전자 게임장', '패밀리레스토랑', '장난감 소매업', '만화방', '타이어 소매업',\n",
       "       '산업설비, 운송장비 및 공공장소 청소업', '안과 의원', '기타 운송장비 대여업', '가정용 연료 소매업',\n",
       "       '자전거 소매업', '기타 한식 음식점', '광고 매체 판매업', '화장터/묘지/납골당', '수상/해양 레저업',\n",
       "       '기타 건설/건축자재 소매업', '사진기/기타 광학기기 소매업', '청소년 수련시설', '아이스크림 할인점',\n",
       "       '바둑/장기/체스 경기 운영업', '분류 안된 외국식 음식점', '예식장업', '전문자격/고시학원',\n",
       "       '그 외 기타 숙박업', '방사선 진단/병리 검사 의원', '한방병원', '낚시터 운영업', '우유 소매업',\n",
       "       '비디오방', '가스 충전소', '수영장', '치과병원', '기타 일식 음식점', '종합병원', '복 요리 전문',\n",
       "       '캠핑/글램핑', '스쿼시/라켓볼장', '기타 회계 관련 서비스업', '음반/비디오물 대여업', '가축 사료 소매업'],\n",
       "      dtype=object)"
      ]
     },
     "execution_count": 107,
     "metadata": {},
     "output_type": "execute_result"
    }
   ],
   "source": [
    "market['상권업종소분류명'].unique()"
   ]
  },
  {
   "cell_type": "code",
   "execution_count": 120,
   "metadata": {},
   "outputs": [],
   "source": [
    "import numpy as np"
   ]
  },
  {
   "cell_type": "code",
   "execution_count": 124,
   "metadata": {},
   "outputs": [
    {
     "data": {
      "text/plain": [
       "Series([], Name: count, dtype: int64)"
      ]
     },
     "execution_count": 124,
     "metadata": {},
     "output_type": "execute_result"
    }
   ],
   "source": []
  },
  {
   "cell_type": "code",
   "execution_count": 132,
   "metadata": {},
   "outputs": [
    {
     "data": {
      "text/plain": [
       "array([     0,      0, 451345,      0,      0,      0,      0,      0,\n",
       "            0,     91,     91,      0,      0,      0,      0,      0,\n",
       "            0,      0,      0,      0,      0,      0,      0,  75547,\n",
       "            0,     29,      0,     30, 399916,     30, 240972,      0,\n",
       "            0,      0, 460437, 142577, 460437,      0,      0])"
      ]
     },
     "execution_count": 132,
     "metadata": {},
     "output_type": "execute_result"
    }
   ],
   "source": [
    "market.isna().sum().values"
   ]
  },
  {
   "cell_type": "code",
   "execution_count": 136,
   "metadata": {},
   "outputs": [
    {
     "data": {
      "text/plain": [
       "'건물관리번호'"
      ]
     },
     "execution_count": 136,
     "metadata": {},
     "output_type": "execute_result"
    }
   ],
   "source": [
    "market.columns[29]"
   ]
  },
  {
   "cell_type": "code",
   "execution_count": 7,
   "metadata": {},
   "outputs": [],
   "source": [
    "market = market.dropna(subset=['표준산업분류코드', '표준산업분류명','도로명코드', '건물본번지','건물관리번호'])\n"
   ]
  },
  {
   "cell_type": "code",
   "execution_count": 8,
   "metadata": {},
   "outputs": [
    {
     "data": {
      "text/plain": [
       "상권업종대분류코드\n",
       "I2    0.273612\n",
       "G2    0.214542\n",
       "M1    0.187205\n",
       "S2    0.101261\n",
       "P1    0.056476\n",
       "L1    0.050986\n",
       "N1    0.046504\n",
       "R1    0.039525\n",
       "Q1    0.016692\n",
       "I1    0.013198\n",
       "Name: count, dtype: float64"
      ]
     },
     "execution_count": 8,
     "metadata": {},
     "output_type": "execute_result"
    }
   ],
   "source": [
    "market['상권업종대분류코드'].value_counts() / len(market)"
   ]
  },
  {
   "cell_type": "code",
   "execution_count": 9,
   "metadata": {},
   "outputs": [
    {
     "data": {
      "text/plain": [
       "Index(['씨제이올리브영', '세븐일레븐', '씨유', '이마트24', 'GS25', '지에스25', '미니스톱', '더까까주까',\n",
       "       '신구멍가게24', '세븐일레븐서초',\n",
       "       ...\n",
       "       '세븐일레븐노원문고점', '지에스25문래공원점', '세븐일레븐장안현대홈타운점', '세븐일레븐잠실고분로점',\n",
       "       '세븐일레븐문래SK점', '세븐일레븐여의도시범아파트점', '지에스25잠실현대점', '씨유성내최고점', '세븐뉴스타점',\n",
       "       '이마트24서울창업'],\n",
       "      dtype='object', name='상호명', length=8105)"
      ]
     },
     "execution_count": 9,
     "metadata": {},
     "output_type": "execute_result"
    }
   ],
   "source": [
    "market.query('`상권업종소분류명` == \"편의점\" and `시도명` == \"서울특별시\"')['상호명'].value_counts().index"
   ]
  },
  {
   "cell_type": "code",
   "execution_count": 10,
   "metadata": {},
   "outputs": [
    {
     "data": {
      "text/plain": [
       "np.int64(8318)"
      ]
     },
     "execution_count": 10,
     "metadata": {},
     "output_type": "execute_result"
    }
   ],
   "source": [
    "market.query('`상권업종소분류명` == \"편의점\" and `시도명` == \"서울특별시\"')['상호명'].str.extract('(씨유|세븐일레븐|GS|지에스|세븐|CU|cu|이마트24)').value_counts().sum()"
   ]
  },
  {
   "cell_type": "code",
   "execution_count": 164,
   "metadata": {},
   "outputs": [
    {
     "data": {
      "text/plain": [
       "43          세븐일레븐구로드림\n",
       "259         씨유공릉철길공원점\n",
       "278           씨유홍대으뜸점\n",
       "351           이마트24신촌\n",
       "366       지에스25상계1단지점\n",
       "             ...     \n",
       "460326     지에스25잠실현대점\n",
       "460337        씨유성내최고점\n",
       "460363         세븐뉴스타점\n",
       "460415       씨유왕십리현대점\n",
       "460427        지에스25정릉\n",
       "Name: 상호명, Length: 9429, dtype: object"
      ]
     },
     "execution_count": 164,
     "metadata": {},
     "output_type": "execute_result"
    }
   ],
   "source": [
    "market.query('`상권업종소분류명` == \"편의점\" and `시도명` == \"서울특별시\"')['상호명']"
   ]
  },
  {
   "cell_type": "code",
   "execution_count": 179,
   "metadata": {},
   "outputs": [
    {
     "data": {
      "text/plain": [
       "np.int64(120815)"
      ]
     },
     "execution_count": 179,
     "metadata": {},
     "output_type": "execute_result"
    }
   ],
   "source": [
    "market.query(f'`경도` > {b} and `위도` > {a}')['시군구명'].value_counts().sum()"
   ]
  },
  {
   "cell_type": "code",
   "execution_count": 11,
   "metadata": {},
   "outputs": [
    {
     "data": {
      "text/plain": [
       "array(['광진구', '중구', '노원구', '양천구', '강서구', '송파구', '구로구', '강남구', '영등포구',\n",
       "       '금천구', '마포구', '성동구', '중랑구', '서초구', '동작구', '은평구', '동대문구', '서대문구',\n",
       "       '도봉구', '종로구', '성북구', '강동구', '용산구', '관악구', '강북구'], dtype=object)"
      ]
     },
     "execution_count": 11,
     "metadata": {},
     "output_type": "execute_result"
    }
   ],
   "source": [
    "market['시군구명'].unique()"
   ]
  },
  {
   "cell_type": "code",
   "execution_count": 189,
   "metadata": {},
   "outputs": [
    {
     "data": {
      "text/plain": [
       "np.float64(37.563129118638855)"
      ]
     },
     "execution_count": 189,
     "metadata": {},
     "output_type": "execute_result"
    }
   ],
   "source": [
    "market.filter(items=['시군구명', '위도', '경도']).query('`시군구명` == \"중구\"').위도.mean()"
   ]
  },
  {
   "cell_type": "code",
   "execution_count": 13,
   "metadata": {},
   "outputs": [],
   "source": [
    "data = market.filter(items=['시군구명', '위도', '경도'])"
   ]
  },
  {
   "cell_type": "code",
   "execution_count": 14,
   "metadata": {},
   "outputs": [],
   "source": [
    "a =[data.query(f'`시군구명` == \"{i}\"').위도.mean()for i in market['시군구명'].unique()]\n",
    "b = [data.query(f'`시군구명` == \"{i}\"').경도.mean()for i in market['시군구명'].unique()]"
   ]
  },
  {
   "cell_type": "code",
   "execution_count": 16,
   "metadata": {},
   "outputs": [
    {
     "data": {
      "text/html": [
       "<div>\n",
       "<style scoped>\n",
       "    .dataframe tbody tr th:only-of-type {\n",
       "        vertical-align: middle;\n",
       "    }\n",
       "\n",
       "    .dataframe tbody tr th {\n",
       "        vertical-align: top;\n",
       "    }\n",
       "\n",
       "    .dataframe thead th {\n",
       "        text-align: right;\n",
       "    }\n",
       "</style>\n",
       "<table border=\"1\" class=\"dataframe\">\n",
       "  <thead>\n",
       "    <tr style=\"text-align: right;\">\n",
       "      <th></th>\n",
       "      <th>0</th>\n",
       "    </tr>\n",
       "  </thead>\n",
       "  <tbody>\n",
       "    <tr>\n",
       "      <th>광진구</th>\n",
       "      <td>127.081570</td>\n",
       "    </tr>\n",
       "    <tr>\n",
       "      <th>중구</th>\n",
       "      <td>126.993670</td>\n",
       "    </tr>\n",
       "    <tr>\n",
       "      <th>노원구</th>\n",
       "      <td>127.068490</td>\n",
       "    </tr>\n",
       "    <tr>\n",
       "      <th>양천구</th>\n",
       "      <td>126.858493</td>\n",
       "    </tr>\n",
       "    <tr>\n",
       "      <th>강서구</th>\n",
       "      <td>126.838012</td>\n",
       "    </tr>\n",
       "    <tr>\n",
       "      <th>송파구</th>\n",
       "      <td>127.114997</td>\n",
       "    </tr>\n",
       "    <tr>\n",
       "      <th>구로구</th>\n",
       "      <td>126.874851</td>\n",
       "    </tr>\n",
       "    <tr>\n",
       "      <th>강남구</th>\n",
       "      <td>127.043842</td>\n",
       "    </tr>\n",
       "    <tr>\n",
       "      <th>영등포구</th>\n",
       "      <td>126.907167</td>\n",
       "    </tr>\n",
       "    <tr>\n",
       "      <th>금천구</th>\n",
       "      <td>126.891388</td>\n",
       "    </tr>\n",
       "    <tr>\n",
       "      <th>마포구</th>\n",
       "      <td>126.924104</td>\n",
       "    </tr>\n",
       "    <tr>\n",
       "      <th>성동구</th>\n",
       "      <td>127.044938</td>\n",
       "    </tr>\n",
       "    <tr>\n",
       "      <th>중랑구</th>\n",
       "      <td>127.087558</td>\n",
       "    </tr>\n",
       "    <tr>\n",
       "      <th>서초구</th>\n",
       "      <td>127.015795</td>\n",
       "    </tr>\n",
       "    <tr>\n",
       "      <th>동작구</th>\n",
       "      <td>126.951104</td>\n",
       "    </tr>\n",
       "    <tr>\n",
       "      <th>은평구</th>\n",
       "      <td>126.919697</td>\n",
       "    </tr>\n",
       "    <tr>\n",
       "      <th>동대문구</th>\n",
       "      <td>127.052720</td>\n",
       "    </tr>\n",
       "    <tr>\n",
       "      <th>서대문구</th>\n",
       "      <td>126.937391</td>\n",
       "    </tr>\n",
       "    <tr>\n",
       "      <th>도봉구</th>\n",
       "      <td>127.039206</td>\n",
       "    </tr>\n",
       "    <tr>\n",
       "      <th>종로구</th>\n",
       "      <td>126.989461</td>\n",
       "    </tr>\n",
       "    <tr>\n",
       "      <th>성북구</th>\n",
       "      <td>127.027077</td>\n",
       "    </tr>\n",
       "    <tr>\n",
       "      <th>강동구</th>\n",
       "      <td>127.138682</td>\n",
       "    </tr>\n",
       "    <tr>\n",
       "      <th>용산구</th>\n",
       "      <td>126.979098</td>\n",
       "    </tr>\n",
       "    <tr>\n",
       "      <th>관악구</th>\n",
       "      <td>126.938258</td>\n",
       "    </tr>\n",
       "    <tr>\n",
       "      <th>강북구</th>\n",
       "      <td>127.023768</td>\n",
       "    </tr>\n",
       "  </tbody>\n",
       "</table>\n",
       "</div>"
      ],
      "text/plain": [
       "               0\n",
       "광진구   127.081570\n",
       "중구    126.993670\n",
       "노원구   127.068490\n",
       "양천구   126.858493\n",
       "강서구   126.838012\n",
       "송파구   127.114997\n",
       "구로구   126.874851\n",
       "강남구   127.043842\n",
       "영등포구  126.907167\n",
       "금천구   126.891388\n",
       "마포구   126.924104\n",
       "성동구   127.044938\n",
       "중랑구   127.087558\n",
       "서초구   127.015795\n",
       "동작구   126.951104\n",
       "은평구   126.919697\n",
       "동대문구  127.052720\n",
       "서대문구  126.937391\n",
       "도봉구   127.039206\n",
       "종로구   126.989461\n",
       "성북구   127.027077\n",
       "강동구   127.138682\n",
       "용산구   126.979098\n",
       "관악구   126.938258\n",
       "강북구   127.023768"
      ]
     },
     "execution_count": 16,
     "metadata": {},
     "output_type": "execute_result"
    }
   ],
   "source": [
    "pd.DataFrame(b, index= market['시군구명'].unique())"
   ]
  },
  {
   "cell_type": "code",
   "execution_count": 228,
   "metadata": {},
   "outputs": [
    {
     "data": {
      "text/html": [
       "<div>\n",
       "<style scoped>\n",
       "    .dataframe tbody tr th:only-of-type {\n",
       "        vertical-align: middle;\n",
       "    }\n",
       "\n",
       "    .dataframe tbody tr th {\n",
       "        vertical-align: top;\n",
       "    }\n",
       "\n",
       "    .dataframe thead th {\n",
       "        text-align: right;\n",
       "    }\n",
       "</style>\n",
       "<table border=\"1\" class=\"dataframe\">\n",
       "  <thead>\n",
       "    <tr style=\"text-align: right;\">\n",
       "      <th></th>\n",
       "      <th>0</th>\n",
       "    </tr>\n",
       "  </thead>\n",
       "  <tbody>\n",
       "    <tr>\n",
       "      <th>광진구</th>\n",
       "      <td>37.546111</td>\n",
       "    </tr>\n",
       "    <tr>\n",
       "      <th>중구</th>\n",
       "      <td>37.563129</td>\n",
       "    </tr>\n",
       "    <tr>\n",
       "      <th>노원구</th>\n",
       "      <td>37.646992</td>\n",
       "    </tr>\n",
       "    <tr>\n",
       "      <th>양천구</th>\n",
       "      <td>37.528014</td>\n",
       "    </tr>\n",
       "    <tr>\n",
       "      <th>강서구</th>\n",
       "      <td>37.554562</td>\n",
       "    </tr>\n",
       "    <tr>\n",
       "      <th>송파구</th>\n",
       "      <td>37.500641</td>\n",
       "    </tr>\n",
       "    <tr>\n",
       "      <th>구로구</th>\n",
       "      <td>37.493595</td>\n",
       "    </tr>\n",
       "    <tr>\n",
       "      <th>강남구</th>\n",
       "      <td>37.506382</td>\n",
       "    </tr>\n",
       "    <tr>\n",
       "      <th>영등포구</th>\n",
       "      <td>37.517780</td>\n",
       "    </tr>\n",
       "    <tr>\n",
       "      <th>금천구</th>\n",
       "      <td>37.470491</td>\n",
       "    </tr>\n",
       "    <tr>\n",
       "      <th>마포구</th>\n",
       "      <td>37.554796</td>\n",
       "    </tr>\n",
       "    <tr>\n",
       "      <th>성동구</th>\n",
       "      <td>37.551158</td>\n",
       "    </tr>\n",
       "    <tr>\n",
       "      <th>중랑구</th>\n",
       "      <td>37.595763</td>\n",
       "    </tr>\n",
       "    <tr>\n",
       "      <th>서초구</th>\n",
       "      <td>37.490712</td>\n",
       "    </tr>\n",
       "    <tr>\n",
       "      <th>동작구</th>\n",
       "      <td>37.497341</td>\n",
       "    </tr>\n",
       "    <tr>\n",
       "      <th>은평구</th>\n",
       "      <td>37.608419</td>\n",
       "    </tr>\n",
       "    <tr>\n",
       "      <th>동대문구</th>\n",
       "      <td>37.579192</td>\n",
       "    </tr>\n",
       "    <tr>\n",
       "      <th>서대문구</th>\n",
       "      <td>37.571417</td>\n",
       "    </tr>\n",
       "    <tr>\n",
       "      <th>도봉구</th>\n",
       "      <td>37.658778</td>\n",
       "    </tr>\n",
       "    <tr>\n",
       "      <th>종로구</th>\n",
       "      <td>37.576188</td>\n",
       "    </tr>\n",
       "    <tr>\n",
       "      <th>성북구</th>\n",
       "      <td>37.600168</td>\n",
       "    </tr>\n",
       "    <tr>\n",
       "      <th>강동구</th>\n",
       "      <td>37.542269</td>\n",
       "    </tr>\n",
       "    <tr>\n",
       "      <th>용산구</th>\n",
       "      <td>37.536516</td>\n",
       "    </tr>\n",
       "    <tr>\n",
       "      <th>관악구</th>\n",
       "      <td>37.480165</td>\n",
       "    </tr>\n",
       "    <tr>\n",
       "      <th>강북구</th>\n",
       "      <td>37.631697</td>\n",
       "    </tr>\n",
       "  </tbody>\n",
       "</table>\n",
       "</div>"
      ],
      "text/plain": [
       "              0\n",
       "광진구   37.546111\n",
       "중구    37.563129\n",
       "노원구   37.646992\n",
       "양천구   37.528014\n",
       "강서구   37.554562\n",
       "송파구   37.500641\n",
       "구로구   37.493595\n",
       "강남구   37.506382\n",
       "영등포구  37.517780\n",
       "금천구   37.470491\n",
       "마포구   37.554796\n",
       "성동구   37.551158\n",
       "중랑구   37.595763\n",
       "서초구   37.490712\n",
       "동작구   37.497341\n",
       "은평구   37.608419\n",
       "동대문구  37.579192\n",
       "서대문구  37.571417\n",
       "도봉구   37.658778\n",
       "종로구   37.576188\n",
       "성북구   37.600168\n",
       "강동구   37.542269\n",
       "용산구   37.536516\n",
       "관악구   37.480165\n",
       "강북구   37.631697"
      ]
     },
     "execution_count": 228,
     "metadata": {},
     "output_type": "execute_result"
    }
   ],
   "source": [
    "pd.DataFrame(a, index= market['시군구명'].unique() )"
   ]
  },
  {
   "cell_type": "code",
   "execution_count": 209,
   "metadata": {},
   "outputs": [
    {
     "data": {
      "text/plain": [
       "37.546111079847954"
      ]
     },
     "execution_count": 209,
     "metadata": {},
     "output_type": "execute_result"
    }
   ],
   "source": [
    "float(a[0])"
   ]
  },
  {
   "cell_type": "code",
   "execution_count": 173,
   "metadata": {},
   "outputs": [
    {
     "data": {
      "text/plain": [
       "np.float64(37.54036628755497)"
      ]
     },
     "execution_count": 173,
     "metadata": {},
     "output_type": "execute_result"
    }
   ],
   "source": [
    "market['위도'].mean()"
   ]
  },
  {
   "cell_type": "code",
   "execution_count": 174,
   "metadata": {},
   "outputs": [
    {
     "data": {
      "text/plain": [
       "np.float64(126.99267895578541)"
      ]
     },
     "execution_count": 174,
     "metadata": {},
     "output_type": "execute_result"
    }
   ],
   "source": [
    "market['경도'].mean()"
   ]
  },
  {
   "cell_type": "code",
   "execution_count": 224,
   "metadata": {},
   "outputs": [],
   "source": [
    "x =[i for i in market.filter(items=['상호명', '시군구명']).상호명.value_counts().index if len(i) >= 10]"
   ]
  },
  {
   "cell_type": "code",
   "execution_count": 226,
   "metadata": {},
   "outputs": [
    {
     "data": {
      "text/plain": [
       "시군구명\n",
       "강남구     8230\n",
       "서초구     5645\n",
       "송파구     4303\n",
       "영등포구    3290\n",
       "마포구     3206\n",
       "강서구     3110\n",
       "중구      2248\n",
       "관악구     2175\n",
       "강동구     2142\n",
       "광진구     1965\n",
       "구로구     1935\n",
       "종로구     1917\n",
       "성동구     1911\n",
       "양천구     1883\n",
       "은평구     1844\n",
       "금천구     1811\n",
       "성북구     1786\n",
       "용산구     1766\n",
       "동대문구    1668\n",
       "노원구     1668\n",
       "동작구     1641\n",
       "서대문구    1527\n",
       "중랑구     1383\n",
       "강북구     1199\n",
       "도봉구     1089\n",
       "Name: count, dtype: int64"
      ]
     },
     "execution_count": 226,
     "metadata": {},
     "output_type": "execute_result"
    }
   ],
   "source": [
    "market.filter(items=['상호명', '시군구명']).query(f'`상호명` == {x}').시군구명.value_counts()"
   ]
  }
 ],
 "metadata": {
  "kernelspec": {
   "display_name": "deep_learning",
   "language": "python",
   "name": "python3"
  },
  "language_info": {
   "codemirror_mode": {
    "name": "ipython",
    "version": 3
   },
   "file_extension": ".py",
   "mimetype": "text/x-python",
   "name": "python",
   "nbconvert_exporter": "python",
   "pygments_lexer": "ipython3",
   "version": "3.10.14"
  }
 },
 "nbformat": 4,
 "nbformat_minor": 2
}
