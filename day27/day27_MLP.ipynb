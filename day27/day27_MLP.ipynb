{
  "cells": [
    {
      "cell_type": "markdown",
      "metadata": {
        "id": "0UhoL6nMoWa0"
      },
      "source": [
        "# Library"
      ]
    },
    {
      "cell_type": "code",
      "execution_count": 65,
      "metadata": {},
      "outputs": [
        {
          "name": "stdout",
          "output_type": "stream",
          "text": [
            "Requirement already satisfied: plotly in c:\\users\\user\\anaconda3\\envs\\deep_learning\\lib\\site-packages (5.24.0)\n",
            "Requirement already satisfied: tenacity>=6.2.0 in c:\\users\\user\\anaconda3\\envs\\deep_learning\\lib\\site-packages (from plotly) (9.0.0)\n",
            "Requirement already satisfied: packaging in c:\\users\\user\\anaconda3\\envs\\deep_learning\\lib\\site-packages (from plotly) (24.1)\n"
          ]
        }
      ],
      "source": [
        "!pip install plotly"
      ]
    },
    {
      "cell_type": "code",
      "execution_count": 2,
      "metadata": {
        "id": "whwymZ3zVzH2"
      },
      "outputs": [],
      "source": [
        "import numpy as np\n",
        "import pandas as pd\n",
        "from tqdm import tqdm\n",
        "\n",
        "from sklearn.preprocessing import StandardScaler, MinMaxScaler\n",
        "\n",
        "import torch\n",
        "import torch.nn as nn                               # layers\n",
        "import torch.nn.functional as F\n",
        "import torch.optim as optim                         # optimizer\n",
        "import torchvision.datasets as ds                   # mnist daataset\n",
        "import torchvision.transforms as transforms         # image -> tensor\n",
        "from torch.utils.data import DataLoader, Dataset    # torch dataset\n",
        "\n",
        "import matplotlib.pyplot as plt                     # 시각화\n",
        "import seaborn as sns\n",
        "import plotly.express as px\n",
        "from sklearn.model_selection import train_test_split\n",
        "import seaborn as sns"
      ]
    },
    {
      "cell_type": "markdown",
      "metadata": {
        "id": "tlGXlBEze4XI"
      },
      "source": [
        "# Multi-Layer Pereceptron (MLP)"
      ]
    },
    {
      "cell_type": "markdown",
      "metadata": {
        "id": "OFUsOXCiVzkP"
      },
      "source": [
        "## MLP란?\n",
        "퍼셉트론으로 이루어진 층(layer) 여러 개를 순차적으로 붙여놓은 형태\n",
        "\n",
        "<br>\n",
        "\n",
        "<font style=\"font-size:20px\"> 등장 배경 </font> <p>\n",
        "<font style=\"font-size:16px\"> XOR 게이트 문제 </font> <p>\n",
        "&nbsp;&nbsp;&nbsp;&nbsp;and나 or의 경우 직선 하나로 경계를 확정할 수 있으나 xor에서는 불가 <br>\n",
        "\n",
        "  ![](https://img1.daumcdn.net/thumb/R1280x0/?scode=mtistory2&fname=https%3A%2F%2Fblog.kakaocdn.net%2Fdn%2FNalwG%2FbtqxdrzsQAV%2FUY3iSEDRakKDjoWEpRHRWk%2Fimg.png)\n",
        "\n",
        "<br>\n",
        "\n",
        "<font style=\"font-size:20px\"> 구조 </font> <p>\n",
        "\n",
        "<img src=\"https://ars.els-cdn.com/content/image/1-s2.0-S0925231223004502-gr1.jpg\" width=\"700\" height=\"300\"/>\n",
        "\n",
        "단순 matrix 연산의 반복 <br>\n",
        "> A1 = $\\textbf{W}_1X + \\textbf{b}_1$ <br>\n",
        "> h1 = $\\phi_1$(A1) <br>\n",
        "> A2 = $\\textbf{W}_2\\text{h1} + \\textbf{b}_2 = \\textbf{W}_2\\phi_1(\\textbf{W}_1X + \\textbf{b}_1) + \\textbf{b}_2$ <br>\n",
        "> h2 = $\\phi_2$(A2) = $ \\phi(\\textbf{W}_2\\phi_1(\\textbf{W}_1X + \\textbf{b}_1) + \\textbf{b}_2) $\n",
        "> ...\n",
        "\n",
        "<br>\n",
        "\n",
        "Hidden Layer의 $\\phi$는 activation 함수는 비선형을 목적으로 사용 <br>\n",
        "\n",
        "\n"
      ]
    },
    {
      "cell_type": "markdown",
      "metadata": {
        "id": "aRPTi61Df5IV"
      },
      "source": [
        "## 사용 방법"
      ]
    },
    {
      "cell_type": "markdown",
      "metadata": {},
      "source": [
        "### GPU 사용 확인\n",
        "\n",
        "시스템에서 gpu를 사용할 수 있는지 확인\n",
        "\n",
        "<br>\n",
        "\n",
        "<font style=\"font-size:20px\"> 사용 예제 </font> <p>\n",
        "\n",
        "> ```python\n",
        "> device = 'cuda' if torch.cuda.is_available() else 'cpu'\n",
        "> ```"
      ]
    },
    {
      "cell_type": "code",
      "execution_count": 67,
      "metadata": {},
      "outputs": [],
      "source": [
        "device = 'cuda' if torch.cuda.is_available() else 'cpu'"
      ]
    },
    {
      "cell_type": "markdown",
      "metadata": {},
      "source": [
        "### Seed 고정\n",
        "\n",
        "실험 재현을 위한 난수 고정\n",
        "\n",
        "<br>\n",
        "\n",
        "<font style=\"font-size:20px\"> 사용 예제 </font> <p>\n",
        "\n",
        "> ```python\n",
        "> seed = 0\n",
        "> np.random.seed(seed)\n",
        "> torch.manual_seed(seed)\n",
        "> if device == 'cuda':\n",
        ">     torch.cuda.manual_seed(seed)\n",
        ">     torch.cuda.manual_seed_all(seed)\n",
        ">     torch.backends.cudnn.deterministic = False\n",
        ">     torch.backends.cudnn.benchmark = True\n",
        "> ```"
      ]
    },
    {
      "cell_type": "code",
      "execution_count": 9,
      "metadata": {},
      "outputs": [],
      "source": [
        "seed = 0\n",
        "np.random.seed(seed)\n",
        "torch.manual_seed(seed)\n",
        "if device == 'cuda':\n",
        "    torch.cuda.manual_seed(seed)\n",
        "    torch.cuda.manual_seed_all(seed)\n",
        "    torch.backends.cudnn.deterministic = False\n",
        "    torch.backends.cudnn.benchmark = True"
      ]
    },
    {
      "cell_type": "markdown",
      "metadata": {},
      "source": [
        "### 하이퍼파라미터 설정\n",
        "\n",
        "하이퍼파라미터: 모델에서 학습되지 않는 사용자가 직접 설정해야하는 파라미터 <br>\n",
        "대표적으로는 아래의 파라미터 존재 <br>\n",
        "- batch_size: 전체 데이터 중 데이터를 묶음으로 분할할 건데 몇 개의 묶음으로 분할할지 설정\n",
        "- epoch: 몇 번의 학습을 진행할 것인가\n",
        "- learning_rate: 얼마 만큼의 보폭으로 학습을 진행할 것인가\n"
      ]
    },
    {
      "cell_type": "code",
      "execution_count": 8,
      "metadata": {},
      "outputs": [],
      "source": [
        "batch_size = 32  # 2의배수를 씀\n",
        "epochs = 100\n",
        "learning_rate = 0.01"
      ]
    },
    {
      "cell_type": "markdown",
      "metadata": {},
      "source": [
        "### 데이터 전처리"
      ]
    },
    {
      "cell_type": "code",
      "execution_count": 4,
      "metadata": {},
      "outputs": [],
      "source": [
        "def load_planar_dataset():\n",
        "    np.random.seed(1)\n",
        "    m = 400 # number of examples\n",
        "    N = int(m/2) # number of points per class\n",
        "    D = 2 # dimensionality\n",
        "    X = np.zeros((m,D)) # data matrix where each row is a single example\n",
        "    Y = np.zeros((m,1), dtype='uint8') # labels vector (0 for red, 1 for blue)\n",
        "    a = 4 # maximum ray of the flower\n",
        "\n",
        "    for j in range(2):\n",
        "        ix = range(N*j,N*(j+1))\n",
        "        t = np.linspace(j*3.12,(j+1)*3.12,N) + np.random.randn(N)*0.2 # theta\n",
        "        r = a*np.sin(4*t) + np.random.randn(N)*0.2 # radius\n",
        "        X[ix] = np.c_[r*np.sin(t), r*np.cos(t)]\n",
        "        Y[ix] = j\n",
        "        \n",
        "\n",
        "    return X, Y"
      ]
    },
    {
      "cell_type": "code",
      "execution_count": 6,
      "metadata": {},
      "outputs": [],
      "source": [
        "X, y = load_planar_dataset()"
      ]
    },
    {
      "cell_type": "code",
      "execution_count": 110,
      "metadata": {},
      "outputs": [
        {
          "data": {
            "text/plain": [
              "(400, 2)"
            ]
          },
          "execution_count": 110,
          "metadata": {},
          "output_type": "execute_result"
        }
      ],
      "source": [
        "X.shape"
      ]
    },
    {
      "cell_type": "markdown",
      "metadata": {},
      "source": [
        "#### 결측치 중복 처리"
      ]
    },
    {
      "cell_type": "code",
      "execution_count": 111,
      "metadata": {},
      "outputs": [],
      "source": [
        "data = pd.DataFrame(X, columns=['X1', 'X2'])\n",
        "data['y'] = y\n"
      ]
    },
    {
      "cell_type": "markdown",
      "metadata": {},
      "source": [
        "#### train, valid, test split\n",
        "\n",
        "<img src=\"https://camo.githubusercontent.com/109b64cb7b6e1b6d912b84a1b6afefa53300033be1df4ed8c4433910f8c328bf/68747470733a2f2f76656c6f672e76656c63646e2e636f6d2f696d616765732f696775762f706f73742f38616538343265332d663262362d343463352d623762662d6131663734623361393132342f696d6167652e706e67\" width=\"500\" height=\"300\"/>\n",
        "\n",
        "<br>\n",
        "<br>\n",
        "\n",
        "<font style=\"font-size:20px\"> 사용 예제 </font> <p>\n",
        "\n",
        "> ```python\n",
        "> X_train, X_temp, y_train, y_temp = train_test_split(\n",
        ">     X, y, test_size=0.6, random_state=seed, shuffle=True)\n",
        "> X_valid, X_test, y_valid, y_test = train_test_split(\n",
        ">     X, y, test_size=0.5, random_state=seed, shuffle=True)\n",
        "> ```"
      ]
    },
    {
      "cell_type": "code",
      "execution_count": 10,
      "metadata": {},
      "outputs": [],
      "source": [
        "X_train, X_temp, y_train, y_temp = train_test_split(\n",
        "    X, y, test_size=0.4, random_state=seed, shuffle=True)\n",
        "X_valid, X_test, y_valid, y_test = train_test_split(\n",
        "    X_temp, y_temp, test_size=0.5, random_state=seed, shuffle=True)"
      ]
    },
    {
      "cell_type": "code",
      "execution_count": 13,
      "metadata": {},
      "outputs": [
        {
          "data": {
            "text/html": [
              "<div>\n",
              "<style scoped>\n",
              "    .dataframe tbody tr th:only-of-type {\n",
              "        vertical-align: middle;\n",
              "    }\n",
              "\n",
              "    .dataframe tbody tr th {\n",
              "        vertical-align: top;\n",
              "    }\n",
              "\n",
              "    .dataframe thead th {\n",
              "        text-align: right;\n",
              "    }\n",
              "</style>\n",
              "<table border=\"1\" class=\"dataframe\">\n",
              "  <thead>\n",
              "    <tr style=\"text-align: right;\">\n",
              "      <th></th>\n",
              "      <th>0</th>\n",
              "      <th>1</th>\n",
              "    </tr>\n",
              "  </thead>\n",
              "  <tbody>\n",
              "    <tr>\n",
              "      <th>0</th>\n",
              "      <td>2.971530</td>\n",
              "      <td>1.803161</td>\n",
              "    </tr>\n",
              "    <tr>\n",
              "      <th>1</th>\n",
              "      <td>1.929484</td>\n",
              "      <td>-1.390736</td>\n",
              "    </tr>\n",
              "    <tr>\n",
              "      <th>2</th>\n",
              "      <td>1.466290</td>\n",
              "      <td>4.037643</td>\n",
              "    </tr>\n",
              "    <tr>\n",
              "      <th>3</th>\n",
              "      <td>1.544578</td>\n",
              "      <td>-3.562420</td>\n",
              "    </tr>\n",
              "    <tr>\n",
              "      <th>4</th>\n",
              "      <td>-1.889885</td>\n",
              "      <td>3.069148</td>\n",
              "    </tr>\n",
              "    <tr>\n",
              "      <th>...</th>\n",
              "      <td>...</td>\n",
              "      <td>...</td>\n",
              "    </tr>\n",
              "    <tr>\n",
              "      <th>235</th>\n",
              "      <td>-1.174729</td>\n",
              "      <td>0.965871</td>\n",
              "    </tr>\n",
              "    <tr>\n",
              "      <th>236</th>\n",
              "      <td>-0.807037</td>\n",
              "      <td>-3.166023</td>\n",
              "    </tr>\n",
              "    <tr>\n",
              "      <th>237</th>\n",
              "      <td>-0.952809</td>\n",
              "      <td>-0.056835</td>\n",
              "    </tr>\n",
              "    <tr>\n",
              "      <th>238</th>\n",
              "      <td>-3.730339</td>\n",
              "      <td>-1.638474</td>\n",
              "    </tr>\n",
              "    <tr>\n",
              "      <th>239</th>\n",
              "      <td>-0.068807</td>\n",
              "      <td>-1.131119</td>\n",
              "    </tr>\n",
              "  </tbody>\n",
              "</table>\n",
              "<p>240 rows × 2 columns</p>\n",
              "</div>"
            ],
            "text/plain": [
              "            0         1\n",
              "0    2.971530  1.803161\n",
              "1    1.929484 -1.390736\n",
              "2    1.466290  4.037643\n",
              "3    1.544578 -3.562420\n",
              "4   -1.889885  3.069148\n",
              "..        ...       ...\n",
              "235 -1.174729  0.965871\n",
              "236 -0.807037 -3.166023\n",
              "237 -0.952809 -0.056835\n",
              "238 -3.730339 -1.638474\n",
              "239 -0.068807 -1.131119\n",
              "\n",
              "[240 rows x 2 columns]"
            ]
          },
          "execution_count": 13,
          "metadata": {},
          "output_type": "execute_result"
        }
      ],
      "source": [
        "pd.DataFrame(X_train)"
      ]
    },
    {
      "cell_type": "markdown",
      "metadata": {},
      "source": [
        "#### scaler 적용\n",
        "\n",
        "일반화 성능을 위해 scaler 적용\n",
        "\n",
        "<br>\n",
        "\n",
        "<font style=\"font-size:20px\"> 사용 예제 </font> <p>\n",
        "\n",
        "> ```python\n",
        "> standard_scaler = StandardScaler()\n",
        "> X_train = standard_scaler.fit_transform(X_train)\n",
        "> X_valid = standard_scaler.fit(X_valid)\n",
        "> X_test = standard_scaler.fit(X_test)\n",
        "> ```"
      ]
    },
    {
      "cell_type": "code",
      "execution_count": 14,
      "metadata": {},
      "outputs": [],
      "source": [
        "standard_scaler_x = StandardScaler()\n",
        "X_train = standard_scaler_x.fit_transform(X_train)\n",
        "X_valid = standard_scaler_x.transform(X_valid)\n",
        "X_test = standard_scaler_x.transform(X_test)"
      ]
    },
    {
      "cell_type": "code",
      "execution_count": 15,
      "metadata": {},
      "outputs": [
        {
          "data": {
            "text/html": [
              "<div>\n",
              "<style scoped>\n",
              "    .dataframe tbody tr th:only-of-type {\n",
              "        vertical-align: middle;\n",
              "    }\n",
              "\n",
              "    .dataframe tbody tr th {\n",
              "        vertical-align: top;\n",
              "    }\n",
              "\n",
              "    .dataframe thead th {\n",
              "        text-align: right;\n",
              "    }\n",
              "</style>\n",
              "<table border=\"1\" class=\"dataframe\">\n",
              "  <thead>\n",
              "    <tr style=\"text-align: right;\">\n",
              "      <th></th>\n",
              "      <th>0</th>\n",
              "      <th>1</th>\n",
              "    </tr>\n",
              "  </thead>\n",
              "  <tbody>\n",
              "    <tr>\n",
              "      <th>0</th>\n",
              "      <td>1.539777</td>\n",
              "      <td>0.865680</td>\n",
              "    </tr>\n",
              "    <tr>\n",
              "      <th>1</th>\n",
              "      <td>1.011624</td>\n",
              "      <td>-0.677515</td>\n",
              "    </tr>\n",
              "    <tr>\n",
              "      <th>2</th>\n",
              "      <td>0.776858</td>\n",
              "      <td>1.945315</td>\n",
              "    </tr>\n",
              "    <tr>\n",
              "      <th>3</th>\n",
              "      <td>0.816537</td>\n",
              "      <td>-1.726808</td>\n",
              "    </tr>\n",
              "    <tr>\n",
              "      <th>4</th>\n",
              "      <td>-0.924194</td>\n",
              "      <td>1.477367</td>\n",
              "    </tr>\n",
              "    <tr>\n",
              "      <th>...</th>\n",
              "      <td>...</td>\n",
              "      <td>...</td>\n",
              "    </tr>\n",
              "    <tr>\n",
              "      <th>235</th>\n",
              "      <td>-0.561723</td>\n",
              "      <td>0.461127</td>\n",
              "    </tr>\n",
              "    <tr>\n",
              "      <th>236</th>\n",
              "      <td>-0.375361</td>\n",
              "      <td>-1.535280</td>\n",
              "    </tr>\n",
              "    <tr>\n",
              "      <th>237</th>\n",
              "      <td>-0.449244</td>\n",
              "      <td>-0.033014</td>\n",
              "    </tr>\n",
              "    <tr>\n",
              "      <th>238</th>\n",
              "      <td>-1.857014</td>\n",
              "      <td>-0.797214</td>\n",
              "    </tr>\n",
              "    <tr>\n",
              "      <th>239</th>\n",
              "      <td>-0.001195</td>\n",
              "      <td>-0.552076</td>\n",
              "    </tr>\n",
              "  </tbody>\n",
              "</table>\n",
              "<p>240 rows × 2 columns</p>\n",
              "</div>"
            ],
            "text/plain": [
              "            0         1\n",
              "0    1.539777  0.865680\n",
              "1    1.011624 -0.677515\n",
              "2    0.776858  1.945315\n",
              "3    0.816537 -1.726808\n",
              "4   -0.924194  1.477367\n",
              "..        ...       ...\n",
              "235 -0.561723  0.461127\n",
              "236 -0.375361 -1.535280\n",
              "237 -0.449244 -0.033014\n",
              "238 -1.857014 -0.797214\n",
              "239 -0.001195 -0.552076\n",
              "\n",
              "[240 rows x 2 columns]"
            ]
          },
          "execution_count": 15,
          "metadata": {},
          "output_type": "execute_result"
        }
      ],
      "source": [
        "pd.DataFrame(X_train)"
      ]
    },
    {
      "cell_type": "markdown",
      "metadata": {},
      "source": [
        "### Dataset\n",
        "\n",
        "DataLoader에서 불러올 데이터의 형식을 지정하는 클래스. <br>\n",
        "\\_\\_getitem\\_\\_의 idx는 전체 데이터의 인덱스를 임의로 추출. <br>\n",
        "&nbsp;&nbsp;&nbsp;&nbsp;-> def \\_\\_len\\_\\_(self)에서 정의된 데이터의 크기를 사용하기에 **반드시 정의**하여야 함. <br>\n",
        "**Dataset class를 상속**받아 구현\n",
        "\n",
        "<br>\n",
        "\n",
        "<font style=\"font-size:20px\"> 사용 예제 </font> <p>\n",
        "\n",
        "> ```python\n",
        "> class CustomDataset(Dataset):\n",
        ">     def __init__(self, x, y, ...):\n",
        ">         super().__init__()\n",
        ">         self.x = x\n",
        ">         self.y = y\n",
        "> \n",
        ">     def __len__(self):\n",
        ">         return len(self.x)\n",
        "> \n",
        ">     def __getitem__(self, idx):\n",
        ">         x = self.x[idx]\n",
        ">         y = self.y[idx]\n",
        "> \n",
        ">         x = torch.Tensor(x)\n",
        ">         y = torch.Tensor(y)\n",
        ">         \n",
        ">         return x, y\n",
        "> ```"
      ]
    },
    {
      "cell_type": "code",
      "execution_count": 114,
      "metadata": {},
      "outputs": [],
      "source": [
        "class PlanarDataset(Dataset):\n",
        "    def __init__(self, X, y):\n",
        "        super().__init__()\n",
        "        self.X = X\n",
        "        self.y = y\n",
        "\n",
        "    def __len__(self): # len() 함수를 사용할 수 있게 해줌\n",
        "        return len(self.X)\n",
        "\n",
        "    def __getitem__(self, idx): # 인덱싱을 가능하게 해줌\n",
        "        X = torch.from_numpy(self.X[idx]).float()\n",
        "        y = torch.from_numpy(self.y[idx]).float()\n",
        "\n",
        "        return X, y"
      ]
    },
    {
      "cell_type": "code",
      "execution_count": 124,
      "metadata": {},
      "outputs": [],
      "source": [
        "train_dataset = PlanarDataset(X_train, y_train)\n",
        "valid_dataset = PlanarDataset(X_valid, y_valid)\n",
        "test_dataset = PlanarDataset(X_test, y_test)"
      ]
    },
    {
      "cell_type": "code",
      "execution_count": 116,
      "metadata": {},
      "outputs": [
        {
          "data": {
            "text/plain": [
              "dtype('float64')"
            ]
          },
          "execution_count": 116,
          "metadata": {},
          "output_type": "execute_result"
        }
      ],
      "source": [
        "X.dtype"
      ]
    },
    {
      "cell_type": "markdown",
      "metadata": {},
      "source": [
        "### DataLoader\n",
        "\n",
        "데이터셋을 순회(iterate)할 때 사용. <br>\n",
        "각 순회(iteration)는 batch_size의 특징(feature)과 정답(label)의 묶음(batch)을 반환. <br>\n",
        "\n",
        "<br>\n",
        "\n",
        "<font style=\"font-size:20px\"> 사용 예제 </font> <p>\n",
        "\n",
        "> ```python\n",
        "> train_dataloader = DataLoader(\n",
        ">     dataset=train_dataset,\n",
        ">     batch_size=batch_size,\n",
        ">     shuffle=False,\n",
        ">     drop_last=True,\n",
        "> )\n",
        "> \n",
        "> valid_dataloader = DataLoader(\n",
        ">     dataset=valid_dataset,\n",
        ">     batch_size=batch_size,\n",
        ">     shuffle=False,\n",
        ">     drop_last=True,\n",
        "> )\n",
        "> \n",
        "> test_dataloader = DataLoader(\n",
        ">     dataset=test_dataset,\n",
        ">     batch_size=batch_size,\n",
        ">     shuffle=False,\n",
        ">     drop_last=True,\n",
        "> )\n",
        "> ```"
      ]
    },
    {
      "cell_type": "markdown",
      "metadata": {},
      "source": [
        "### 모델 구조 정의\n",
        "\n",
        "학습 시 사용할 모델 아키텍처 정의. <br>\n",
        "- 모형 복잡도에 비해 데이터 수가 적으면 오버피팅 발생 가능성 높음\n",
        "- 모형 복잡도에 비해 데이터 수가 많으면 언더피팅 발생 가능성 높음 <br>\n",
        "\n",
        "**nn.Module을 상속받아 구현.** <br>\n",
        "생성자에서는 사용할 layer 정의 <br>\n",
        "forward 함수는 순전파 구현 <br>\n",
        "\n",
        "<br>\n",
        "\n",
        "<font style=\"font-size:20px\"> 사용 예제 </font> <p>\n",
        "\n",
        "> ```python\n",
        "> class MLP(nn.Module):\n",
        ">     def __init__(self, input_dim, hidden_dim, output_dim):\n",
        ">       super(MLP, self).__init__()\n",
        ">       self.fc1 = nn.Linear(input_dim, hidden_dim)   # input_dim: feature 수, hidden_dim: 중간에 사용될 뉴런의 수\n",
        ">       self.relu = nn.ReLU()                         # ReLU: activation function\n",
        ">       self.fc2 = nn.Linear(hidden_dim, output_dim)  # output_dim: target의 수\n",
        "> \n",
        ">     def forward(self, x):\n",
        ">       x = self.fc1(x)       # input layer -> hidden layer\n",
        ">       x = self.relu(x)      # hidden layer -> activation fuction\n",
        ">       x = self.fc2(x)       # activation function -> output layer\n",
        "> \n",
        ">       return x\n",
        "> ```"
      ]
    },
    {
      "cell_type": "code",
      "execution_count": 125,
      "metadata": {},
      "outputs": [],
      "source": [
        "train_data_loader = DataLoader(\n",
        "    dataset = train_dataset,\n",
        "    batch_size = batch_size,\n",
        "    shuffle = True,\n",
        "    drop_last = True, # batch_size로 나누고 남은것들을 버림림\n",
        ")\n",
        "\n",
        "valid_data_loader = DataLoader(\n",
        "    dataset = valid_dataset,\n",
        "    batch_size = batch_size,\n",
        "    shuffle = False, # 일반적으로 valid와 test는 False를 줌\n",
        "    drop_last = True, # batch_size로 나누고 남은것들을 버림림\n",
        ")\n",
        "\n",
        "test_data_loader = DataLoader(\n",
        "    dataset = test_dataset,\n",
        "    batch_size = batch_size,\n",
        "    shuffle = True,\n",
        "    drop_last = True, # batch_size로 나누고 남은것들을 버림림\n",
        ")"
      ]
    },
    {
      "cell_type": "markdown",
      "metadata": {},
      "source": [
        "### 모델 선언"
      ]
    },
    {
      "cell_type": "code",
      "execution_count": 118,
      "metadata": {},
      "outputs": [
        {
          "data": {
            "text/plain": [
              "7"
            ]
          },
          "execution_count": 118,
          "metadata": {},
          "output_type": "execute_result"
        }
      ],
      "source": [
        "len(list(train_data_loader)) # 묶음 수 확인"
      ]
    },
    {
      "cell_type": "code",
      "execution_count": 119,
      "metadata": {},
      "outputs": [],
      "source": [
        "X, y = list(train_data_loader)[0]"
      ]
    },
    {
      "cell_type": "code",
      "execution_count": 120,
      "metadata": {},
      "outputs": [
        {
          "data": {
            "text/plain": [
              "torch.Size([32, 2])"
            ]
          },
          "execution_count": 120,
          "metadata": {},
          "output_type": "execute_result"
        }
      ],
      "source": [
        "X.shape"
      ]
    },
    {
      "cell_type": "code",
      "execution_count": 100,
      "metadata": {},
      "outputs": [],
      "source": [
        "class MLP(nn.Module):\n",
        "    def __init__(self, input_dim, hidden_dim, output_dim):\n",
        "        super().__init__()\n",
        "        self.input_dim = input_dim\n",
        "        self.hidden_dim = hidden_dim\n",
        "        self.output_dim = output_dim\n",
        "\n",
        "        self.linear1 = nn.Linear(input_dim, hidden_dim)\n",
        "        self.tanh = nn.Tanh()\n",
        "        self.linear2 = nn.Linear(hidden_dim, output_dim)\n",
        "        self.sigmoid = nn.Sigmoid()\n",
        "\n",
        "    def forward(self, x):\n",
        "        x = self.linear1(x)\n",
        "        x = self.tanh(x)\n",
        "        x = self.linear2(x)\n",
        "        x = self.sigmoid(x)\n",
        "\n",
        "        return x\n"
      ]
    },
    {
      "cell_type": "code",
      "execution_count": 122,
      "metadata": {},
      "outputs": [],
      "source": [
        "mlp = MLP(2, 4, 1).to(device)\n"
      ]
    },
    {
      "cell_type": "code",
      "execution_count": 104,
      "metadata": {},
      "outputs": [
        {
          "data": {
            "text/plain": [
              "torch.float32"
            ]
          },
          "execution_count": 104,
          "metadata": {},
          "output_type": "execute_result"
        }
      ],
      "source": [
        "X.dtype"
      ]
    },
    {
      "cell_type": "code",
      "execution_count": 103,
      "metadata": {},
      "outputs": [
        {
          "data": {
            "text/plain": [
              "tensor([[0.5822],\n",
              "        [0.4968],\n",
              "        [0.5637],\n",
              "        [0.6223],\n",
              "        [0.5589],\n",
              "        [0.5530],\n",
              "        [0.5535],\n",
              "        [0.5682],\n",
              "        [0.6236],\n",
              "        [0.4964],\n",
              "        [0.5681],\n",
              "        [0.5931],\n",
              "        [0.5428],\n",
              "        [0.5555],\n",
              "        [0.5049],\n",
              "        [0.6279],\n",
              "        [0.5491],\n",
              "        [0.5745],\n",
              "        [0.5858],\n",
              "        [0.6255],\n",
              "        [0.6353],\n",
              "        [0.6242],\n",
              "        [0.5518],\n",
              "        [0.5903],\n",
              "        [0.5833],\n",
              "        [0.6334],\n",
              "        [0.6322],\n",
              "        [0.5632],\n",
              "        [0.5063],\n",
              "        [0.5513],\n",
              "        [0.5687],\n",
              "        [0.6135]], grad_fn=<SigmoidBackward0>)"
            ]
          },
          "execution_count": 103,
          "metadata": {},
          "output_type": "execute_result"
        }
      ],
      "source": [
        "mlp(X)"
      ]
    },
    {
      "cell_type": "markdown",
      "metadata": {},
      "source": [
        "### Loss, Optimizer 정의\n",
        "\n",
        "학습 시 사용할 loss와 optimizer 명시\n",
        "- loss: 정답과 모델 예측 값의 차이 계산\n",
        "- optimizer: parameter를 update할 로직 설정\n",
        "\n",
        "\n",
        "<br>\n",
        "\n",
        "<font style=\"font-size:20px\"> 사용 예제 </font> <p>\n",
        "\n",
        "> ```python\n",
        "> criterion = nn.CrossEntropyLoss().to(device)\n",
        "> optimizer = optim.Adam(model.parameters(), lr=learning_rate)\n",
        "> ```"
      ]
    },
    {
      "cell_type": "code",
      "execution_count": 132,
      "metadata": {},
      "outputs": [],
      "source": [
        "criterion = nn.BCELoss().to(device)\n",
        "optimizer = optim.Adam(mlp.parameters(), learning_rate)"
      ]
    },
    {
      "cell_type": "markdown",
      "metadata": {
        "id": "X13XBcb7sNJ1"
      },
      "source": [
        "### Train & Validation\n",
        "\n",
        "<font style=\"font-size:20px\"> Train </font> <p>\n",
        "정의된 loss와 optimizer를 통해 학습 진행. <br>\n",
        "모델이 주어진 데이터에서만 잘 동작하는 것(overfitting)을 주의해야 함. <br>\n",
        "\n",
        "<br>\n",
        "\n",
        "<font style=\"font-size:20px\"> Validation </font> <p>\n",
        "학습 중인 모델의 성능을 평가하기 위한 데이터. <br>\n",
        "학습 데이터에 포함되어 있지 않기에 학습 시 validation data의 패턴을 학습하지는 않으나 <br>\n",
        "학습되지 않는 데이터를 통해 현재 학습되는 모델의 성능을 평가 <br>\n",
        "오버피팅을 확인하는 목적으로 주로 사용 <br>\n",
        "\n",
        "<br>\n",
        "\n",
        "**오버피팅** <br>\n",
        "\n",
        "<img src=\"https://camo.githubusercontent.com/32695ae0709af770e85679280d75b1d377a43eac73cece31c1b03290ed8cd911/68747470733a2f2f696d67312e6461756d63646e2e6e65742f7468756d622f523132383078302f3f73636f64653d6d746973746f72793226666e616d653d6874747073253341253246253246626c6f672e6b616b616f63646e2e6e6574253246646e2532466f73304535253246627471456d6f5168385a36253246745532756e6636426e464e6d776234597873736f696b253246696d672e706e67\" width=\"500\" height=\"300\"/>\n",
        "\n",
        "주어진 데이터에 모델이 높은 결과를 내도록 적합되는 것 <br>\n",
        "이 경우 일반화 성능이 떨어지기에 오버피팅은 딥러닝 학습에서 중요한 이슈 <br>\n",
        "\n",
        "<br>\n",
        "\n",
        "<font style=\"font-size:20px\"> 사용 예제 </font> <p>\n",
        "\n",
        "> ```python\n",
        "> train_losses = []\n",
        "> train_accs = []\n",
        "> valid_losses = []\n",
        "> valid_accs = []\n",
        "> for epoch in tqdm(range(1, epochs+1)):      # 학습 횟수 설정\n",
        ">     total_train_loss = 0\n",
        ">     total_train_acc = 0\n",
        "> \n",
        ">     model.train()                           # dropout, batch norm 등 train과 train이 아닌 경우의 동작이 다를 때 학습 시 적용\n",
        ">     for X, y in train_loader:\n",
        ">         X = X.reshape(batch_size, -1).to(device)\n",
        ">         y = y.to(device)\n",
        "> \n",
        ">         optimizer.zero_grad()               # optimizer의 parameter에 대한 gradient 초기화\n",
        ">         y_pred = model(X)                   # model 예측값 계산 (순전파)\n",
        ">         train_loss = criterion(y_pred, y)   # model 예측값과 실제 값과의 loss 계산\n",
        ">         train_loss.backward()               # 계산된 loss를 바탕으로 각 parameter에 대한 기울기 계산\n",
        ">         optimizer.step()                    # 계산한 기울기를 바탕으로 parameter update\n",
        ">\n",
        ">         total_train_loss += train_loss\n",
        ">         total_train_acc += (y == result.argmax(axis=-1)).sum()\n",
        ">     \n",
        ">     mean_test_loss = total_test_loss / len(test_loader)\n",
        ">     mean_test_acc = total_test_acc / len(test_loader)\n",
        ">     train_losses.append(total_train_loss)\n",
        ">     train_accs.append(total_train_acc)\n",
        "> \n",
        ">     model.eval()                            # dropout, batch norm 등 train과 train이 아닌 경우의 동작이 다를 때 학습이 아닐 시 적용\n",
        ">     with torch.no_grad:                     # 가중치 업데이트를 진행하지 않기에 gradient 제거\n",
        ">         for X, y in valid_loader:\n",
        ">             X = X.reshape(batch_size, -1).to(device)\n",
        ">             y = y.to(device)\n",
        "> \n",
        ">             y_pred = model(X)                \n",
        ">             valid_loss = criterion(y_pred, y)\n",
        "> \n",
        ">             total_valid_loss += valid_loss\n",
        ">             total_valid_acc += (y == result.argmax(axis=-1)).sum()\n",
        "> \n",
        ">         mean_valid_loss = total_valid_loss / len(valid_loader)\n",
        ">         mean_valid_acc = total_valid_acc / len(valid_loader)\n",
        ">         valid_losses.append(mean_valid_loss)\n",
        ">         valid_accs.append(mean_valid_acc)\n",
        ">         \n",
        ">     print(f'Epoch: {epoch: 3d} | train_loss: {mean_train_loss: .6f} | train_acc = {mean_train_acc: .2f}% | valid_loss: {mean_valid_loss: .6f} | valid_acc = {mean_valid_acc: .2f}%')\n",
        "```"
      ]
    },
    {
      "cell_type": "code",
      "execution_count": 135,
      "metadata": {},
      "outputs": [
        {
          "name": "stdout",
          "output_type": "stream",
          "text": [
            "Epoch: 1 | train_loss:  0.5918 | train_acc:  66.52% | valid_loss:  0.6295 | valid_acc:  54.69%\n",
            "Epoch: 2 | train_loss:  0.5942 | train_acc:  66.96% | valid_loss:  0.6284 | valid_acc:  57.81%\n",
            "Epoch: 3 | train_loss:  0.5968 | train_acc:  66.52% | valid_loss:  0.6278 | valid_acc:  56.25%\n",
            "Epoch: 4 | train_loss:  0.5859 | train_acc:  69.20% | valid_loss:  0.6264 | valid_acc:  56.25%\n",
            "Epoch: 5 | train_loss:  0.5793 | train_acc:  69.20% | valid_loss:  0.6245 | valid_acc:  57.81%\n",
            "Epoch: 6 | train_loss:  0.5820 | train_acc:  67.86% | valid_loss:  0.6221 | valid_acc:  56.25%\n",
            "Epoch: 7 | train_loss:  0.5816 | train_acc:  68.75% | valid_loss:  0.6204 | valid_acc:  54.69%\n",
            "Epoch: 8 | train_loss:  0.5729 | train_acc:  67.86% | valid_loss:  0.6193 | valid_acc:  54.69%\n",
            "Epoch: 9 | train_loss:  0.5615 | train_acc:  69.20% | valid_loss:  0.6171 | valid_acc:  54.69%\n",
            "Epoch: 10 | train_loss:  0.5756 | train_acc:  68.30% | valid_loss:  0.6168 | valid_acc:  54.69%\n",
            "Epoch: 11 | train_loss:  0.5644 | train_acc:  69.20% | valid_loss:  0.6151 | valid_acc:  57.81%\n",
            "Epoch: 12 | train_loss:  0.5800 | train_acc:  68.30% | valid_loss:  0.6117 | valid_acc:  57.81%\n",
            "Epoch: 13 | train_loss:  0.5801 | train_acc:  67.41% | valid_loss:  0.6082 | valid_acc:  59.38%\n",
            "Epoch: 14 | train_loss:  0.5646 | train_acc:  67.86% | valid_loss:  0.6043 | valid_acc:  59.38%\n",
            "Epoch: 15 | train_loss:  0.5680 | train_acc:  70.54% | valid_loss:  0.5992 | valid_acc:  62.50%\n",
            "Epoch: 16 | train_loss:  0.5556 | train_acc:  75.45% | valid_loss:  0.5952 | valid_acc:  64.06%\n",
            "Epoch: 17 | train_loss:  0.5454 | train_acc:  76.34% | valid_loss:  0.5915 | valid_acc:  64.06%\n",
            "Epoch: 18 | train_loss:  0.5593 | train_acc:  75.89% | valid_loss:  0.5853 | valid_acc:  64.06%\n",
            "Epoch: 19 | train_loss:  0.5461 | train_acc:  75.45% | valid_loss:  0.5782 | valid_acc:  67.19%\n",
            "Epoch: 20 | train_loss:  0.5466 | train_acc:  78.12% | valid_loss:  0.5705 | valid_acc:  70.31%\n",
            "Epoch: 21 | train_loss:  0.5318 | train_acc:  79.91% | valid_loss:  0.5614 | valid_acc:  73.44%\n",
            "Epoch: 22 | train_loss:  0.5231 | train_acc:  80.36% | valid_loss:  0.5507 | valid_acc:  76.56%\n",
            "Epoch: 23 | train_loss:  0.5194 | train_acc:  81.70% | valid_loss:  0.5420 | valid_acc:  75.00%\n",
            "Epoch: 24 | train_loss:  0.4985 | train_acc:  84.38% | valid_loss:  0.5324 | valid_acc:  76.56%\n",
            "Epoch: 25 | train_loss:  0.4889 | train_acc:  85.27% | valid_loss:  0.5200 | valid_acc:  79.69%\n",
            "Epoch: 26 | train_loss:  0.4873 | train_acc:  84.38% | valid_loss:  0.5088 | valid_acc:  76.56%\n",
            "Epoch: 27 | train_loss:  0.4670 | train_acc:  86.61% | valid_loss:  0.4994 | valid_acc:  78.12%\n",
            "Epoch: 28 | train_loss:  0.4645 | train_acc:  85.71% | valid_loss:  0.4903 | valid_acc:  79.69%\n",
            "Epoch: 29 | train_loss:  0.4621 | train_acc:  85.71% | valid_loss:  0.4818 | valid_acc:  81.25%\n",
            "Epoch: 30 | train_loss:  0.4530 | train_acc:  86.16% | valid_loss:  0.4727 | valid_acc:  82.81%\n",
            "Epoch: 31 | train_loss:  0.4352 | train_acc:  86.61% | valid_loss:  0.4657 | valid_acc:  81.25%\n",
            "Epoch: 32 | train_loss:  0.4366 | train_acc:  86.61% | valid_loss:  0.4586 | valid_acc:  81.25%\n",
            "Epoch: 33 | train_loss:  0.4261 | train_acc:  86.16% | valid_loss:  0.4524 | valid_acc:  81.25%\n",
            "Epoch: 34 | train_loss:  0.4171 | train_acc:  86.61% | valid_loss:  0.4460 | valid_acc:  81.25%\n",
            "Epoch: 35 | train_loss:  0.4228 | train_acc:  85.27% | valid_loss:  0.4405 | valid_acc:  81.25%\n",
            "Epoch: 36 | train_loss:  0.4091 | train_acc:  86.16% | valid_loss:  0.4352 | valid_acc:  81.25%\n",
            "Epoch: 37 | train_loss:  0.4120 | train_acc:  85.27% | valid_loss:  0.4287 | valid_acc:  82.81%\n",
            "Epoch: 38 | train_loss:  0.3987 | train_acc:  86.16% | valid_loss:  0.4250 | valid_acc:  82.81%\n",
            "Epoch: 39 | train_loss:  0.4062 | train_acc:  86.16% | valid_loss:  0.4186 | valid_acc:  82.81%\n",
            "Epoch: 40 | train_loss:  0.3907 | train_acc:  87.95% | valid_loss:  0.4147 | valid_acc:  82.81%\n",
            "Epoch: 41 | train_loss:  0.3967 | train_acc:  86.16% | valid_loss:  0.4107 | valid_acc:  82.81%\n",
            "Epoch: 42 | train_loss:  0.3945 | train_acc:  86.61% | valid_loss:  0.4051 | valid_acc:  82.81%\n",
            "Epoch: 43 | train_loss:  0.3804 | train_acc:  87.50% | valid_loss:  0.4014 | valid_acc:  82.81%\n",
            "Epoch: 44 | train_loss:  0.3849 | train_acc:  86.61% | valid_loss:  0.3976 | valid_acc:  82.81%\n",
            "Epoch: 45 | train_loss:  0.3831 | train_acc:  86.16% | valid_loss:  0.3942 | valid_acc:  82.81%\n",
            "Epoch: 46 | train_loss:  0.3809 | train_acc:  86.61% | valid_loss:  0.3903 | valid_acc:  84.38%\n",
            "Epoch: 47 | train_loss:  0.3788 | train_acc:  86.61% | valid_loss:  0.3886 | valid_acc:  82.81%\n",
            "Epoch: 48 | train_loss:  0.3552 | train_acc:  89.29% | valid_loss:  0.3855 | valid_acc:  82.81%\n",
            "Epoch: 49 | train_loss:  0.3329 | train_acc:  89.29% | valid_loss:  0.3827 | valid_acc:  82.81%\n",
            "Epoch: 50 | train_loss:  0.3661 | train_acc:  87.95% | valid_loss:  0.3802 | valid_acc:  82.81%\n",
            "Epoch: 51 | train_loss:  0.3559 | train_acc:  87.95% | valid_loss:  0.3764 | valid_acc:  82.81%\n",
            "Epoch: 52 | train_loss:  0.3540 | train_acc:  87.50% | valid_loss:  0.3738 | valid_acc:  84.38%\n",
            "Epoch: 53 | train_loss:  0.3615 | train_acc:  87.50% | valid_loss:  0.3715 | valid_acc:  84.38%\n",
            "Epoch: 54 | train_loss:  0.3707 | train_acc:  87.50% | valid_loss:  0.3694 | valid_acc:  84.38%\n",
            "Epoch: 55 | train_loss:  0.3605 | train_acc:  86.61% | valid_loss:  0.3673 | valid_acc:  84.38%\n",
            "Epoch: 56 | train_loss:  0.3450 | train_acc:  88.84% | valid_loss:  0.3666 | valid_acc:  84.38%\n",
            "Epoch: 57 | train_loss:  0.3554 | train_acc:  88.39% | valid_loss:  0.3632 | valid_acc:  84.38%\n",
            "Epoch: 58 | train_loss:  0.3451 | train_acc:  88.84% | valid_loss:  0.3621 | valid_acc:  84.38%\n",
            "Epoch: 59 | train_loss:  0.3428 | train_acc:  88.39% | valid_loss:  0.3607 | valid_acc:  84.38%\n",
            "Epoch: 60 | train_loss:  0.3309 | train_acc:  88.84% | valid_loss:  0.3584 | valid_acc:  84.38%\n",
            "Epoch: 61 | train_loss:  0.3503 | train_acc:  87.95% | valid_loss:  0.3569 | valid_acc:  84.38%\n",
            "Epoch: 62 | train_loss:  0.3340 | train_acc:  89.29% | valid_loss:  0.3561 | valid_acc:  84.38%\n",
            "Epoch: 63 | train_loss:  0.3178 | train_acc:  89.73% | valid_loss:  0.3558 | valid_acc:  82.81%\n",
            "Epoch: 64 | train_loss:  0.3510 | train_acc:  87.50% | valid_loss:  0.3553 | valid_acc:  82.81%\n",
            "Epoch: 65 | train_loss:  0.3446 | train_acc:  86.61% | valid_loss:  0.3529 | valid_acc:  84.38%\n",
            "Epoch: 66 | train_loss:  0.3396 | train_acc:  88.39% | valid_loss:  0.3494 | valid_acc:  84.38%\n",
            "Epoch: 67 | train_loss:  0.3329 | train_acc:  88.84% | valid_loss:  0.3480 | valid_acc:  84.38%\n",
            "Epoch: 68 | train_loss:  0.3151 | train_acc:  88.84% | valid_loss:  0.3457 | valid_acc:  84.38%\n",
            "Epoch: 69 | train_loss:  0.3255 | train_acc:  89.29% | valid_loss:  0.3440 | valid_acc:  84.38%\n",
            "Epoch: 70 | train_loss:  0.3297 | train_acc:  88.39% | valid_loss:  0.3431 | valid_acc:  84.38%\n",
            "Epoch: 71 | train_loss:  0.3268 | train_acc:  89.29% | valid_loss:  0.3416 | valid_acc:  84.38%\n",
            "Epoch: 72 | train_loss:  0.3281 | train_acc:  88.84% | valid_loss:  0.3409 | valid_acc:  84.38%\n",
            "Epoch: 73 | train_loss:  0.3291 | train_acc:  88.39% | valid_loss:  0.3419 | valid_acc:  84.38%\n",
            "Epoch: 74 | train_loss:  0.3438 | train_acc:  86.61% | valid_loss:  0.3407 | valid_acc:  84.38%\n",
            "Epoch: 75 | train_loss:  0.3324 | train_acc:  87.50% | valid_loss:  0.3378 | valid_acc:  84.38%\n",
            "Epoch: 76 | train_loss:  0.3353 | train_acc:  88.39% | valid_loss:  0.3367 | valid_acc:  84.38%\n",
            "Epoch: 77 | train_loss:  0.3228 | train_acc:  90.62% | valid_loss:  0.3358 | valid_acc:  84.38%\n",
            "Epoch: 78 | train_loss:  0.3258 | train_acc:  89.29% | valid_loss:  0.3360 | valid_acc:  84.38%\n",
            "Epoch: 79 | train_loss:  0.3092 | train_acc:  90.18% | valid_loss:  0.3345 | valid_acc:  84.38%\n",
            "Epoch: 80 | train_loss:  0.3360 | train_acc:  88.84% | valid_loss:  0.3334 | valid_acc:  84.38%\n",
            "Epoch: 81 | train_loss:  0.3290 | train_acc:  89.29% | valid_loss:  0.3323 | valid_acc:  84.38%\n",
            "Epoch: 82 | train_loss:  0.3245 | train_acc:  89.29% | valid_loss:  0.3330 | valid_acc:  84.38%\n",
            "Epoch: 83 | train_loss:  0.3215 | train_acc:  89.29% | valid_loss:  0.3313 | valid_acc:  84.38%\n",
            "Epoch: 84 | train_loss:  0.3329 | train_acc:  87.95% | valid_loss:  0.3320 | valid_acc:  84.38%\n",
            "Epoch: 85 | train_loss:  0.3400 | train_acc:  88.39% | valid_loss:  0.3304 | valid_acc:  84.38%\n",
            "Epoch: 86 | train_loss:  0.3125 | train_acc:  89.73% | valid_loss:  0.3293 | valid_acc:  84.38%\n",
            "Epoch: 87 | train_loss:  0.3181 | train_acc:  89.29% | valid_loss:  0.3288 | valid_acc:  84.38%\n",
            "Epoch: 88 | train_loss:  0.3220 | train_acc:  89.29% | valid_loss:  0.3277 | valid_acc:  84.38%\n",
            "Epoch: 89 | train_loss:  0.3286 | train_acc:  87.95% | valid_loss:  0.3264 | valid_acc:  84.38%\n",
            "Epoch: 90 | train_loss:  0.3265 | train_acc:  88.39% | valid_loss:  0.3256 | valid_acc:  84.38%\n",
            "Epoch: 91 | train_loss:  0.3150 | train_acc:  89.73% | valid_loss:  0.3254 | valid_acc:  84.38%\n",
            "Epoch: 92 | train_loss:  0.3166 | train_acc:  89.29% | valid_loss:  0.3278 | valid_acc:  84.38%\n",
            "Epoch: 93 | train_loss:  0.3115 | train_acc:  90.18% | valid_loss:  0.3265 | valid_acc:  84.38%\n",
            "Epoch: 94 | train_loss:  0.3228 | train_acc:  89.29% | valid_loss:  0.3266 | valid_acc:  84.38%\n",
            "Epoch: 95 | train_loss:  0.3262 | train_acc:  89.29% | valid_loss:  0.3265 | valid_acc:  84.38%\n",
            "Epoch: 96 | train_loss:  0.3144 | train_acc:  90.18% | valid_loss:  0.3245 | valid_acc:  84.38%\n",
            "Epoch: 97 | train_loss:  0.3292 | train_acc:  88.84% | valid_loss:  0.3240 | valid_acc:  84.38%\n",
            "Epoch: 98 | train_loss:  0.3108 | train_acc:  89.29% | valid_loss:  0.3241 | valid_acc:  84.38%\n",
            "Epoch: 99 | train_loss:  0.3197 | train_acc:  88.84% | valid_loss:  0.3229 | valid_acc:  84.38%\n",
            "Epoch: 100 | train_loss:  0.3115 | train_acc:  90.62% | valid_loss:  0.3230 | valid_acc:  84.38%\n"
          ]
        }
      ],
      "source": [
        "train_losses = []\n",
        "train_accs = []\n",
        "valid_losses = []\n",
        "valid_accs = []\n",
        "\n",
        "for epoch in range(1, epochs+1):\n",
        "    ##################### Train ###########################\n",
        "    total_train_loss = 0\n",
        "    total_train_acc = 0\n",
        "\n",
        "    mlp.train()\n",
        "\n",
        "    for X, y in train_data_loader:\n",
        "        X = X.to(device) # 연산을 위해서 gpu로 보냄\n",
        "        y = y.to(device)\n",
        "        \n",
        "        optimizer.zero_grad() # 기울기 초기화\n",
        "        logit = mlp(X)\n",
        "        train_loss = criterion(logit, y) \n",
        "        train_loss.backward()\n",
        "        optimizer.step() # 파라미터 업데이트\n",
        "\n",
        "        predicted_label = torch.where(logit > 0.5, 1, 0)\n",
        "        train_acc = (predicted_label == y).float().mean()\n",
        "        total_train_loss += train_loss\n",
        "        total_train_acc += train_acc\n",
        "\n",
        "    mean_train_loss = total_train_loss /len(train_data_loader)\n",
        "    mean_train_acc = total_train_acc /len(train_data_loader)\n",
        "    train_losses.append(mean_train_loss)\n",
        "    train_accs.append(mean_train_acc)\n",
        "    \n",
        "    ##################### Validation #############################\n",
        "\n",
        "    total_valid_loss = 0\n",
        "    total_valid_acc = 0\n",
        "\n",
        "    mlp.eval()\n",
        "    with torch.no_grad(): # valid는 기울기를 안써서 없애줌줌\n",
        "        for X, y in valid_data_loader:\n",
        "            X = X.to(device) # 연산을 위해서 gpu로 보냄\n",
        "            y = y.to(device)\n",
        "            \n",
        "            logit = mlp(X)\n",
        "            valid_loss = criterion(logit, y) \n",
        "\n",
        "            predicted_label = torch.where(logit > 0.5, 1, 0)\n",
        "            valid_acc = (predicted_label == y).float().mean()\n",
        "            total_valid_loss += valid_loss\n",
        "            total_valid_acc += valid_acc\n",
        "\n",
        "    mean_valid_loss = total_valid_loss /len(valid_data_loader)\n",
        "    mean_valid_acc = total_valid_acc /len(valid_data_loader)\n",
        "    valid_losses.append(mean_valid_loss)\n",
        "    valid_accs.append(mean_valid_acc)\n",
        "\n",
        "    print(f'Epoch: {epoch} | train_loss: {mean_train_loss: .4f} | train_acc: {mean_train_acc*100: .2f}% | valid_loss: {mean_valid_loss: .4f} | valid_acc: {mean_valid_acc*100: .2f}%'  )\n",
        "    "
      ]
    },
    {
      "cell_type": "code",
      "execution_count": 136,
      "metadata": {},
      "outputs": [
        {
          "data": {
            "text/plain": [
              "<Axes: >"
            ]
          },
          "execution_count": 136,
          "metadata": {},
          "output_type": "execute_result"
        },
        {
          "data": {
            "image/png": "[encoded data removed]",
            "text/plain": [
              "<Figure size 640x480 with 1 Axes>"
            ]
          },
          "metadata": {},
          "output_type": "display_data"
        }
      ],
      "source": [
        "pd.DataFrame({\n",
        "    'train_loss' : [train_loss.item() for train_loss in train_losses],\n",
        "    'valid_loss' : [valid_loss.item() for valid_loss in valid_losses],\n",
        "}).plot()"
      ]
    },
    {
      "cell_type": "code",
      "execution_count": 137,
      "metadata": {},
      "outputs": [
        {
          "data": {
            "text/plain": [
              "OrderedDict([('linear1.weight',\n",
              "              tensor([[-0.0112,  3.2798],\n",
              "                      [ 2.2422, -2.7789],\n",
              "                      [-0.0090,  3.5127],\n",
              "                      [ 2.5160,  2.9354]])),\n",
              "             ('linear1.bias', tensor([-0.0491, -0.0404, -0.0158,  0.0704])),\n",
              "             ('linear2.weight',\n",
              "              tensor([[ 1.8812,  3.1196,  2.1307, -3.0164]])),\n",
              "             ('linear2.bias', tensor([0.0727]))])"
            ]
          },
          "execution_count": 137,
          "metadata": {},
          "output_type": "execute_result"
        }
      ],
      "source": [
        "mlp.state_dict() # 최종학습 가중치 반환"
      ]
    },
    {
      "cell_type": "code",
      "execution_count": 139,
      "metadata": {},
      "outputs": [],
      "source": [
        "torch.save(mlp.state_dict(), './model/mlp.pth')"
      ]
    },
    {
      "cell_type": "code",
      "execution_count": 140,
      "metadata": {},
      "outputs": [],
      "source": [
        "new_mlp = MLP(2, 4, 1)"
      ]
    },
    {
      "cell_type": "code",
      "execution_count": 141,
      "metadata": {},
      "outputs": [
        {
          "name": "stderr",
          "output_type": "stream",
          "text": [
            "C:\\Users\\USER\\AppData\\Local\\Temp\\ipykernel_1716\\1103206303.py:1: FutureWarning: You are using `torch.load` with `weights_only=False` (the current default value), which uses the default pickle module implicitly. It is possible to construct malicious pickle data which will execute arbitrary code during unpickling (See https://github.com/pytorch/pytorch/blob/main/SECURITY.md#untrusted-models for more details). In a future release, the default value for `weights_only` will be flipped to `True`. This limits the functions that could be executed during unpickling. Arbitrary objects will no longer be allowed to be loaded via this mode unless they are explicitly allowlisted by the user via `torch.serialization.add_safe_globals`. We recommend you start setting `weights_only=True` for any use case where you don't have full control of the loaded file. Please open an issue on GitHub for any issues related to this experimental feature.\n",
            "  new_mlp.load_state_dict(torch.load('./model/mlp.pth'))\n"
          ]
        },
        {
          "data": {
            "text/plain": [
              "<All keys matched successfully>"
            ]
          },
          "execution_count": 141,
          "metadata": {},
          "output_type": "execute_result"
        }
      ],
      "source": [
        "new_mlp.load_state_dict(torch.load('./model/mlp.pth'))"
      ]
    },
    {
      "cell_type": "code",
      "execution_count": 142,
      "metadata": {},
      "outputs": [
        {
          "data": {
            "text/plain": [
              "OrderedDict([('linear1.weight',\n",
              "              tensor([[-0.0112,  3.2798],\n",
              "                      [ 2.2422, -2.7789],\n",
              "                      [-0.0090,  3.5127],\n",
              "                      [ 2.5160,  2.9354]])),\n",
              "             ('linear1.bias', tensor([-0.0491, -0.0404, -0.0158,  0.0704])),\n",
              "             ('linear2.weight',\n",
              "              tensor([[ 1.8812,  3.1196,  2.1307, -3.0164]])),\n",
              "             ('linear2.bias', tensor([0.0727]))])"
            ]
          },
          "execution_count": 142,
          "metadata": {},
          "output_type": "execute_result"
        }
      ],
      "source": [
        "new_mlp.state_dict()"
      ]
    },
    {
      "cell_type": "code",
      "execution_count": 143,
      "metadata": {},
      "outputs": [],
      "source": [
        "scripted_model = torch.jit.script(mlp)\n",
        "scripted_model.save('./model/scripted_model.pt')"
      ]
    },
    {
      "cell_type": "code",
      "execution_count": 145,
      "metadata": {},
      "outputs": [],
      "source": [
        "loaded_scripted_model = torch.jit.load('./model/scripted_model.pt')"
      ]
    },
    {
      "cell_type": "code",
      "execution_count": 147,
      "metadata": {},
      "outputs": [
        {
          "data": {
            "text/plain": [
              "OrderedDict([('linear1.weight',\n",
              "              tensor([[-0.0112,  3.2798],\n",
              "                      [ 2.2422, -2.7789],\n",
              "                      [-0.0090,  3.5127],\n",
              "                      [ 2.5160,  2.9354]])),\n",
              "             ('linear1.bias', tensor([-0.0491, -0.0404, -0.0158,  0.0704])),\n",
              "             ('linear2.weight',\n",
              "              tensor([[ 1.8812,  3.1196,  2.1307, -3.0164]])),\n",
              "             ('linear2.bias', tensor([0.0727]))])"
            ]
          },
          "execution_count": 147,
          "metadata": {},
          "output_type": "execute_result"
        }
      ],
      "source": [
        "loaded_scripted_model.state_dict()"
      ]
    },
    {
      "cell_type": "code",
      "execution_count": 148,
      "metadata": {},
      "outputs": [],
      "source": [
        "total_test_loss = 0\n",
        "total_test_acc = 0\n",
        "\n",
        "mlp.eval()\n",
        "with torch.no_grad(): # valid는 기울기를 안써서 없애줌줌\n",
        "    for X, y in test_data_loader:\n",
        "        X = X.to(device) # 연산을 위해서 gpu로 보냄\n",
        "        y = y.to(device)\n",
        "        \n",
        "        logit = mlp(X)\n",
        "        test_loss = criterion(logit, y) \n",
        "\n",
        "        predicted_label = torch.where(logit > 0.5, 1, 0)\n",
        "        test_acc = (predicted_label == y).float().mean()\n",
        "        total_test_loss += test_loss\n",
        "        total_test_acc += test_acc\n",
        "\n",
        "    mean_test_loss = total_test_loss /len(test_data_loader)\n",
        "    mean_test_acc = total_test_acc /len(test_data_loader)"
      ]
    },
    {
      "cell_type": "code",
      "execution_count": 150,
      "metadata": {},
      "outputs": [
        {
          "data": {
            "text/plain": [
              "tensor(0.4125)"
            ]
          },
          "execution_count": 150,
          "metadata": {},
          "output_type": "execute_result"
        }
      ],
      "source": [
        "mean_test_loss"
      ]
    },
    {
      "cell_type": "code",
      "execution_count": 151,
      "metadata": {},
      "outputs": [
        {
          "data": {
            "text/plain": [
              "0.859375"
            ]
          },
          "execution_count": 151,
          "metadata": {},
          "output_type": "execute_result"
        }
      ],
      "source": [
        "mean_test_acc.item()"
      ]
    },
    {
      "cell_type": "markdown",
      "metadata": {},
      "source": [
        "### Test\n",
        "\n",
        "학습에서 사용한 모델의 성능 평가. <br>\n",
        "train의 정확도가 높았을지라도 test의 정확도가 낮을 수 있음. <br>\n",
        "&nbsp;&nbsp;&nbsp;&nbsp;이는 학습 데이터와 test 데이터가 상이함을 의미. <br>\n",
        "학습 평가 시 eval() 사용. <br>\n",
        "validation data와의 차이는 validation data는 학습 중에 사용되는 데이터이지만 <br>\n",
        "&nbsp;&nbsp;&nbsp;&nbsp;테스트 데이터는 학습이 종료된 이후 사용되는 데이터 <br>\n",
        "\n",
        "<br>\n",
        "\n",
        "<font style=\"font-size:20px\"> 사용 예제 </font> <p>\n",
        "\n",
        "> ```python\n",
        "> model.eval()                            # dropout, batch norm 등 train과 train이 아닌 경우의 동작이 다를 때 학습이 아닐 시 적용\n",
        "> with torch.no_grad:                     # 가중치 업데이트를 진행하지 않기에 gradient 제거\n",
        ">     for X, y in test_loader:\n",
        ">         X = X.reshape(batch_size, -1).to(device)\n",
        ">         y = y.to(device)\n",
        "> \n",
        ">         y_pred = model(X)                \n",
        ">         test_loss = criterion(y_pred, y)\n",
        "> \n",
        ">         total_test_loss += test_loss\n",
        ">         total_test_acc += (y == result.argmax(axis=-1)).sum()\n",
        "> \n",
        "> ```"
      ]
    },
    {
      "cell_type": "code",
      "execution_count": null,
      "metadata": {},
      "outputs": [],
      "source": []
    },
    {
      "cell_type": "markdown",
      "metadata": {},
      "source": [
        "### Save & Load\n",
        "\n",
        "학습된 모델의 weight를 저장 및 로드\n",
        "\n",
        "<br>\n",
        "\n",
        "<font style=\"font-size:20px\"> Save </font> <p>\n",
        "\n",
        "> ```python\n",
        "> torch.save(model.state_dict(), './checkpoint/model_state_dict.pth')\n",
        "> ```\n",
        "\n",
        "<br>\n",
        "\n",
        "<font style=\"font-size:20px\"> Load </font> <p>\n",
        "\n",
        "> ```python\n",
        "> model = Model()\n",
        "> model.load_state_dict(torch.load('./checkpoint/model_state_dict.pth'), map_location='cpu')\n",
        "> ```\n",
        "\n",
        "<br>\n",
        "\n",
        "<font style=\"font-size:20px\"> torch script </font> <p>\n",
        "\n",
        "```python\n",
        "scripted_model = torch.jit.script(model)\n",
        "\n",
        "# save\n",
        "scripted_model.save('./checkpoint/scripted_model.pt')\n",
        "\n",
        "# load\n",
        "loaded_model = torch.jit.load('./checkpoint/scripted_model.pt')\n",
        "```"
      ]
    },
    {
      "cell_type": "code",
      "execution_count": 33,
      "metadata": {},
      "outputs": [],
      "source": [
        "import random\n",
        "\n",
        "random.seed(seed)"
      ]
    },
    {
      "cell_type": "markdown",
      "metadata": {},
      "source": [
        "# Practice"
      ]
    },
    {
      "cell_type": "markdown",
      "metadata": {
        "id": "oEim4kEdi4VB"
      },
      "source": [
        "## MNIST\n",
        "\n",
        "- MNIST 데이터베이스 (Modified National Institute of Standards and Technology database)는 <br>\n",
        "손으로 쓴 숫자들로 이루어진 대형 데이터베이스\n",
        "- 딥러닝 예제에서 자주 사용"
      ]
    },
    {
      "cell_type": "code",
      "execution_count": 51,
      "metadata": {},
      "outputs": [
        {
          "name": "stderr",
          "output_type": "stream",
          "text": [
            "  5%|▌         | 1/20 [00:00<00:15,  1.19it/s]"
          ]
        },
        {
          "name": "stdout",
          "output_type": "stream",
          "text": [
            "Epoch: 1 | train_loss:  1.6072 | train_acc:  87.02% | valid_loss:  1.5341 | valid_acc:  93.06%\n"
          ]
        },
        {
          "name": "stderr",
          "output_type": "stream",
          "text": [
            " 10%|█         | 2/20 [00:01<00:13,  1.29it/s]"
          ]
        },
        {
          "name": "stdout",
          "output_type": "stream",
          "text": [
            "Epoch: 2 | train_loss:  1.5217 | train_acc:  94.35% | valid_loss:  1.5121 | valid_acc:  95.31%\n"
          ]
        },
        {
          "name": "stderr",
          "output_type": "stream",
          "text": [
            " 15%|█▌        | 3/20 [00:02<00:12,  1.35it/s]"
          ]
        },
        {
          "name": "stdout",
          "output_type": "stream",
          "text": [
            "Epoch: 3 | train_loss:  1.5054 | train_acc:  95.88% | valid_loss:  1.5036 | valid_acc:  95.97%\n"
          ]
        },
        {
          "name": "stderr",
          "output_type": "stream",
          "text": [
            " 20%|██        | 4/20 [00:02<00:11,  1.39it/s]"
          ]
        },
        {
          "name": "stdout",
          "output_type": "stream",
          "text": [
            "Epoch: 4 | train_loss:  1.4974 | train_acc:  96.58% | valid_loss:  1.4972 | valid_acc:  96.56%\n"
          ]
        },
        {
          "name": "stderr",
          "output_type": "stream",
          "text": [
            " 25%|██▌       | 5/20 [00:03<00:10,  1.37it/s]"
          ]
        },
        {
          "name": "stdout",
          "output_type": "stream",
          "text": [
            "Epoch: 5 | train_loss:  1.4908 | train_acc:  97.24% | valid_loss:  1.4993 | valid_acc:  96.41%\n"
          ]
        },
        {
          "name": "stderr",
          "output_type": "stream",
          "text": [
            " 30%|███       | 6/20 [00:04<00:10,  1.37it/s]"
          ]
        },
        {
          "name": "stdout",
          "output_type": "stream",
          "text": [
            "Epoch: 6 | train_loss:  1.4867 | train_acc:  97.61% | valid_loss:  1.4921 | valid_acc:  97.09%\n"
          ]
        },
        {
          "name": "stderr",
          "output_type": "stream",
          "text": [
            " 35%|███▌      | 7/20 [00:05<00:09,  1.37it/s]"
          ]
        },
        {
          "name": "stdout",
          "output_type": "stream",
          "text": [
            "Epoch: 7 | train_loss:  1.4837 | train_acc:  97.89% | valid_loss:  1.4958 | valid_acc:  96.64%\n"
          ]
        },
        {
          "name": "stderr",
          "output_type": "stream",
          "text": [
            " 40%|████      | 8/20 [00:05<00:08,  1.37it/s]"
          ]
        },
        {
          "name": "stdout",
          "output_type": "stream",
          "text": [
            "Epoch: 8 | train_loss:  1.4811 | train_acc:  98.13% | valid_loss:  1.4893 | valid_acc:  97.37%\n"
          ]
        },
        {
          "name": "stderr",
          "output_type": "stream",
          "text": [
            " 45%|████▌     | 9/20 [00:06<00:08,  1.36it/s]"
          ]
        },
        {
          "name": "stdout",
          "output_type": "stream",
          "text": [
            "Epoch: 9 | train_loss:  1.4784 | train_acc:  98.38% | valid_loss:  1.4887 | valid_acc:  97.36%\n"
          ]
        },
        {
          "name": "stderr",
          "output_type": "stream",
          "text": [
            " 50%|█████     | 10/20 [00:07<00:07,  1.33it/s]"
          ]
        },
        {
          "name": "stdout",
          "output_type": "stream",
          "text": [
            "Epoch: 10 | train_loss:  1.4781 | train_acc:  98.39% | valid_loss:  1.4877 | valid_acc:  97.49%\n"
          ]
        },
        {
          "name": "stderr",
          "output_type": "stream",
          "text": [
            " 55%|█████▌    | 11/20 [00:08<00:06,  1.31it/s]"
          ]
        },
        {
          "name": "stdout",
          "output_type": "stream",
          "text": [
            "Epoch: 11 | train_loss:  1.4757 | train_acc:  98.64% | valid_loss:  1.4868 | valid_acc:  97.53%\n"
          ]
        },
        {
          "name": "stderr",
          "output_type": "stream",
          "text": [
            " 60%|██████    | 12/20 [00:09<00:06,  1.29it/s]"
          ]
        },
        {
          "name": "stdout",
          "output_type": "stream",
          "text": [
            "Epoch: 12 | train_loss:  1.4757 | train_acc:  98.62% | valid_loss:  1.4867 | valid_acc:  97.54%\n"
          ]
        },
        {
          "name": "stderr",
          "output_type": "stream",
          "text": [
            " 65%|██████▌   | 13/20 [00:09<00:05,  1.25it/s]"
          ]
        },
        {
          "name": "stdout",
          "output_type": "stream",
          "text": [
            "Epoch: 13 | train_loss:  1.4740 | train_acc:  98.80% | valid_loss:  1.4889 | valid_acc:  97.24%\n"
          ]
        },
        {
          "name": "stderr",
          "output_type": "stream",
          "text": [
            " 70%|███████   | 14/20 [00:10<00:04,  1.22it/s]"
          ]
        },
        {
          "name": "stdout",
          "output_type": "stream",
          "text": [
            "Epoch: 14 | train_loss:  1.4738 | train_acc:  98.80% | valid_loss:  1.4883 | valid_acc:  97.35%\n"
          ]
        },
        {
          "name": "stderr",
          "output_type": "stream",
          "text": [
            " 75%|███████▌  | 15/20 [00:11<00:04,  1.19it/s]"
          ]
        },
        {
          "name": "stdout",
          "output_type": "stream",
          "text": [
            "Epoch: 15 | train_loss:  1.4734 | train_acc:  98.84% | valid_loss:  1.4880 | valid_acc:  97.31%\n"
          ]
        },
        {
          "name": "stderr",
          "output_type": "stream",
          "text": [
            " 80%|████████  | 16/20 [00:12<00:03,  1.15it/s]"
          ]
        },
        {
          "name": "stdout",
          "output_type": "stream",
          "text": [
            "Epoch: 16 | train_loss:  1.4721 | train_acc:  98.94% | valid_loss:  1.4856 | valid_acc:  97.62%\n"
          ]
        },
        {
          "name": "stderr",
          "output_type": "stream",
          "text": [
            " 85%|████████▌ | 17/20 [00:13<00:02,  1.08it/s]"
          ]
        },
        {
          "name": "stdout",
          "output_type": "stream",
          "text": [
            "Epoch: 17 | train_loss:  1.4712 | train_acc:  99.06% | valid_loss:  1.4847 | valid_acc:  97.69%\n"
          ]
        },
        {
          "name": "stderr",
          "output_type": "stream",
          "text": [
            " 90%|█████████ | 18/20 [00:14<00:01,  1.06it/s]"
          ]
        },
        {
          "name": "stdout",
          "output_type": "stream",
          "text": [
            "Epoch: 18 | train_loss:  1.4715 | train_acc:  99.00% | valid_loss:  1.4873 | valid_acc:  97.44%\n"
          ]
        },
        {
          "name": "stderr",
          "output_type": "stream",
          "text": [
            " 95%|█████████▌| 19/20 [00:15<00:00,  1.05it/s]"
          ]
        },
        {
          "name": "stdout",
          "output_type": "stream",
          "text": [
            "Epoch: 19 | train_loss:  1.4704 | train_acc:  99.11% | valid_loss:  1.4842 | valid_acc:  97.72%\n"
          ]
        },
        {
          "name": "stderr",
          "output_type": "stream",
          "text": [
            "100%|██████████| 20/20 [00:16<00:00,  1.21it/s]"
          ]
        },
        {
          "name": "stdout",
          "output_type": "stream",
          "text": [
            "Epoch: 20 | train_loss:  1.4698 | train_acc:  99.18% | valid_loss:  1.4859 | valid_acc:  97.48%\n"
          ]
        },
        {
          "name": "stderr",
          "output_type": "stream",
          "text": [
            "\n"
          ]
        }
      ],
      "source": [
        "device = 'cuda' if torch.cuda.is_available() else 'cpu'\n",
        "\n",
        "# seed\n",
        "seed = 0\n",
        "np.random.seed(seed)\n",
        "torch.manual_seed(seed)\n",
        "random.seed(seed)\n",
        "if device == 'cuda':\n",
        "    torch.cuda.manual_seed(seed)\n",
        "    torch.cuda.manual_seed_all(seed)\n",
        "    torch.backends.cudnn.deterministic = False\n",
        "    torch.backends.cudnn.benchmark = True\n",
        "\n",
        "# hyperparameter\n",
        "batch_size = 256\n",
        "epochs = 20\n",
        "learning_rate = 4e-3\n",
        "\n",
        "# data and parameter\n",
        "\n",
        "train = ds.MNIST(\n",
        "    root='data/mnist',\n",
        "    train=True,\n",
        "    transform = transforms.ToTensor(),\n",
        "    download = True,\n",
        ")\n",
        "\n",
        "test = ds.MNIST(\n",
        "    root='data/mnist',\n",
        "    train=False,\n",
        "    transform = transforms.ToTensor(),\n",
        "    download = True,\n",
        ")\n",
        "\n",
        "train, valid = train_test_split(train, test_size=0.2)\n",
        "\n",
        "class MNISTDataset(Dataset):\n",
        "    def __init__(self, data):\n",
        "        super().__init__()\n",
        "        self.data = data\n",
        "\n",
        "    def __len__(self):\n",
        "        return len(self.data)\n",
        "    \n",
        "    def __getitem__(self, idx):\n",
        "        X, y = self.data[idx]\n",
        "\n",
        "        return X, y\n",
        "    \n",
        "\n",
        "\n",
        "train_dataset = MNISTDataset(train)\n",
        "valid_dataset = MNISTDataset(valid)\n",
        "test_dataset = MNISTDataset(test)\n",
        "\n",
        "train_dataloader = DataLoader(\n",
        "    dataset = train_dataset,\n",
        "    batch_size = batch_size,\n",
        "    shuffle = True,\n",
        "    drop_last = True,\n",
        ")\n",
        "\n",
        "valid_dataloader = DataLoader(\n",
        "    dataset = valid_dataset,\n",
        "    batch_size = batch_size,\n",
        "    shuffle = False,\n",
        "    drop_last = True,\n",
        ")\n",
        "\n",
        "test_dataloader = DataLoader(\n",
        "    dataset = test_dataset,\n",
        "    batch_size = batch_size,\n",
        "    shuffle = False,\n",
        "    drop_last = True,\n",
        ")\n",
        "\n",
        "class Model(nn.Module):\n",
        "    def __init__(self, input_dim, hidden_dim, output_dim):\n",
        "        super().__init__()\n",
        "        self.input_dim = input_dim\n",
        "        self.hidden_dim = hidden_dim\n",
        "        self.output_dim = output_dim\n",
        "\n",
        "        self.linear = nn.Linear(input_dim, hidden_dim)\n",
        "        self.relu = nn.ReLU()\n",
        "        self.output = nn.Linear(hidden_dim, output_dim)\n",
        "        \n",
        "\n",
        "    def forward(self, x):\n",
        "        x = self.linear(x)\n",
        "        x = self.relu(x)\n",
        "        x = self.output(x)\n",
        "\n",
        "        return x\n",
        "    \n",
        "\n",
        "model = Model(28*28, 256, 10).to(device)\n",
        "\n",
        "criterion = nn.CrossEntropyLoss().to(device)\n",
        "optimizer = optim.Adam(model.parameters(), lr = learning_rate)\n",
        "\n",
        "\n",
        "\n",
        "train_losses = []\n",
        "train_accs = []\n",
        "valid_losses = []\n",
        "valid_accs = []\n",
        "\n",
        "for epoch in tqdm(range(1,epochs+1)):\n",
        "    total_train_acc =0\n",
        "    total_train_loss =0\n",
        "\n",
        "    model.train()\n",
        "    for X, y in train_dataloader:\n",
        "        X = X.to(device)\n",
        "        X = X.flatten(start_dim =1)\n",
        "        y = y.to(device)\n",
        "\n",
        "        optimizer.zero_grad()\n",
        "        output = model(X)\n",
        "        logit = F.softmax(output, dim =-1)\n",
        "        train_loss = criterion(logit, y)\n",
        "        train_loss.backward()\n",
        "        optimizer.step()\n",
        "\n",
        "        train_acc = (logit.argmax(dim=-1) == y).float().mean()\n",
        "        total_train_acc += train_acc\n",
        "        total_train_loss += train_loss\n",
        "\n",
        "    mean_train_acc = total_train_acc / len(train_dataloader)\n",
        "    mean_train_loss = total_train_loss / len(train_dataloader)\n",
        "    train_losses.append(mean_train_loss.item())\n",
        "    train_accs.append(mean_train_acc)\n",
        "\n",
        "    total_valid_loss = 0\n",
        "    total_valid_acc = 0\n",
        "\n",
        "    model.eval()\n",
        "    with torch.no_grad():\n",
        "        for X, y in valid_dataloader:\n",
        "            X = X.to(device)\n",
        "            X = X.flatten(start_dim = 1)\n",
        "            y = y.to(device)\n",
        "\n",
        "            \n",
        "            output = model(X)\n",
        "            logit = F.softmax(output, dim =-1)\n",
        "            valid_loss = criterion(logit, y)\n",
        "            \n",
        "\n",
        "            valid_acc = (logit.argmax(dim=-1) == y).float().mean()\n",
        "            total_valid_acc += valid_acc\n",
        "            total_valid_loss += valid_loss\n",
        "\n",
        "    mean_valid_acc = total_valid_acc / len(valid_dataloader)\n",
        "    mean_valid_loss = total_valid_loss / len(valid_dataloader)\n",
        "    valid_losses.append(mean_valid_loss.item())\n",
        "    valid_accs.append(mean_valid_acc)\n",
        "    \n",
        "    print(f'Epoch: {epoch} | train_loss: {mean_train_loss: .4f} | train_acc: {mean_train_acc*100: .2f}% | valid_loss: {mean_valid_loss: .4f} | valid_acc: {mean_valid_acc*100: .2f}%'  )\n",
        "\n",
        "\n",
        "\n"
      ]
    },
    {
      "cell_type": "code",
      "execution_count": 49,
      "metadata": {},
      "outputs": [
        {
          "name": "stdout",
          "output_type": "stream",
          "text": [
            "0.09815704822540283\n"
          ]
        }
      ],
      "source": [
        "total_test_acc = 0\n",
        "total_test_loss = 0\n",
        "\n",
        "model.eval()\n",
        "with torch.no_grad():\n",
        "    for X, y in test_dataloader:\n",
        "        X = X.to(device)\n",
        "        X = X.flatten(start_dim=1)\n",
        "        y = y.to(device)\n",
        "\n",
        "        output = model(X)\n",
        "        logit = F.softmax(output, dim=-1)\n",
        "        test_loss = criterion(logit, y)\n",
        "\n",
        "        test_acc = (logit.argmax(dim=-1) == y).float().mean()\n",
        "        total_test_acc += test_acc\n",
        "        total_test_loss += test_loss\n",
        "    \n",
        "mean_test_acc = total_test_acc / len(test_dataloader)\n",
        "print(mean_test_acc.item())"
      ]
    },
    {
      "cell_type": "code",
      "execution_count": null,
      "metadata": {},
      "outputs": [],
      "source": []
    },
    {
      "cell_type": "code",
      "execution_count": 36,
      "metadata": {},
      "outputs": [],
      "source": []
    },
    {
      "cell_type": "code",
      "execution_count": 37,
      "metadata": {},
      "outputs": [],
      "source": []
    },
    {
      "cell_type": "code",
      "execution_count": 38,
      "metadata": {},
      "outputs": [
        {
          "data": {
            "text/plain": [
              "torch.Size([256, 1, 28, 28])"
            ]
          },
          "execution_count": 38,
          "metadata": {},
          "output_type": "execute_result"
        }
      ],
      "source": [
        "list(train_dataloader)[0][0].shape"
      ]
    },
    {
      "cell_type": "code",
      "execution_count": 26,
      "metadata": {},
      "outputs": [
        {
          "data": {
            "text/plain": [
              "torch.nn.modules.module.Module"
            ]
          },
          "execution_count": 26,
          "metadata": {},
          "output_type": "execute_result"
        }
      ],
      "source": [
        "nn.Module"
      ]
    },
    {
      "cell_type": "code",
      "execution_count": 27,
      "metadata": {},
      "outputs": [],
      "source": []
    },
    {
      "cell_type": "code",
      "execution_count": 41,
      "metadata": {},
      "outputs": [],
      "source": []
    },
    {
      "cell_type": "code",
      "execution_count": null,
      "metadata": {},
      "outputs": [],
      "source": []
    },
    {
      "cell_type": "code",
      "execution_count": 43,
      "metadata": {},
      "outputs": [
        {
          "ename": "RuntimeError",
          "evalue": "mat1 and mat2 shapes cannot be multiplied (7168x28 and 784x256)",
          "output_type": "error",
          "traceback": [
            "\u001b[1;31m---------------------------------------------------------------------------\u001b[0m",
            "\u001b[1;31mRuntimeError\u001b[0m                              Traceback (most recent call last)",
            "Cell \u001b[1;32mIn[43], line 17\u001b[0m\n\u001b[0;32m     14\u001b[0m y \u001b[38;5;241m=\u001b[39m y\u001b[38;5;241m.\u001b[39mto(device)\n\u001b[0;32m     16\u001b[0m optimizer\u001b[38;5;241m.\u001b[39mzero_grad()\n\u001b[1;32m---> 17\u001b[0m output \u001b[38;5;241m=\u001b[39m \u001b[43mmodel\u001b[49m\u001b[43m(\u001b[49m\u001b[43mX\u001b[49m\u001b[43m)\u001b[49m\n\u001b[0;32m     18\u001b[0m logit \u001b[38;5;241m=\u001b[39m F\u001b[38;5;241m.\u001b[39msoftmax(output, dim \u001b[38;5;241m=\u001b[39m\u001b[38;5;241m-\u001b[39m\u001b[38;5;241m1\u001b[39m)\n\u001b[0;32m     19\u001b[0m train_loss \u001b[38;5;241m=\u001b[39m criterion(logit, y)\n",
            "File \u001b[1;32mc:\\Users\\USER\\anaconda3\\envs\\deep_learning\\lib\\site-packages\\torch\\nn\\modules\\module.py:1553\u001b[0m, in \u001b[0;36mModule._wrapped_call_impl\u001b[1;34m(self, *args, **kwargs)\u001b[0m\n\u001b[0;32m   1551\u001b[0m     \u001b[38;5;28;01mreturn\u001b[39;00m \u001b[38;5;28mself\u001b[39m\u001b[38;5;241m.\u001b[39m_compiled_call_impl(\u001b[38;5;241m*\u001b[39margs, \u001b[38;5;241m*\u001b[39m\u001b[38;5;241m*\u001b[39mkwargs)  \u001b[38;5;66;03m# type: ignore[misc]\u001b[39;00m\n\u001b[0;32m   1552\u001b[0m \u001b[38;5;28;01melse\u001b[39;00m:\n\u001b[1;32m-> 1553\u001b[0m     \u001b[38;5;28;01mreturn\u001b[39;00m \u001b[38;5;28mself\u001b[39m\u001b[38;5;241m.\u001b[39m_call_impl(\u001b[38;5;241m*\u001b[39margs, \u001b[38;5;241m*\u001b[39m\u001b[38;5;241m*\u001b[39mkwargs)\n",
            "File \u001b[1;32mc:\\Users\\USER\\anaconda3\\envs\\deep_learning\\lib\\site-packages\\torch\\nn\\modules\\module.py:1562\u001b[0m, in \u001b[0;36mModule._call_impl\u001b[1;34m(self, *args, **kwargs)\u001b[0m\n\u001b[0;32m   1557\u001b[0m \u001b[38;5;66;03m# If we don't have any hooks, we want to skip the rest of the logic in\u001b[39;00m\n\u001b[0;32m   1558\u001b[0m \u001b[38;5;66;03m# this function, and just call forward.\u001b[39;00m\n\u001b[0;32m   1559\u001b[0m \u001b[38;5;28;01mif\u001b[39;00m \u001b[38;5;129;01mnot\u001b[39;00m (\u001b[38;5;28mself\u001b[39m\u001b[38;5;241m.\u001b[39m_backward_hooks \u001b[38;5;129;01mor\u001b[39;00m \u001b[38;5;28mself\u001b[39m\u001b[38;5;241m.\u001b[39m_backward_pre_hooks \u001b[38;5;129;01mor\u001b[39;00m \u001b[38;5;28mself\u001b[39m\u001b[38;5;241m.\u001b[39m_forward_hooks \u001b[38;5;129;01mor\u001b[39;00m \u001b[38;5;28mself\u001b[39m\u001b[38;5;241m.\u001b[39m_forward_pre_hooks\n\u001b[0;32m   1560\u001b[0m         \u001b[38;5;129;01mor\u001b[39;00m _global_backward_pre_hooks \u001b[38;5;129;01mor\u001b[39;00m _global_backward_hooks\n\u001b[0;32m   1561\u001b[0m         \u001b[38;5;129;01mor\u001b[39;00m _global_forward_hooks \u001b[38;5;129;01mor\u001b[39;00m _global_forward_pre_hooks):\n\u001b[1;32m-> 1562\u001b[0m     \u001b[38;5;28;01mreturn\u001b[39;00m forward_call(\u001b[38;5;241m*\u001b[39margs, \u001b[38;5;241m*\u001b[39m\u001b[38;5;241m*\u001b[39mkwargs)\n\u001b[0;32m   1564\u001b[0m \u001b[38;5;28;01mtry\u001b[39;00m:\n\u001b[0;32m   1565\u001b[0m     result \u001b[38;5;241m=\u001b[39m \u001b[38;5;28;01mNone\u001b[39;00m\n",
            "Cell \u001b[1;32mIn[27], line 14\u001b[0m, in \u001b[0;36mModel.forward\u001b[1;34m(self, x)\u001b[0m\n\u001b[0;32m     13\u001b[0m \u001b[38;5;28;01mdef\u001b[39;00m \u001b[38;5;21mforward\u001b[39m(\u001b[38;5;28mself\u001b[39m, x):\n\u001b[1;32m---> 14\u001b[0m     x \u001b[38;5;241m=\u001b[39m \u001b[38;5;28;43mself\u001b[39;49m\u001b[38;5;241;43m.\u001b[39;49m\u001b[43mlinear\u001b[49m\u001b[43m(\u001b[49m\u001b[43mx\u001b[49m\u001b[43m)\u001b[49m\n\u001b[0;32m     15\u001b[0m     x \u001b[38;5;241m=\u001b[39m \u001b[38;5;28mself\u001b[39m\u001b[38;5;241m.\u001b[39mrelu(x)\n\u001b[0;32m     16\u001b[0m     x \u001b[38;5;241m=\u001b[39m \u001b[38;5;28mself\u001b[39m\u001b[38;5;241m.\u001b[39moutput(x)\n",
            "File \u001b[1;32mc:\\Users\\USER\\anaconda3\\envs\\deep_learning\\lib\\site-packages\\torch\\nn\\modules\\module.py:1553\u001b[0m, in \u001b[0;36mModule._wrapped_call_impl\u001b[1;34m(self, *args, **kwargs)\u001b[0m\n\u001b[0;32m   1551\u001b[0m     \u001b[38;5;28;01mreturn\u001b[39;00m \u001b[38;5;28mself\u001b[39m\u001b[38;5;241m.\u001b[39m_compiled_call_impl(\u001b[38;5;241m*\u001b[39margs, \u001b[38;5;241m*\u001b[39m\u001b[38;5;241m*\u001b[39mkwargs)  \u001b[38;5;66;03m# type: ignore[misc]\u001b[39;00m\n\u001b[0;32m   1552\u001b[0m \u001b[38;5;28;01melse\u001b[39;00m:\n\u001b[1;32m-> 1553\u001b[0m     \u001b[38;5;28;01mreturn\u001b[39;00m \u001b[38;5;28mself\u001b[39m\u001b[38;5;241m.\u001b[39m_call_impl(\u001b[38;5;241m*\u001b[39margs, \u001b[38;5;241m*\u001b[39m\u001b[38;5;241m*\u001b[39mkwargs)\n",
            "File \u001b[1;32mc:\\Users\\USER\\anaconda3\\envs\\deep_learning\\lib\\site-packages\\torch\\nn\\modules\\module.py:1562\u001b[0m, in \u001b[0;36mModule._call_impl\u001b[1;34m(self, *args, **kwargs)\u001b[0m\n\u001b[0;32m   1557\u001b[0m \u001b[38;5;66;03m# If we don't have any hooks, we want to skip the rest of the logic in\u001b[39;00m\n\u001b[0;32m   1558\u001b[0m \u001b[38;5;66;03m# this function, and just call forward.\u001b[39;00m\n\u001b[0;32m   1559\u001b[0m \u001b[38;5;28;01mif\u001b[39;00m \u001b[38;5;129;01mnot\u001b[39;00m (\u001b[38;5;28mself\u001b[39m\u001b[38;5;241m.\u001b[39m_backward_hooks \u001b[38;5;129;01mor\u001b[39;00m \u001b[38;5;28mself\u001b[39m\u001b[38;5;241m.\u001b[39m_backward_pre_hooks \u001b[38;5;129;01mor\u001b[39;00m \u001b[38;5;28mself\u001b[39m\u001b[38;5;241m.\u001b[39m_forward_hooks \u001b[38;5;129;01mor\u001b[39;00m \u001b[38;5;28mself\u001b[39m\u001b[38;5;241m.\u001b[39m_forward_pre_hooks\n\u001b[0;32m   1560\u001b[0m         \u001b[38;5;129;01mor\u001b[39;00m _global_backward_pre_hooks \u001b[38;5;129;01mor\u001b[39;00m _global_backward_hooks\n\u001b[0;32m   1561\u001b[0m         \u001b[38;5;129;01mor\u001b[39;00m _global_forward_hooks \u001b[38;5;129;01mor\u001b[39;00m _global_forward_pre_hooks):\n\u001b[1;32m-> 1562\u001b[0m     \u001b[38;5;28;01mreturn\u001b[39;00m forward_call(\u001b[38;5;241m*\u001b[39margs, \u001b[38;5;241m*\u001b[39m\u001b[38;5;241m*\u001b[39mkwargs)\n\u001b[0;32m   1564\u001b[0m \u001b[38;5;28;01mtry\u001b[39;00m:\n\u001b[0;32m   1565\u001b[0m     result \u001b[38;5;241m=\u001b[39m \u001b[38;5;28;01mNone\u001b[39;00m\n",
            "File \u001b[1;32mc:\\Users\\USER\\anaconda3\\envs\\deep_learning\\lib\\site-packages\\torch\\nn\\modules\\linear.py:117\u001b[0m, in \u001b[0;36mLinear.forward\u001b[1;34m(self, input)\u001b[0m\n\u001b[0;32m    116\u001b[0m \u001b[38;5;28;01mdef\u001b[39;00m \u001b[38;5;21mforward\u001b[39m(\u001b[38;5;28mself\u001b[39m, \u001b[38;5;28minput\u001b[39m: Tensor) \u001b[38;5;241m-\u001b[39m\u001b[38;5;241m>\u001b[39m Tensor:\n\u001b[1;32m--> 117\u001b[0m     \u001b[38;5;28;01mreturn\u001b[39;00m \u001b[43mF\u001b[49m\u001b[38;5;241;43m.\u001b[39;49m\u001b[43mlinear\u001b[49m\u001b[43m(\u001b[49m\u001b[38;5;28;43minput\u001b[39;49m\u001b[43m,\u001b[49m\u001b[43m \u001b[49m\u001b[38;5;28;43mself\u001b[39;49m\u001b[38;5;241;43m.\u001b[39;49m\u001b[43mweight\u001b[49m\u001b[43m,\u001b[49m\u001b[43m \u001b[49m\u001b[38;5;28;43mself\u001b[39;49m\u001b[38;5;241;43m.\u001b[39;49m\u001b[43mbias\u001b[49m\u001b[43m)\u001b[49m\n",
            "\u001b[1;31mRuntimeError\u001b[0m: mat1 and mat2 shapes cannot be multiplied (7168x28 and 784x256)"
          ]
        }
      ],
      "source": []
    },
    {
      "cell_type": "code",
      "execution_count": 39,
      "metadata": {},
      "outputs": [
        {
          "data": {
            "text/plain": [
              "tensor([7, 3, 2, 3, 7, 2, 0, 7, 1, 9, 7, 9, 1, 7, 0, 2, 2, 7, 9, 6, 8, 1, 5, 9,\n",
              "        3, 2, 2, 7, 8, 4, 0, 5, 2, 2, 4, 7, 5, 1, 0, 4, 8, 9, 1, 0, 3, 2, 3, 1,\n",
              "        1, 0, 6, 5, 0, 2, 9, 9, 5, 8, 0, 1, 8, 1, 9, 4, 8, 3, 4, 4, 4, 1, 0, 0,\n",
              "        7, 3, 2, 2, 2, 8, 1, 7, 4, 0, 6, 1, 2, 4, 8, 0, 4, 3, 2, 6, 7, 1, 3, 4,\n",
              "        9, 3, 0, 7, 5, 4, 6, 8, 4, 4, 5, 5, 7, 4, 1, 5, 3, 3, 2, 8, 4, 6, 1, 0,\n",
              "        4, 4, 3, 5, 9, 9, 0, 3, 3, 8, 0, 6, 8, 7, 9, 0, 0, 0, 1, 1, 2, 3, 5, 3,\n",
              "        1, 3, 7, 1, 7, 7, 2, 8, 8, 6, 7, 2, 5, 1, 5, 5, 7, 8, 1, 2, 5, 5, 0, 5,\n",
              "        8, 0, 4, 1, 3, 9, 3, 7, 9, 7, 4, 4, 8, 0, 6, 3, 5, 6, 2, 2, 7, 9, 3, 3,\n",
              "        0, 2, 1, 0, 1, 8, 2, 0, 5, 3, 0, 1, 4, 9, 8, 3, 6, 3, 5, 9, 8, 2, 9, 1,\n",
              "        6, 5, 0, 4, 4, 5, 5, 6, 1, 0, 1, 8, 7, 7, 2, 7, 1, 1, 4, 0, 5, 9, 3, 1,\n",
              "        1, 5, 5, 6, 4, 4, 1, 1, 3, 3, 3, 3, 3, 0, 8, 4])"
            ]
          },
          "execution_count": 39,
          "metadata": {},
          "output_type": "execute_result"
        }
      ],
      "source": [
        "total_valid_loss = 0\n",
        "total_valid_acc = 0\n",
        "\n",
        "mlp.eval()\n",
        "with torch.no_grad(): # valid는 기울기를 안써서 없애줌줌\n",
        "    for X, y in valid_data_loader:\n",
        "        X = X.to(device) # 연산을 위해서 gpu로 보냄\n",
        "        y = y.to(device)\n",
        "        \n",
        "        logit = mlp(X)\n",
        "        valid_loss = criterion(logit, y) \n",
        "\n",
        "        predicted_label = torch.where(logit > 0.5, 1, 0)\n",
        "        valid_acc = (predicted_label == y).float().mean()\n",
        "        total_valid_loss += valid_loss\n",
        "        total_valid_acc += valid_acc\n",
        "\n",
        "mean_valid_loss = total_valid_loss /len(valid_data_loader)\n",
        "mean_valid_acc = total_valid_acc /len(valid_data_loader)\n",
        "valid_losses.append(mean_valid_loss)\n",
        "valid_accs.append(mean_valid_acc)\n",
        "\n",
        "print(f'Epoch: {epoch} | train_loss: {mean_train_loss: .4f} | train_acc: {mean_train_acc*100: .2f}% | valid_loss: {mean_valid_loss: .4f} | valid_acc: {mean_valid_acc*100: .2f}%'  )\n"
      ]
    },
    {
      "cell_type": "markdown",
      "metadata": {},
      "source": [
        "## Diamonds"
      ]
    },
    {
      "cell_type": "code",
      "execution_count": 3,
      "metadata": {},
      "outputs": [
        {
          "data": {
            "text/html": [
              "<div>\n",
              "<style scoped>\n",
              "    .dataframe tbody tr th:only-of-type {\n",
              "        vertical-align: middle;\n",
              "    }\n",
              "\n",
              "    .dataframe tbody tr th {\n",
              "        vertical-align: top;\n",
              "    }\n",
              "\n",
              "    .dataframe thead th {\n",
              "        text-align: right;\n",
              "    }\n",
              "</style>\n",
              "<table border=\"1\" class=\"dataframe\">\n",
              "  <thead>\n",
              "    <tr style=\"text-align: right;\">\n",
              "      <th></th>\n",
              "      <th>carat</th>\n",
              "      <th>cut</th>\n",
              "      <th>color</th>\n",
              "      <th>clarity</th>\n",
              "      <th>depth</th>\n",
              "      <th>table</th>\n",
              "      <th>price</th>\n",
              "      <th>x</th>\n",
              "      <th>y</th>\n",
              "      <th>z</th>\n",
              "    </tr>\n",
              "  </thead>\n",
              "  <tbody>\n",
              "    <tr>\n",
              "      <th>0</th>\n",
              "      <td>0.23</td>\n",
              "      <td>Ideal</td>\n",
              "      <td>E</td>\n",
              "      <td>SI2</td>\n",
              "      <td>61.5</td>\n",
              "      <td>55.0</td>\n",
              "      <td>326</td>\n",
              "      <td>3.95</td>\n",
              "      <td>3.98</td>\n",
              "      <td>2.43</td>\n",
              "    </tr>\n",
              "    <tr>\n",
              "      <th>1</th>\n",
              "      <td>0.21</td>\n",
              "      <td>Premium</td>\n",
              "      <td>E</td>\n",
              "      <td>SI1</td>\n",
              "      <td>59.8</td>\n",
              "      <td>61.0</td>\n",
              "      <td>326</td>\n",
              "      <td>3.89</td>\n",
              "      <td>3.84</td>\n",
              "      <td>2.31</td>\n",
              "    </tr>\n",
              "    <tr>\n",
              "      <th>2</th>\n",
              "      <td>0.23</td>\n",
              "      <td>Good</td>\n",
              "      <td>E</td>\n",
              "      <td>VS1</td>\n",
              "      <td>56.9</td>\n",
              "      <td>65.0</td>\n",
              "      <td>327</td>\n",
              "      <td>4.05</td>\n",
              "      <td>4.07</td>\n",
              "      <td>2.31</td>\n",
              "    </tr>\n",
              "    <tr>\n",
              "      <th>3</th>\n",
              "      <td>0.29</td>\n",
              "      <td>Premium</td>\n",
              "      <td>I</td>\n",
              "      <td>VS2</td>\n",
              "      <td>62.4</td>\n",
              "      <td>58.0</td>\n",
              "      <td>334</td>\n",
              "      <td>4.20</td>\n",
              "      <td>4.23</td>\n",
              "      <td>2.63</td>\n",
              "    </tr>\n",
              "    <tr>\n",
              "      <th>4</th>\n",
              "      <td>0.31</td>\n",
              "      <td>Good</td>\n",
              "      <td>J</td>\n",
              "      <td>SI2</td>\n",
              "      <td>63.3</td>\n",
              "      <td>58.0</td>\n",
              "      <td>335</td>\n",
              "      <td>4.34</td>\n",
              "      <td>4.35</td>\n",
              "      <td>2.75</td>\n",
              "    </tr>\n",
              "    <tr>\n",
              "      <th>...</th>\n",
              "      <td>...</td>\n",
              "      <td>...</td>\n",
              "      <td>...</td>\n",
              "      <td>...</td>\n",
              "      <td>...</td>\n",
              "      <td>...</td>\n",
              "      <td>...</td>\n",
              "      <td>...</td>\n",
              "      <td>...</td>\n",
              "      <td>...</td>\n",
              "    </tr>\n",
              "    <tr>\n",
              "      <th>53935</th>\n",
              "      <td>0.72</td>\n",
              "      <td>Ideal</td>\n",
              "      <td>D</td>\n",
              "      <td>SI1</td>\n",
              "      <td>60.8</td>\n",
              "      <td>57.0</td>\n",
              "      <td>2757</td>\n",
              "      <td>5.75</td>\n",
              "      <td>5.76</td>\n",
              "      <td>3.50</td>\n",
              "    </tr>\n",
              "    <tr>\n",
              "      <th>53936</th>\n",
              "      <td>0.72</td>\n",
              "      <td>Good</td>\n",
              "      <td>D</td>\n",
              "      <td>SI1</td>\n",
              "      <td>63.1</td>\n",
              "      <td>55.0</td>\n",
              "      <td>2757</td>\n",
              "      <td>5.69</td>\n",
              "      <td>5.75</td>\n",
              "      <td>3.61</td>\n",
              "    </tr>\n",
              "    <tr>\n",
              "      <th>53937</th>\n",
              "      <td>0.70</td>\n",
              "      <td>Very Good</td>\n",
              "      <td>D</td>\n",
              "      <td>SI1</td>\n",
              "      <td>62.8</td>\n",
              "      <td>60.0</td>\n",
              "      <td>2757</td>\n",
              "      <td>5.66</td>\n",
              "      <td>5.68</td>\n",
              "      <td>3.56</td>\n",
              "    </tr>\n",
              "    <tr>\n",
              "      <th>53938</th>\n",
              "      <td>0.86</td>\n",
              "      <td>Premium</td>\n",
              "      <td>H</td>\n",
              "      <td>SI2</td>\n",
              "      <td>61.0</td>\n",
              "      <td>58.0</td>\n",
              "      <td>2757</td>\n",
              "      <td>6.15</td>\n",
              "      <td>6.12</td>\n",
              "      <td>3.74</td>\n",
              "    </tr>\n",
              "    <tr>\n",
              "      <th>53939</th>\n",
              "      <td>0.75</td>\n",
              "      <td>Ideal</td>\n",
              "      <td>D</td>\n",
              "      <td>SI2</td>\n",
              "      <td>62.2</td>\n",
              "      <td>55.0</td>\n",
              "      <td>2757</td>\n",
              "      <td>5.83</td>\n",
              "      <td>5.87</td>\n",
              "      <td>3.64</td>\n",
              "    </tr>\n",
              "  </tbody>\n",
              "</table>\n",
              "<p>53940 rows × 10 columns</p>\n",
              "</div>"
            ],
            "text/plain": [
              "       carat        cut color clarity  depth  table  price     x     y     z\n",
              "0       0.23      Ideal     E     SI2   61.5   55.0    326  3.95  3.98  2.43\n",
              "1       0.21    Premium     E     SI1   59.8   61.0    326  3.89  3.84  2.31\n",
              "2       0.23       Good     E     VS1   56.9   65.0    327  4.05  4.07  2.31\n",
              "3       0.29    Premium     I     VS2   62.4   58.0    334  4.20  4.23  2.63\n",
              "4       0.31       Good     J     SI2   63.3   58.0    335  4.34  4.35  2.75\n",
              "...      ...        ...   ...     ...    ...    ...    ...   ...   ...   ...\n",
              "53935   0.72      Ideal     D     SI1   60.8   57.0   2757  5.75  5.76  3.50\n",
              "53936   0.72       Good     D     SI1   63.1   55.0   2757  5.69  5.75  3.61\n",
              "53937   0.70  Very Good     D     SI1   62.8   60.0   2757  5.66  5.68  3.56\n",
              "53938   0.86    Premium     H     SI2   61.0   58.0   2757  6.15  6.12  3.74\n",
              "53939   0.75      Ideal     D     SI2   62.2   55.0   2757  5.83  5.87  3.64\n",
              "\n",
              "[53940 rows x 10 columns]"
            ]
          },
          "execution_count": 3,
          "metadata": {},
          "output_type": "execute_result"
        }
      ],
      "source": [
        "diamonds = sns.load_dataset('diamonds')\n",
        "device = 'cuda' if torch.cuda.is_available() else 'cpu'\n",
        "\n",
        "diamonds"
      ]
    }
  ],
  "metadata": {
    "colab": {
      "provenance": []
    },
    "kernelspec": {
      "display_name": "Python 3.9.12 ('base')",
      "language": "python",
      "name": "python3"
    },
    "language_info": {
      "codemirror_mode": {
        "name": "ipython",
        "version": 3
      },
      "file_extension": ".py",
      "mimetype": "text/x-python",
      "name": "python",
      "nbconvert_exporter": "python",
      "pygments_lexer": "ipython3",
      "version": "3.10.14"
    },
    "vscode": {
      "interpreter": {
        "hash": "e4af6128c7e0808fede432f38729c473c5b0d80882e83c469acdb54455c56396"
      }
    }
  },
  "nbformat": 4,
  "nbformat_minor": 0
}
