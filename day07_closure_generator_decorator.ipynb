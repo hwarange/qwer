{
 "cells": [
  {
   "cell_type": "markdown",
   "metadata": {},
   "source": [
    "# 11. Closure"
   ]
  },
  {
   "cell_type": "markdown",
   "metadata": {
    "vscode": {
     "languageId": "plaintext"
    }
   },
   "source": [
    "## 11.1 Closure란?\n",
    "\n",
    "어떤 함수의 내부 함수가 외부 함수의 변수(프리변수)를 참조할 때,  <br>\n",
    "외부 함수가 종료된 후에도 내부 함수가 외부 함수의 변수를 참조할 수 있도록 <br>\n",
    "어딘가에 저장하는 함수 <br>\n",
    "\n",
    "<br>\n",
    "\n",
    "프리변수(free variable): 어떤 함수에서 사용되지만 그 함수 내부에서 선언되지 않은 변수\n",
    "\n",
    "<br>\n",
    "\n",
    "클로저 함수는 아래의 조건 충족\n",
    "1. 어떤 함수의 내부 함수일 것\n",
    "2. 그 내부 함수가 외부 함수의 변수를 참조할 것\n",
    "3. 외부 함수가 내부 함수를 리턴할 것"
   ]
  },
  {
   "cell_type": "markdown",
   "metadata": {},
   "source": [
    "## 11.2 Closure 사용\n",
    "\n",
    "```python\n",
    "def print_day(day):\n",
    "    message = f'Today is a {day}'\n",
    "\n",
    "    def print_message():\n",
    "        print(message)\n",
    "\n",
    "    return print_message\n",
    "\n",
    "day = print_day('monday')\n",
    "day()\n",
    "```\n",
    "\n",
    "<br>\n",
    "\n",
    "위의 코드에서 print_message는 closure\n",
    "1. 어떤 함수의 내부 함수일 것\n",
    "    - print_message는 print_day의 내부 함수\n",
    "2. 그 내부 함수가 외부 함수의 변수를 참조할 것\n",
    "    - print_message는 외부 함수의 message를 참조\n",
    "3. 외부 함수가 내부 함수를 리턴할 것\n",
    "    - print_day는 print_message 함수 리턴\n",
    "\n",
    "<br>\n",
    "\n",
    "위의 출력 구조를 다시 보면\n",
    "1. print_day 함수에 day의 매개변수를 통해 값 입력\n",
    "2. message에 입력받은 값을 통해 Today is a monday 할당\n",
    "3. print_message 함수가 message 변수 참조\n",
    "4. print_message 함수 return\n",
    "5. day 변수가 print_message 함수 참조\n",
    "6. day 변수 실행(print message 실행)\n",
    "7. day 변수는 message 변수 출력\n",
    "\n",
    "<br>\n",
    "\n",
    "위 구조에서 4번에서 print_message 함수가 return이 되면 print_day 함수가 종료되므로 <br>\n",
    "가지고 있는 값을 모두 해제해야하므로 내부 변수인 message를 사용할 수 없는 것이 맞으나 <br>\n",
    "closure는 이를 가능케 함. 즉, 중첩 함수인 print_message가 외부 함수인 print_day의 변수인 <br>\n",
    "message를 참조하기에 message 변수와 print_message의 환경을 저장하는 closure가 동적으로 생성 <br>\n",
    "day는 이 closure를 참조하여 message 값 출력 <br>\n",
    "closure는 day 변수에 print_message가 할당될 때 생성\n",
    "\n",
    "<br>\n",
    "\n",
    "```python\n",
    "dir(day)\n",
    "dir(day.__closure__[0])\n",
    "```\n",
    "\n",
    "<br>"
   ]
  },
  {
   "cell_type": "markdown",
   "metadata": {},
   "source": [
    "## 11.3 장점\n",
    "\n",
    "**전역변수 남용 방지** <br>\n",
    "클로저를 쓰는 대신 전역변수를 선언해 상시 접근 가능하나, 변수의 책임 범위를 명확하게 할 수 없는 등의 문제 발생 <br>\n",
    "하지만 클로저를 사용하면 각 스코프가 클로저로 생성되므로 변수가 섞일 일도 없고 각 스코프에서 고유한 용도로 이용되므로 책임 범위 또한 명확 <br>\n",
    "단적으로 위의 예시에서 내부 함수가 여러 개이고, 그 여러 개의 내부 함수에서 접근할 수 있도록 전역함수를 각각 만든다면, 코드가 난잡해질 수 있음 <br>"
   ]
  },
  {
   "cell_type": "code",
   "execution_count": 20,
   "metadata": {},
   "outputs": [
    {
     "name": "stdout",
     "output_type": "stream",
     "text": [
      "Today is a monday\n"
     ]
    },
    {
     "data": {
      "text/plain": [
       "'Today is a monday'"
      ]
     },
     "execution_count": 20,
     "metadata": {},
     "output_type": "execute_result"
    }
   ],
   "source": [
    "def print_day(day):\n",
    "    message = f'Today is a {day}'\n",
    "\n",
    "    def print_message():\n",
    "        print(message)\n",
    "\n",
    "    return print_message\n",
    "\n",
    "day = print_day('monday')  # day = print_message \n",
    "day()\n",
    "\n",
    "\n",
    "day.__closure__[0].cell_contents\n"
   ]
  },
  {
   "cell_type": "markdown",
   "metadata": {},
   "source": [
    "# 12. Generator"
   ]
  },
  {
   "cell_type": "markdown",
   "metadata": {},
   "source": [
    "## 12.1 Generator란?\n",
    "\n",
    "이터레이터(iterator)를 생성하는 객체 <br>\n",
    "comprehension 또는 함수 내부에 yield 키워드 사용을 통해 생성 가능 <br>\n",
    "**lazy**연산"
   ]
  },
  {
   "cell_type": "code",
   "execution_count": null,
   "metadata": {},
   "outputs": [],
   "source": [
    "# 반복가능 객체 => 이터레이터(iterator)를 생성하는 객체\n",
    "# Generator의 이점은 Lazy연산!!!"
   ]
  },
  {
   "cell_type": "markdown",
   "metadata": {},
   "source": [
    "## 12.2 Generator 사용\n",
    "\n",
    "1.Comprehension <br>\n",
    "list comprehension 때와 비슷하게 사용하나 좌우에 ()를 사용\n",
    "```python\n",
    "(i for i in range(10))\n",
    "```\n",
    "\n",
    "<br>\n",
    "\n",
    "2.함수 내에 yield 키워드 사용\n",
    "```python\n",
    "def iter():\n",
    "    for i in range(10):\n",
    "        yield i\n",
    "```\n",
    "\n",
    "<br>\n",
    "\n",
    "더 이상 호출할 값이 없으면 StopIteration 예외 발생\n",
    "\n",
    "<br>\n",
    "\n",
    "generator 함수는 yield를 통해 값을 return하나, 함수의 종료와는 무관 <br>\n",
    "yield는 호출되면 값을 반환하며, 그 시점에서 함수를 잠시 정지 <br>\n",
    "다음 값이 호출되면 다시 로직 실행 <br>\n",
    "next를 통하여 다름 값으로 이동 가능 <br>\n",
    "\n",
    "<br>\n",
    "\n",
    "3.yield from\n",
    "함수 내에 iterable한 객체의 요소를 하나씩 return할 수 있는 키워드\n",
    "\n",
    "```python\n",
    "def iter():\n",
    "    values = range(10)\n",
    "    yield from values\n",
    "```"
   ]
  },
  {
   "cell_type": "code",
   "execution_count": null,
   "metadata": {},
   "outputs": [],
   "source": [
    "def iter():\n",
    "    for i in range(10):\n",
    "        yield i\n",
    "        yield i\n",
    "        yield i\n",
    "        yield i # yield는 함수의 마지막까지 출력\n",
    "\n"
   ]
  },
  {
   "cell_type": "code",
   "execution_count": null,
   "metadata": {},
   "outputs": [],
   "source": [
    "def test():\n",
    "    _str = [1, 2, 3, 4, 5]"
   ]
  },
  {
   "cell_type": "markdown",
   "metadata": {},
   "source": [
    "## 12.3 lazy\n",
    "\n",
    "lazy 연산은 처음에 모든 값을 연산하는 것이 아니라 <br>\n",
    "필요할 때 필요한 만큼 연산 <br>\n",
    "\n",
    "```python\n",
    "list_ = [1, 2, 3, 4, 5, 6, 7, 8, 9, 10]\n",
    "```\n",
    "\n",
    "이라고 하는 값이 있을 때 어떤 위치에 어떤 값이 존재하는지 쉽게 파악 가능하나 <br>\n",
    "이러한 구조로 표기하기 위해서는 크기가 커질 수록 메모리 낭비가 심해짐 <br>\n",
    "\n",
    "<br>\n",
    "\n",
    "하지만 lazy한 객체는 모든 요소를 저장하는 것이 아니라 시작, 다음, 언제까지 값을 줘야하는지 <br>\n",
    "등의 기본 정보만을 가지고 있고, 이 정보를 바탕으로 각 호출마다 값 바노한 <br>\n",
    "즉, 모든 값을 메모리에 올려두지 않고 호출 시 값을 계산하여 반환 <br>\n",
    "\n",
    "\n",
    "```python\n",
    "def number_generator():\n",
    "    num = 1\n",
    "    while num < 100:\n",
    "        yield num\n",
    "        num += 1\n",
    "\n",
    "numbers = number_generaotr()\n",
    "```\n",
    "\n",
    "위와 같은 예제가 있을 때, <br>\n",
    "처음 반환 값: 1, 다음 줄 값: 2, 언제까지: num < 100일 때의 상황에서 숫자를 계속 반환 <br>\n",
    "패턴이 존재한다면 lazy한 방법을 사용하는 것이 메모리 관점에서 이득이라고 할 수 있음 <br>"
   ]
  },
  {
   "cell_type": "code",
   "execution_count": 28,
   "metadata": {},
   "outputs": [
    {
     "data": {
      "text/plain": [
       "[2,\n",
       " 3,\n",
       " 4,\n",
       " 5,\n",
       " 6,\n",
       " 7,\n",
       " 8,\n",
       " 9,\n",
       " 10,\n",
       " 11,\n",
       " 12,\n",
       " 13,\n",
       " 14,\n",
       " 15,\n",
       " 16,\n",
       " 17,\n",
       " 18,\n",
       " 19,\n",
       " 20,\n",
       " 21,\n",
       " 22,\n",
       " 23,\n",
       " 24,\n",
       " 25,\n",
       " 26,\n",
       " 27,\n",
       " 28,\n",
       " 29,\n",
       " 30,\n",
       " 31,\n",
       " 32,\n",
       " 33,\n",
       " 34,\n",
       " 35,\n",
       " 36,\n",
       " 37,\n",
       " 38,\n",
       " 39,\n",
       " 40,\n",
       " 41,\n",
       " 42,\n",
       " 43,\n",
       " 44,\n",
       " 45,\n",
       " 46,\n",
       " 47,\n",
       " 48,\n",
       " 49,\n",
       " 50,\n",
       " 51,\n",
       " 52,\n",
       " 53,\n",
       " 54,\n",
       " 55,\n",
       " 56,\n",
       " 57,\n",
       " 58,\n",
       " 59,\n",
       " 60,\n",
       " 61,\n",
       " 62,\n",
       " 63,\n",
       " 64,\n",
       " 65,\n",
       " 66,\n",
       " 67,\n",
       " 68,\n",
       " 69,\n",
       " 70,\n",
       " 71,\n",
       " 72,\n",
       " 73,\n",
       " 74,\n",
       " 75,\n",
       " 76,\n",
       " 77,\n",
       " 78,\n",
       " 79,\n",
       " 80,\n",
       " 81,\n",
       " 82,\n",
       " 83,\n",
       " 84,\n",
       " 85,\n",
       " 86,\n",
       " 87,\n",
       " 88,\n",
       " 89,\n",
       " 90,\n",
       " 91,\n",
       " 92,\n",
       " 93,\n",
       " 94,\n",
       " 95,\n",
       " 96,\n",
       " 97,\n",
       " 98,\n",
       " 99]"
      ]
     },
     "execution_count": 28,
     "metadata": {},
     "output_type": "execute_result"
    }
   ],
   "source": [
    "def number_generator():\n",
    "    num = 1\n",
    "    while num < 100:\n",
    "        yield num\n",
    "        num += 1\n",
    "\n",
    "numbers = number_generator()\n",
    "\n",
    "next(numbers)\n",
    "\n",
    "[i for i in numbers]"
   ]
  },
  {
   "cell_type": "markdown",
   "metadata": {
    "vscode": {
     "languageId": "plaintext"
    }
   },
   "source": [
    "# 13. Decorator"
   ]
  },
  {
   "cell_type": "markdown",
   "metadata": {},
   "source": [
    "## 13.1 Decorator란?\n",
    "\n",
    "어떤 함수를 인자로 받아 함수 앞 뒤로 로직을 추가하여 다시 함수로 리턴하는 함수 <br>\n",
    "함수 내부에 변화를 주지 않고 로직을 추가할 때 사용 <br>\n",
    "**decorator를 통하여 함수 내부에 직접적인 수정이나 로직 변환을 가할 수 없음**\n"
   ]
  },
  {
   "cell_type": "markdown",
   "metadata": {},
   "source": [
    "## 13.2 Decorator 사용\n",
    "\n",
    "```python\n",
    "def greeting(func):\n",
    "    def wrapper(*args, **kwargs):\n",
    "        print('Nice to meet you')\n",
    "        func(*args, **kwargs)\n",
    "        print('See you again')\n",
    "\n",
    "    return wrapper\n",
    "\n",
    "@greeting\n",
    "def print_hello():\n",
    "    print('hello')\n",
    "\n",
    "print_hello()\n",
    "```\n",
    "\n",
    "위의 함수는 greeting(print_hello)와 동일하다고 볼 수 있음 <br>\n",
    "위와 같이 기존 print_hello의 함수를 그대로 두고 <br>\n",
    "함수가 가지는 기능을 greeting이라고 하는 decorator를 정의하여 확장할 수 있음 <br>"
   ]
  },
  {
   "cell_type": "code",
   "execution_count": 29,
   "metadata": {},
   "outputs": [
    {
     "name": "stdout",
     "output_type": "stream",
     "text": [
      "Nice to meet you\n",
      "hello\n",
      "See you again\n"
     ]
    }
   ],
   "source": [
    "def greeting(func): # 1. 인자로 함수가 들어감\n",
    "    def wrapper(*args, **kwargs):\n",
    "        print('Nice to meet you')\n",
    "        func(*args, **kwargs) # 2. 인자로 들어간 함수를 다시 콜해줌\n",
    "        print('See you again')\n",
    "\n",
    "    return wrapper\n",
    "\n",
    "@greeting\n",
    "def print_hello():\n",
    "    print('hello')\n",
    "\n",
    "print_hello()\n",
    "\n",
    "# greeting(print_hello())"
   ]
  },
  {
   "cell_type": "code",
   "execution_count": 34,
   "metadata": {},
   "outputs": [],
   "source": [
    "def greeting(func):\n",
    "    # *args => 1,2,3,4식으로 튜플로 받아줌\n",
    "    # **kwargs => 딕셔너리 형식으로 받아줌\n",
    "    def wrapper(a, b):\n",
    "        print('before')\n",
    "        func(a, b)\n",
    "        print('after')\n",
    "\n",
    "    return wrapper\n",
    "\n",
    "    # 함수는 별도의 공간을 만드는데 wrapper함수가 return을 하지 않아서 연산결과가 나오지 않음\n",
    "@greeting\n",
    "def add(a, b):\n",
    "    return a + b\n",
    "\n"
   ]
  },
  {
   "cell_type": "code",
   "execution_count": 36,
   "metadata": {},
   "outputs": [
    {
     "name": "stdout",
     "output_type": "stream",
     "text": [
      "before\n",
      "after\n",
      "None\n"
     ]
    }
   ],
   "source": [
    "print(add(1, 2))"
   ]
  },
  {
   "cell_type": "code",
   "execution_count": 40,
   "metadata": {},
   "outputs": [],
   "source": [
    "def greeting(func):\n",
    "    def wrapper(a, b):\n",
    "        print('before')\n",
    "        print('after')\n",
    "        return func(a, b)\n",
    "    return wrapper\n",
    "\n",
    "@greeting # 데코레이터위에 데코레이터를 씌울 수는 있으나 남용하지말자.\n",
    "def add(a, b):\n",
    "    return a + b"
   ]
  },
  {
   "cell_type": "code",
   "execution_count": 41,
   "metadata": {},
   "outputs": [
    {
     "name": "stdout",
     "output_type": "stream",
     "text": [
      "before\n",
      "after\n"
     ]
    },
    {
     "data": {
      "text/plain": [
       "3"
      ]
     },
     "execution_count": 41,
     "metadata": {},
     "output_type": "execute_result"
    }
   ],
   "source": [
    "add(1, 2)"
   ]
  },
  {
   "cell_type": "markdown",
   "metadata": {},
   "source": [
    "## 13.3 장점\n",
    "\n",
    "**코드의 중복을 최소화 및 재사용성 향상**\n",
    "\n",
    "<br>\n",
    "\n",
    "```python\n",
    "def say_hello():\n",
    "    print(\"Hello\")\n",
    "```\n",
    "<br>\n",
    "\n",
    "위의 코드를 대신하여 아래와 같이 사용할 수 있을 것\n",
    "\n",
    "<br>\n",
    "\n",
    "```python\n",
    "def say_hello(name):\n",
    "    print(\"Nice to meet you\")\n",
    "    print(\"Hello\")\n",
    "```\n",
    "\n",
    "<br>\n",
    "\n",
    "프로젝트 규모가 커지면 이러한 방식으로 함수를 하나하나 찾아가 <br>\n",
    "앞뒤로 같은 로직을 추가하는 것은 중복이 많아지고 실수 유발 가능성이 높음 <br>\n",
    "이 경우 decorator 하나만 붙이면 중복을 최소화 할 수 있고 가독성을 높히리 수 있음 <br>\n",
    "추가적으로 수정이 필요할 때도 데코레이터만 수정하면 되어 유지보수 용이 <br>"
   ]
  },
  {
   "cell_type": "markdown",
   "metadata": {},
   "source": [
    "## 13.4 단점\n",
    "\n",
    "데코레이터 중첩 사용 시 에러 발생 지점을 tracking하기 어려울 수 있음 <br>\n",
    "또한, 무분별한 사용은 코드 가독성을 오히려 떨어뜨릴 수 있음 <br>"
   ]
  },
  {
   "cell_type": "code",
   "execution_count": 3,
   "metadata": {},
   "outputs": [
    {
     "name": "stdout",
     "output_type": "stream",
     "text": [
      "1th trial. Correct\n"
     ]
    },
    {
     "data": {
      "text/plain": [
       "1.7678453922271729"
      ]
     },
     "execution_count": 3,
     "metadata": {},
     "output_type": "execute_result"
    }
   ],
   "source": [
    "import random\n",
    "import time\n",
    "\n",
    "ANSWER = random.randrange(1, 31)\n",
    "\n",
    "def playtime(func):\n",
    "    def wrapper():\n",
    "        start_time = time.time()\n",
    "        func()\n",
    "        end_time = time.time() - start_time\n",
    "\n",
    "        return end_time\n",
    "    return wrapper\n",
    "\n",
    "def input_integer():\n",
    "    try:\n",
    "        user_input_number = int(input('Enter number: '))\n",
    "        return user_input_number\n",
    "    except:\n",
    "        return input_integer()\n",
    "\n",
    "@playtime\n",
    "def game():\n",
    "    trial = 0\n",
    "    while True:\n",
    "        trial += 1\n",
    "\n",
    "        if trial > 3:\n",
    "            print('exceed maximum trial')\n",
    "            break\n",
    "\n",
    "        user_input_number = input_integer()\n",
    "\n",
    "        if user_input_number == ANSWER:    \n",
    "            print(f'{trial}th trial. Correct')\n",
    "            break\n",
    "        \n",
    "        print(f'{trial}th trial. Incorrect')\n",
    "\n",
    "game()\n",
    "\n"
   ]
  },
  {
   "cell_type": "code",
   "execution_count": null,
   "metadata": {},
   "outputs": [],
   "source": [
    "## 게임 로그 기록 코드 작성\n",
    "import time\n",
    "import random\n",
    "\n",
    "def input_integer():\n",
    "        try:\n",
    "            user_input_number = int(input('Enter number: '))\n",
    "            return user_input_number\n",
    "        except:\n",
    "            return input_integer()\n",
    "        \n",
    "with open('log.log', 'w') as file:\n",
    "    start_time = time.time()\n",
    "    file.write(f'[{time.ctime(time.time())}]게임 시작 시간\\n')\n",
    "\n",
    "    ANSWER = random.randrange(1, 31)\n",
    "    file.write(f'[{time.ctime(time.time())}]정답: {ANSWER}\\n')\n",
    "    trial = 0\n",
    "\n",
    "        \n",
    "    while True:\n",
    "        trial += 1\n",
    "\n",
    "        if trial > 3:\n",
    "            print('exceed maximum trial')\n",
    "            file.write(f'[{time.ctime(time.time())}] 최대 허용 시도 횟수 초과\\n')\n",
    "            break\n",
    "\n",
    "        user_input_number = input_integer()\n",
    "        file.write(f'[{time.ctime(time.time())}]사용자가 입력한 숫자: {user_input_number}\\n')\n",
    "\n",
    "        if user_input_number == ANSWER :\n",
    "            print(f'{trial}th trial. Correct')\n",
    "            file.write(f'[{time.ctime(time.time())}]{trial}th trial. Correct\\n')\n",
    "\n",
    "        print(f'{trial}th trial. Incorrect')\n",
    "        file.write(f'[{time.ctime(time.time())}]{trial}th trial. Incorrect\\n')\n",
    "    \n",
    "    print(f'play time: {time.time() - start_time}')\n",
    "    file.write(f'[{time.ctime(time.time())}] play time: {time.time() - start_time}\\n')\n",
    "\n",
    "\n",
    "\n"
   ]
  },
  {
   "cell_type": "code",
   "execution_count": 1,
   "metadata": {},
   "outputs": [
    {
     "name": "stdout",
     "output_type": "stream",
     "text": [
      "right\n",
      "wrong\n",
      "right\n"
     ]
    }
   ],
   "source": [
    "while True:\n",
    "    a, b, c = map(int, input().split())\n",
    "    max = 0\n",
    "    min = 0\n",
    "    avg = 0\n",
    "    if a <= b < c :\n",
    "        max = c\n",
    "        min = a\n",
    "        avg = b\n",
    "    elif b <= a < c :\n",
    "        max = c\n",
    "        min = b\n",
    "        avg = a\n",
    "    elif c <= a < b :\n",
    "        max = b\n",
    "        min = c\n",
    "        avg = a\n",
    "    elif b <= c < a:\n",
    "        max = a\n",
    "        min = b\n",
    "        avg = c\n",
    "    elif c <= b < a:\n",
    "        max = a\n",
    "        min = c\n",
    "        avg = b\n",
    "    else:\n",
    "        a, b, c = max, min, avg\n",
    "        \n",
    "    if a == b == c == 0 :\n",
    "        break\n",
    "\n",
    "\n",
    "    if(avg*avg) + (min*min) == (max*max):\n",
    "        print('right')\n",
    "    else:\n",
    "        print('wrong')"
   ]
  }
 ],
 "metadata": {
  "kernelspec": {
   "display_name": "post_tips",
   "language": "python",
   "name": "python3"
  },
  "language_info": {
   "codemirror_mode": {
    "name": "ipython",
    "version": 3
   },
   "file_extension": ".py",
   "mimetype": "text/x-python",
   "name": "python",
   "nbconvert_exporter": "python",
   "pygments_lexer": "ipython3",
   "version": "3.12.4"
  }
 },
 "nbformat": 4,
 "nbformat_minor": 2
}
